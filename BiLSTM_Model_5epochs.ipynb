{
 "cells": [
  {
   "cell_type": "code",
   "execution_count": 0,
   "metadata": {
    "id": "kjt9iuwEgm5T",
    "colab_type": "code",
    "colab": {}
   },
   "outputs": [],
   "source": [
    "import csv\n",
    "import torch\n",
    "import torch.nn as nn\n",
    "import torch.nn.functional as F\n",
    "import torch.optim as optim\n",
    "import torchtext\n",
    "import numpy as np\n",
    "import matplotlib.pyplot as plt"
   ]
  },
  {
   "cell_type": "code",
   "execution_count": 0,
   "metadata": {
    "id": "tGMIDRTHgm5b",
    "colab_type": "code",
    "colab": {}
   },
   "outputs": [],
   "source": [
    "import pandas"
   ]
  },
  {
   "cell_type": "code",
   "execution_count": 0,
   "metadata": {
    "id": "26_C6S4Ugm5e",
    "colab_type": "code",
    "colab": {}
   },
   "outputs": [],
   "source": [
    "def get_data():\n",
    "    header = ['tweet','label']\n",
    "    data_set = pandas.read_csv('cleaned_data.txt',delimiter='\\t',names = header)\n",
    "    return data_set\n",
    "\n",
    "def split_tweet(tweet):\n",
    "    return tweet.split()    \n"
   ]
  },
  {
   "cell_type": "code",
   "execution_count": 0,
   "metadata": {
    "id": "bmOzSIDpgm5h",
    "colab_type": "code",
    "colab": {}
   },
   "outputs": [],
   "source": [
    "data_set = get_data()"
   ]
  },
  {
   "cell_type": "code",
   "execution_count": 9,
   "metadata": {
    "id": "ey347C1Zgm5l",
    "colab_type": "code",
    "colab": {
     "base_uri": "https://localhost:8080/",
     "height": 51.0
    },
    "outputId": "36bd4656-3169-401b-9720-5a30d0370241"
   },
   "outputs": [
    {
     "name": "stderr",
     "output_type": "stream",
     "text": [
      ".vector_cache/glove.twitter.27B.zip: 1.52GB [09:03, 2.80MB/s]                            \n",
      "100%|█████████▉| 1190439/1193514 [00:35<00:00, 33212.45it/s]"
     ]
    }
   ],
   "source": [
    "glove = torchtext.vocab.GloVe(name=\"twitter.27B\",dim=50)\n",
    "\n",
    "# inser padding character into glove embedding, we overwrite the first element and that's okay\n",
    "# because we don't use the first element in our vocab\n",
    "glove.vectors[0] = torch.tensor(np.zeros(50))"
   ]
  },
  {
   "cell_type": "code",
   "execution_count": 10,
   "metadata": {
    "id": "sQ8JIzR4gm5q",
    "colab_type": "code",
    "outputId": "2b0f701a-02d9-4d40-95b9-d16eaaaf6a68",
    "colab": {
     "base_uri": "https://localhost:8080/",
     "height": 34.0
    }
   },
   "outputs": [
    {
     "data": {
      "text/plain": [
       "320928"
      ]
     },
     "execution_count": 10,
     "metadata": {
      "tags": []
     },
     "output_type": "execute_result"
    }
   ],
   "source": [
    "len(data_set)"
   ]
  },
  {
   "cell_type": "code",
   "execution_count": 11,
   "metadata": {
    "id": "tA4Ahaifgm53",
    "colab_type": "code",
    "outputId": "cda2797a-d29a-4ced-a6d8-36b95a6d07b6",
    "colab": {
     "base_uri": "https://localhost:8080/",
     "height": 1969.0
    }
   },
   "outputs": [
    {
     "data": {
      "text/html": [
       "<div>\n",
       "<style scoped>\n",
       "    .dataframe tbody tr th:only-of-type {\n",
       "        vertical-align: middle;\n",
       "    }\n",
       "\n",
       "    .dataframe tbody tr th {\n",
       "        vertical-align: top;\n",
       "    }\n",
       "\n",
       "    .dataframe thead th {\n",
       "        text-align: right;\n",
       "    }\n",
       "</style>\n",
       "<table border=\"1\" class=\"dataframe\">\n",
       "  <thead>\n",
       "    <tr style=\"text-align: right;\">\n",
       "      <th></th>\n",
       "      <th>tweet</th>\n",
       "      <th>label</th>\n",
       "    </tr>\n",
       "  </thead>\n",
       "  <tbody>\n",
       "    <tr>\n",
       "      <th>0</th>\n",
       "      <td>hoping i dont screw up this interview</td>\n",
       "      <td>0</td>\n",
       "    </tr>\n",
       "    <tr>\n",
       "      <th>1</th>\n",
       "      <td>i feel like a baby kangaroo stuck in its mothe...</td>\n",
       "      <td>1</td>\n",
       "    </tr>\n",
       "    <tr>\n",
       "      <th>2</th>\n",
       "      <td>girl ppl should be happy i even remembered her...</td>\n",
       "      <td>0</td>\n",
       "    </tr>\n",
       "    <tr>\n",
       "      <th>3</th>\n",
       "      <td>oh ,  the irony if misha wins the choice tv sc...</td>\n",
       "      <td>2</td>\n",
       "    </tr>\n",
       "    <tr>\n",
       "      <th>4</th>\n",
       "      <td>i miss you to  ,  you so fake now</td>\n",
       "      <td>2</td>\n",
       "    </tr>\n",
       "    <tr>\n",
       "      <th>5</th>\n",
       "      <td>i miss you to  ,  you so fake now</td>\n",
       "      <td>4</td>\n",
       "    </tr>\n",
       "    <tr>\n",
       "      <th>6</th>\n",
       "      <td>i know</td>\n",
       "      <td>1</td>\n",
       "    </tr>\n",
       "    <tr>\n",
       "      <th>7</th>\n",
       "      <td>bacolod please ? !</td>\n",
       "      <td>0</td>\n",
       "    </tr>\n",
       "    <tr>\n",
       "      <th>8</th>\n",
       "      <td>things can change so quickly</td>\n",
       "      <td>1</td>\n",
       "    </tr>\n",
       "    <tr>\n",
       "      <th>9</th>\n",
       "      <td>all me &amp;amp ;  vic do is laugh .  .  anybody o...</td>\n",
       "      <td>1</td>\n",
       "    </tr>\n",
       "    <tr>\n",
       "      <th>10</th>\n",
       "      <td>do u have to remind me i was bored right after...</td>\n",
       "      <td>0</td>\n",
       "    </tr>\n",
       "    <tr>\n",
       "      <th>11</th>\n",
       "      <td>its ok love .  you are sweet ,  but i know you...</td>\n",
       "      <td>0</td>\n",
       "    </tr>\n",
       "    <tr>\n",
       "      <th>12</th>\n",
       "      <td>nainai has said bitch twice in 4 minutes and i...</td>\n",
       "      <td>0</td>\n",
       "    </tr>\n",
       "    <tr>\n",
       "      <th>13</th>\n",
       "      <td>louis thank you for everything you do you dese...</td>\n",
       "      <td>0</td>\n",
       "    </tr>\n",
       "    <tr>\n",
       "      <th>14</th>\n",
       "      <td>impractical jokers its almost always on in our...</td>\n",
       "      <td>0</td>\n",
       "    </tr>\n",
       "    <tr>\n",
       "      <th>15</th>\n",
       "      <td>my eyes are in pain .  cant get over the movie...</td>\n",
       "      <td>1</td>\n",
       "    </tr>\n",
       "    <tr>\n",
       "      <th>16</th>\n",
       "      <td>daydrinking</td>\n",
       "      <td>0</td>\n",
       "    </tr>\n",
       "    <tr>\n",
       "      <th>17</th>\n",
       "      <td>genitin</td>\n",
       "      <td>0</td>\n",
       "    </tr>\n",
       "    <tr>\n",
       "      <th>18</th>\n",
       "      <td>like like like</td>\n",
       "      <td>0</td>\n",
       "    </tr>\n",
       "    <tr>\n",
       "      <th>19</th>\n",
       "      <td>eye need to get these brows done asap</td>\n",
       "      <td>1</td>\n",
       "    </tr>\n",
       "    <tr>\n",
       "      <th>20</th>\n",
       "      <td>i almost choked on my retainer just now</td>\n",
       "      <td>1</td>\n",
       "    </tr>\n",
       "    <tr>\n",
       "      <th>21</th>\n",
       "      <td>ms .  mendiola works miracles! shes so great</td>\n",
       "      <td>1</td>\n",
       "    </tr>\n",
       "    <tr>\n",
       "      <th>22</th>\n",
       "      <td>oh and parking dont even get me started on the...</td>\n",
       "      <td>2</td>\n",
       "    </tr>\n",
       "    <tr>\n",
       "      <th>23</th>\n",
       "      <td>oh and parking dont even get me started on the...</td>\n",
       "      <td>4</td>\n",
       "    </tr>\n",
       "    <tr>\n",
       "      <th>24</th>\n",
       "      <td>trying to stay my ass in the burbs but im gett...</td>\n",
       "      <td>1</td>\n",
       "    </tr>\n",
       "    <tr>\n",
       "      <th>25</th>\n",
       "      <td>oh my god riley is so cute</td>\n",
       "      <td>0</td>\n",
       "    </tr>\n",
       "    <tr>\n",
       "      <th>26</th>\n",
       "      <td>why doe</td>\n",
       "      <td>0</td>\n",
       "    </tr>\n",
       "    <tr>\n",
       "      <th>27</th>\n",
       "      <td>i cant wait to be on the beach tomorrow</td>\n",
       "      <td>0</td>\n",
       "    </tr>\n",
       "    <tr>\n",
       "      <th>28</th>\n",
       "      <td>- warrior basti also will have his claws cut .</td>\n",
       "      <td>0</td>\n",
       "    </tr>\n",
       "    <tr>\n",
       "      <th>29</th>\n",
       "      <td>not bein selfish .  .  im only workin wit one arm</td>\n",
       "      <td>0</td>\n",
       "    </tr>\n",
       "    <tr>\n",
       "      <th>...</th>\n",
       "      <td>...</td>\n",
       "      <td>...</td>\n",
       "    </tr>\n",
       "    <tr>\n",
       "      <th>320898</th>\n",
       "      <td>no ,  im not</td>\n",
       "      <td>3</td>\n",
       "    </tr>\n",
       "    <tr>\n",
       "      <th>320899</th>\n",
       "      <td>no ,  im not</td>\n",
       "      <td>5</td>\n",
       "    </tr>\n",
       "    <tr>\n",
       "      <th>320900</th>\n",
       "      <td>turning 20 in 9 days</td>\n",
       "      <td>2</td>\n",
       "    </tr>\n",
       "    <tr>\n",
       "      <th>320901</th>\n",
       "      <td>turning 20 in 9 days</td>\n",
       "      <td>5</td>\n",
       "    </tr>\n",
       "    <tr>\n",
       "      <th>320902</th>\n",
       "      <td>im tweeting lyrics</td>\n",
       "      <td>3</td>\n",
       "    </tr>\n",
       "    <tr>\n",
       "      <th>320903</th>\n",
       "      <td>im tweeting lyrics</td>\n",
       "      <td>5</td>\n",
       "    </tr>\n",
       "    <tr>\n",
       "      <th>320904</th>\n",
       "      <td>you dont realize how powerful snapchat filters...</td>\n",
       "      <td>3</td>\n",
       "    </tr>\n",
       "    <tr>\n",
       "      <th>320905</th>\n",
       "      <td>you dont realize how powerful snapchat filters...</td>\n",
       "      <td>5</td>\n",
       "    </tr>\n",
       "    <tr>\n",
       "      <th>320906</th>\n",
       "      <td>free ?</td>\n",
       "      <td>3</td>\n",
       "    </tr>\n",
       "    <tr>\n",
       "      <th>320907</th>\n",
       "      <td>free ?</td>\n",
       "      <td>5</td>\n",
       "    </tr>\n",
       "    <tr>\n",
       "      <th>320908</th>\n",
       "      <td>dean fucking ambrose is the wwe champion! holy...</td>\n",
       "      <td>5</td>\n",
       "    </tr>\n",
       "    <tr>\n",
       "      <th>320909</th>\n",
       "      <td>the line taco bell rn is ridiculous</td>\n",
       "      <td>3</td>\n",
       "    </tr>\n",
       "    <tr>\n",
       "      <th>320910</th>\n",
       "      <td>the line taco bell rn is ridiculous</td>\n",
       "      <td>5</td>\n",
       "    </tr>\n",
       "    <tr>\n",
       "      <th>320911</th>\n",
       "      <td>a frog just followed me into my house .  .  .  .</td>\n",
       "      <td>3</td>\n",
       "    </tr>\n",
       "    <tr>\n",
       "      <th>320912</th>\n",
       "      <td>a frog just followed me into my house .  .  .  .</td>\n",
       "      <td>5</td>\n",
       "    </tr>\n",
       "    <tr>\n",
       "      <th>320913</th>\n",
       "      <td>posted about this earlier .  . my mind was blown</td>\n",
       "      <td>3</td>\n",
       "    </tr>\n",
       "    <tr>\n",
       "      <th>320914</th>\n",
       "      <td>posted about this earlier .  . my mind was blown</td>\n",
       "      <td>5</td>\n",
       "    </tr>\n",
       "    <tr>\n",
       "      <th>320915</th>\n",
       "      <td>okay klay</td>\n",
       "      <td>3</td>\n",
       "    </tr>\n",
       "    <tr>\n",
       "      <th>320916</th>\n",
       "      <td>okay klay</td>\n",
       "      <td>5</td>\n",
       "    </tr>\n",
       "    <tr>\n",
       "      <th>320917</th>\n",
       "      <td>why touch the mans toastie that would piss me ...</td>\n",
       "      <td>3</td>\n",
       "    </tr>\n",
       "    <tr>\n",
       "      <th>320918</th>\n",
       "      <td>why touch the mans toastie that would piss me ...</td>\n",
       "      <td>5</td>\n",
       "    </tr>\n",
       "    <tr>\n",
       "      <th>320919</th>\n",
       "      <td>imagine if tupac had a twitter</td>\n",
       "      <td>3</td>\n",
       "    </tr>\n",
       "    <tr>\n",
       "      <th>320920</th>\n",
       "      <td>imagine if tupac had a twitter</td>\n",
       "      <td>5</td>\n",
       "    </tr>\n",
       "    <tr>\n",
       "      <th>320921</th>\n",
       "      <td>me last summer .  .  .  i watched each movie a...</td>\n",
       "      <td>3</td>\n",
       "    </tr>\n",
       "    <tr>\n",
       "      <th>320922</th>\n",
       "      <td>me last summer .  .  .  i watched each movie a...</td>\n",
       "      <td>5</td>\n",
       "    </tr>\n",
       "    <tr>\n",
       "      <th>320923</th>\n",
       "      <td>vegas and phoenix weather is crazy this weekend</td>\n",
       "      <td>5</td>\n",
       "    </tr>\n",
       "    <tr>\n",
       "      <th>320924</th>\n",
       "      <td>leavers have not been represented today at #pm...</td>\n",
       "      <td>5</td>\n",
       "    </tr>\n",
       "    <tr>\n",
       "      <th>320925</th>\n",
       "      <td>gotta get up in 1hr</td>\n",
       "      <td>5</td>\n",
       "    </tr>\n",
       "    <tr>\n",
       "      <th>320926</th>\n",
       "      <td>i wanted to sniff cocaine</td>\n",
       "      <td>2</td>\n",
       "    </tr>\n",
       "    <tr>\n",
       "      <th>320927</th>\n",
       "      <td>i wanted to sniff cocaine</td>\n",
       "      <td>5</td>\n",
       "    </tr>\n",
       "  </tbody>\n",
       "</table>\n",
       "<p>320928 rows × 2 columns</p>\n",
       "</div>"
      ],
      "text/plain": [
       "                                                    tweet  label\n",
       "0                   hoping i dont screw up this interview      0\n",
       "1       i feel like a baby kangaroo stuck in its mothe...      1\n",
       "2       girl ppl should be happy i even remembered her...      0\n",
       "3       oh ,  the irony if misha wins the choice tv sc...      2\n",
       "4                       i miss you to  ,  you so fake now      2\n",
       "5                       i miss you to  ,  you so fake now      4\n",
       "6                                                  i know      1\n",
       "7                                      bacolod please ? !      0\n",
       "8                            things can change so quickly      1\n",
       "9       all me &amp ;  vic do is laugh .  .  anybody o...      1\n",
       "10      do u have to remind me i was bored right after...      0\n",
       "11      its ok love .  you are sweet ,  but i know you...      0\n",
       "12      nainai has said bitch twice in 4 minutes and i...      0\n",
       "13      louis thank you for everything you do you dese...      0\n",
       "14      impractical jokers its almost always on in our...      0\n",
       "15      my eyes are in pain .  cant get over the movie...      1\n",
       "16                                            daydrinking      0\n",
       "17                                                genitin      0\n",
       "18                                         like like like      0\n",
       "19                  eye need to get these brows done asap      1\n",
       "20                i almost choked on my retainer just now      1\n",
       "21           ms .  mendiola works miracles! shes so great      1\n",
       "22      oh and parking dont even get me started on the...      2\n",
       "23      oh and parking dont even get me started on the...      4\n",
       "24      trying to stay my ass in the burbs but im gett...      1\n",
       "25                             oh my god riley is so cute      0\n",
       "26                                                why doe      0\n",
       "27                i cant wait to be on the beach tomorrow      0\n",
       "28        - warrior basti also will have his claws cut .       0\n",
       "29      not bein selfish .  .  im only workin wit one arm      0\n",
       "...                                                   ...    ...\n",
       "320898                                       no ,  im not      3\n",
       "320899                                       no ,  im not      5\n",
       "320900                               turning 20 in 9 days      2\n",
       "320901                               turning 20 in 9 days      5\n",
       "320902                                 im tweeting lyrics      3\n",
       "320903                                 im tweeting lyrics      5\n",
       "320904  you dont realize how powerful snapchat filters...      3\n",
       "320905  you dont realize how powerful snapchat filters...      5\n",
       "320906                                            free ?       3\n",
       "320907                                            free ?       5\n",
       "320908  dean fucking ambrose is the wwe champion! holy...      5\n",
       "320909                the line taco bell rn is ridiculous      3\n",
       "320910                the line taco bell rn is ridiculous      5\n",
       "320911  a frog just followed me into my house .  .  .  .       3\n",
       "320912  a frog just followed me into my house .  .  .  .       5\n",
       "320913   posted about this earlier .  . my mind was blown      3\n",
       "320914   posted about this earlier .  . my mind was blown      5\n",
       "320915                                          okay klay      3\n",
       "320916                                          okay klay      5\n",
       "320917  why touch the mans toastie that would piss me ...      3\n",
       "320918  why touch the mans toastie that would piss me ...      5\n",
       "320919                     imagine if tupac had a twitter      3\n",
       "320920                     imagine if tupac had a twitter      5\n",
       "320921  me last summer .  .  .  i watched each movie a...      3\n",
       "320922  me last summer .  .  .  i watched each movie a...      5\n",
       "320923    vegas and phoenix weather is crazy this weekend      5\n",
       "320924  leavers have not been represented today at #pm...      5\n",
       "320925                                gotta get up in 1hr      5\n",
       "320926                          i wanted to sniff cocaine      2\n",
       "320927                          i wanted to sniff cocaine      5\n",
       "\n",
       "[320928 rows x 2 columns]"
      ]
     },
     "execution_count": 11,
     "metadata": {
      "tags": []
     },
     "output_type": "execute_result"
    }
   ],
   "source": [
    "data_set"
   ]
  },
  {
   "cell_type": "code",
   "execution_count": 0,
   "metadata": {
    "id": "cWYeV80Sgm59",
    "colab_type": "code",
    "colab": {}
   },
   "outputs": [],
   "source": [
    "def data_set_to_glove_index(glove_dict):\n",
    "    tweets_ints, encoded_labels = [],[]\n",
    "    for i in range(len(data_set)):\n",
    "        tweet = data_set['tweet'][i]\n",
    "        label = data_set['label'][i]\n",
    "        if(type(tweet) != str):\n",
    "            continue\n",
    "        idxs = [glove_dict.stoi[w]        # lookup the index of word\n",
    "            for w in tweet.split()\n",
    "            if w in glove_dict.stoi] # keep words that has an embedding\n",
    "        if not idxs: # ignore tweets without any word with an embedding\n",
    "            continue\n",
    "        tweets_ints.append(idxs)\n",
    "        encoded_labels.append(label)\n",
    "    return tweets_ints, encoded_labels"
   ]
  },
  {
   "cell_type": "code",
   "execution_count": 0,
   "metadata": {
    "id": "uci6Anmugm5-",
    "colab_type": "code",
    "colab": {}
   },
   "outputs": [],
   "source": [
    "tweets_ints, encoded_labels = data_set_to_glove_index(glove)"
   ]
  },
  {
   "cell_type": "code",
   "execution_count": 14,
   "metadata": {
    "id": "sB-kS3issuZ8",
    "colab_type": "code",
    "outputId": "c898db53-c4a6-4906-cade-ed7723fd3576",
    "colab": {
     "base_uri": "https://localhost:8080/",
     "height": 51.0
    }
   },
   "outputs": [
    {
     "name": "stdout",
     "output_type": "stream",
     "text": [
      "Zero-length tweets: 0\n",
      "Maximum tweet length: 62\n"
     ]
    }
   ],
   "source": [
    "from collections import Counter\n",
    "# outlier review stats\n",
    "tweets_lens = Counter([len(x) for x in tweets_ints])\n",
    "print(\"Zero-length tweets: {}\".format(tweets_lens[0]))\n",
    "print(\"Maximum tweet length: {}\".format(max(tweets_lens)))"
   ]
  },
  {
   "cell_type": "code",
   "execution_count": 0,
   "metadata": {
    "id": "CxaLejWos_Tw",
    "colab_type": "code",
    "colab": {}
   },
   "outputs": [],
   "source": [
    "def pad_features(tweets_ints, seq_length):\n",
    "    ''' Return features of review_ints, where each review is padded with 0's \n",
    "        or truncated to the input seq_length.\n",
    "    '''\n",
    "    \n",
    "    # getting the correct rows x cols shape\n",
    "    features = np.zeros((len(tweets_ints), seq_length), dtype=int)\n",
    "\n",
    "    # for each review, I grab that review and \n",
    "    for i, row in enumerate(tweets_ints):\n",
    "        features[i, -len(row):] = np.array(row)[:seq_length]\n",
    "    \n",
    "    return features"
   ]
  },
  {
   "cell_type": "code",
   "execution_count": 0,
   "metadata": {
    "id": "Wy8MFokXs_9K",
    "colab_type": "code",
    "colab": {}
   },
   "outputs": [],
   "source": [
    "seq_length = max(tweets_lens)\n",
    "\n",
    "features = pad_features(tweets_ints, seq_length=seq_length)\n",
    "encoded_labels = np.array(encoded_labels)"
   ]
  },
  {
   "cell_type": "code",
   "execution_count": 17,
   "metadata": {
    "id": "R9siA7B4tAc7",
    "colab_type": "code",
    "outputId": "f8b82697-9de6-4e66-b52b-c18426f292d3",
    "colab": {
     "base_uri": "https://localhost:8080/",
     "height": 136.0
    }
   },
   "outputs": [
    {
     "name": "stdout",
     "output_type": "stream",
     "text": [
      "[[    0     0     0 ...    85    53  2706]\n",
      " [    0     0     0 ...   221  9193 50306]\n",
      " [    0     0     0 ...   316   226   325]\n",
      " ...\n",
      " [    0     0     0 ...    13  1863   328]\n",
      " [    0     0     0 ... 58381  1465     1]\n",
      " [    0     0     0 ...  1104    96  4799]]\n"
     ]
    }
   ],
   "source": [
    "print(features[:30,])"
   ]
  },
  {
   "cell_type": "markdown",
   "metadata": {
    "id": "gm-jUzQ8teCo",
    "colab_type": "text"
   },
   "source": [
    "### Train, Validation, Test Split"
   ]
  },
  {
   "cell_type": "code",
   "execution_count": 0,
   "metadata": {
    "id": "8yZGBcHztBGC",
    "colab_type": "code",
    "colab": {}
   },
   "outputs": [],
   "source": [
    "from sklearn.utils import shuffle\n",
    "features, encoded_labels = shuffle(features, encoded_labels)"
   ]
  },
  {
   "cell_type": "code",
   "execution_count": 19,
   "metadata": {
    "id": "0nYglhndtgYi",
    "colab_type": "code",
    "outputId": "f18da546-4fa7-4320-b3cf-f4ad5a6bb9cc",
    "colab": {
     "base_uri": "https://localhost:8080/",
     "height": 85.0
    }
   },
   "outputs": [
    {
     "name": "stdout",
     "output_type": "stream",
     "text": [
      "\t\t\tFeature Shapes:\n",
      "Train set: \t\t(255615, 62) \n",
      "Validation set: \t(31952, 62) \n",
      "Test set: \t\t(31952, 62)\n"
     ]
    }
   ],
   "source": [
    "split_frac = 0.8\n",
    "\n",
    "## split data into training, validation, and test data (features and labels, x and y)\n",
    "\n",
    "split_idx = int(len(features)*split_frac)\n",
    "train_x, remaining_x = features[:split_idx], features[split_idx:]\n",
    "train_y, remaining_y = encoded_labels[:split_idx], encoded_labels[split_idx:]\n",
    "\n",
    "test_idx = int(len(remaining_x)*0.5)\n",
    "val_x, test_x = remaining_x[:test_idx], remaining_x[test_idx:]\n",
    "val_y, test_y = remaining_y[:test_idx], remaining_y[test_idx:]\n",
    "\n",
    "## print out the shapes of your resultant feature data\n",
    "print(\"\\t\\t\\tFeature Shapes:\")\n",
    "print(\"Train set: \\t\\t{}\".format(train_x.shape), \n",
    "      \"\\nValidation set: \\t{}\".format(val_x.shape),\n",
    "      \"\\nTest set: \\t\\t{}\".format(test_x.shape))"
   ]
  },
  {
   "cell_type": "markdown",
   "metadata": {
    "id": "BV-wQQmb5d7j",
    "colab_type": "text"
   },
   "source": [
    "### DataLoader and Batching"
   ]
  },
  {
   "cell_type": "code",
   "execution_count": 0,
   "metadata": {
    "id": "FHgkWFzb5eRF",
    "colab_type": "code",
    "colab": {}
   },
   "outputs": [],
   "source": [
    "from torch.utils.data import TensorDataset, DataLoader\n",
    "\n",
    "# create Tensor datasets\n",
    "train_data = TensorDataset(torch.from_numpy(train_x), torch.from_numpy(train_y))\n",
    "valid_data = TensorDataset(torch.from_numpy(val_x), torch.from_numpy(val_y))\n",
    "test_data = TensorDataset(torch.from_numpy(test_x), torch.from_numpy(test_y))\n",
    "\n",
    "# dataloaders\n",
    "batch_size = 50\n",
    "\n",
    "# make sure the SHUFFLE your training data\n",
    "train_loader = DataLoader(train_data, shuffle=True, batch_size=batch_size,drop_last=True)\n",
    "valid_loader = DataLoader(valid_data, shuffle=True, batch_size=batch_size,drop_last=True)\n",
    "test_loader = DataLoader(test_data, shuffle=True, batch_size=batch_size,drop_last=True)"
   ]
  },
  {
   "cell_type": "code",
   "execution_count": 21,
   "metadata": {
    "id": "DxNTXSGU5mpX",
    "colab_type": "code",
    "outputId": "e8e364f2-e824-4023-f841-d1d5a8163d63",
    "colab": {
     "base_uri": "https://localhost:8080/",
     "height": 34.0
    }
   },
   "outputs": [
    {
     "data": {
      "text/plain": [
       "5112"
      ]
     },
     "execution_count": 21,
     "metadata": {
      "tags": []
     },
     "output_type": "execute_result"
    }
   ],
   "source": [
    "len(train_loader)"
   ]
  },
  {
   "cell_type": "markdown",
   "metadata": {
    "id": "AkI6wmX8gm6U",
    "colab_type": "text"
   },
   "source": [
    "### Building the model"
   ]
  },
  {
   "cell_type": "code",
   "execution_count": 0,
   "metadata": {
    "id": "TdnI3kw0gm6V",
    "colab_type": "code",
    "colab": {}
   },
   "outputs": [],
   "source": [
    "class TweetLSTM(nn.Module):\n",
    "    def __init__(self, input_size, hidden_size, num_classes, use_gpu):\n",
    "        super(TweetLSTM, self).__init__()\n",
    "        self.use_gpu = use_gpu\n",
    "        self.emb = nn.Embedding.from_pretrained(glove.vectors)\n",
    "        self.hidden_size = hidden_size\n",
    "        self.rnn = nn.LSTM(input_size, hidden_size,bidirectional=True,batch_first=True)\n",
    "        self.fc = nn.Linear(2 * hidden_size, num_classes) # 2 * hidden_size because LSTM is bidrectional \n",
    "    def forward(self, x):\n",
    "        # Look up the embedding\n",
    "        x = self.emb(x)\n",
    "        # Set an initial hidden state and cell state\n",
    "        \n",
    "        if self.use_gpu:\n",
    "          h0 = torch.zeros(2, x.size(0), self.hidden_size).cuda()\n",
    "          c0 = torch.zeros(2, x.size(0), self.hidden_size).cuda()\n",
    "        else:\n",
    "          h0 = torch.zeros(2, x.size(0), self.hidden_size)\n",
    "          c0 = torch.zeros(2, x.size(0), self.hidden_size)\n",
    "        # Forward propagate the LSTM\n",
    "        out, _ = self.rnn(x, (h0, c0))\n",
    "        # Pass the output of the last time step to the classifier\n",
    "        out = self.fc(out[:, -1, :])\n",
    "        return out\n",
    "num_classes = 6\n",
    "model = TweetLSTM(input_size=50, hidden_size=50, num_classes=num_classes,use_gpu=True)"
   ]
  },
  {
   "cell_type": "code",
   "execution_count": 23,
   "metadata": {
    "id": "90sHCtA9gm6c",
    "colab_type": "code",
    "outputId": "64a433f8-ea54-4a8c-8615-dca391604269",
    "colab": {
     "base_uri": "https://localhost:8080/",
     "height": 34.0
    }
   },
   "outputs": [
    {
     "data": {
      "text/plain": [
       "0.17517996870109545"
      ]
     },
     "execution_count": 23,
     "metadata": {
      "tags": []
     },
     "output_type": "execute_result"
    }
   ],
   "source": [
    "def get_accuracy(model, data_loader, use_gpu):\n",
    "    if use_gpu:\n",
    "      model.cuda()\n",
    "    correct, total = 0, 0\n",
    "    for tweets, labels in data_loader:\n",
    "        if use_gpu:\n",
    "          tweets,labels  = tweets.cuda(), labels.cuda()\n",
    "        output = model(tweets)\n",
    "        pred = output.max(1, keepdim=True)[1]\n",
    "        correct += pred.eq(labels.view_as(pred)).sum().item()\n",
    "        total += labels.shape[0]\n",
    "    return float(correct) / float(total)\n",
    "  \n",
    "\n",
    "get_accuracy(model, test_loader,use_gpu = True)\n"
   ]
  },
  {
   "cell_type": "code",
   "execution_count": 0,
   "metadata": {
    "id": "XUd3LjcAgm6g",
    "colab_type": "code",
    "colab": {}
   },
   "outputs": [],
   "source": [
    "def train_rnn_network(model, train, valid, num_epochs=5, learning_rate=1e-5,use_gpu=True):\n",
    "    if use_gpu:\n",
    "      model.cuda()\n",
    "    criterion = nn.CrossEntropyLoss()\n",
    "    optimizer = torch.optim.Adam(model.parameters(), lr=learning_rate)\n",
    "    train_losses,valid_losses, train_acc, valid_acc = [], [], [],[]\n",
    "    epochs = []\n",
    "    counter = 0\n",
    "    for epoch in range(num_epochs):\n",
    "        batch_loss_train = []\n",
    "        for tweets, labels in train:\n",
    "            if use_gpu:\n",
    "              tweets,labels  = tweets.cuda(), labels.cuda()\n",
    "            counter += 1\n",
    "            optimizer.zero_grad()\n",
    "            pred = model(tweets)\n",
    "            train_loss = criterion(pred, labels)\n",
    "            train_loss.backward()\n",
    "            optimizer.step()\n",
    "            batch_loss_train.append(float(train_loss))\n",
    "            if counter % 100 == 0:\n",
    "              print(\"Step %d of Epoch: %d; Loss %f \" % ( counter/100 ,epoch+1,np.mean(batch_loss_train)))\n",
    "        counter = 0\n",
    "        epoch_loss = np.mean(batch_loss_train)\n",
    "        train_losses.append(epoch_loss)\n",
    "        \n",
    "        epochs.append(epoch)\n",
    "        train_acc.append(get_accuracy(model, train_loader,use_gpu))\n",
    "        \n",
    "        print(\"Final Result for Epoch %d: Train Loss %f; Train Acc %f\" % (\n",
    "              epoch+1, epoch_loss, train_acc[-1]))\n",
    "        \n",
    "        \n",
    "        batch_loss_valid = []\n",
    "        for tweets,labels in valid:\n",
    "          if use_gpu:\n",
    "            tweets,labels  = tweets.cuda(), labels.cuda()\n",
    "          counter += 1\n",
    "          pred_valid = model(tweets)\n",
    "          valid_loss = criterion(pred_valid, labels)\n",
    "          batch_loss_valid.append(float(valid_loss))\n",
    "          if counter % 100 == 0:\n",
    "              print(\"Step %d of Epoch: %d; Loss %f \" % ( counter/100 ,epoch+1,np.mean(batch_loss_valid)))\n",
    "        counter = 0\n",
    "        epoch_loss_valid = np.mean(batch_loss_valid)\n",
    "        valid_losses.append(epoch_loss_valid)\n",
    "        valid_acc.append(get_accuracy(model, valid_loader,use_gpu))\n",
    "        \n",
    "        print(\"Final Result for Epoch %d: Valid Loss %f; Valid Acc %f\" % (\n",
    "              epoch+1, epoch_loss_valid, valid_acc[-1]))\n",
    "        \n",
    "        print(\"-------------------------------------------------------------\")\n",
    "        \n",
    "    # plotting\n",
    "    plt.title(\"Loss Curve\")\n",
    "    plt.plot(epochs,train_losses, label=\"Train\")\n",
    "    plt.plot(epochs,valid_losses, label=\"Valid\")\n",
    "    plt.xlabel(\"Epoch\")\n",
    "    plt.ylabel(\"Loss\")\n",
    "    plt.show()\n",
    "\n",
    "    plt.title(\"Accuracy Curve\")\n",
    "    plt.plot(epochs, train_acc, label=\"Train\")\n",
    "    plt.plot(epochs, valid_acc, label=\"Validation\")\n",
    "    plt.xlabel(\"Epoch\")\n",
    "    plt.ylabel(\"Accuracy\")\n",
    "    plt.legend(loc='best')\n",
    "    plt.show()"
   ]
  },
  {
   "cell_type": "code",
   "execution_count": 36,
   "metadata": {
    "id": "aPz9Hioigm6i",
    "colab_type": "code",
    "outputId": "01d5e499-796a-4bf1-cf1b-0609071d5f6c",
    "colab": {
     "base_uri": "https://localhost:8080/",
     "height": 5852.0
    }
   },
   "outputs": [
    {
     "name": "stdout",
     "output_type": "stream",
     "text": [
      "Step 1 of Epoch: 1; Loss 1.775083 \n",
      "Step 2 of Epoch: 1; Loss 1.759571 \n",
      "Step 3 of Epoch: 1; Loss 1.749771 \n",
      "Step 4 of Epoch: 1; Loss 1.745262 \n",
      "Step 5 of Epoch: 1; Loss 1.739507 \n",
      "Step 6 of Epoch: 1; Loss 1.735358 \n",
      "Step 7 of Epoch: 1; Loss 1.732506 \n",
      "Step 8 of Epoch: 1; Loss 1.730072 \n",
      "Step 9 of Epoch: 1; Loss 1.727696 \n",
      "Step 10 of Epoch: 1; Loss 1.725257 \n",
      "Step 11 of Epoch: 1; Loss 1.723319 \n",
      "Step 12 of Epoch: 1; Loss 1.721414 \n",
      "Step 13 of Epoch: 1; Loss 1.719379 \n",
      "Step 14 of Epoch: 1; Loss 1.718124 \n",
      "Step 15 of Epoch: 1; Loss 1.716930 \n",
      "Step 16 of Epoch: 1; Loss 1.715732 \n",
      "Step 17 of Epoch: 1; Loss 1.713862 \n",
      "Step 18 of Epoch: 1; Loss 1.711926 \n",
      "Step 19 of Epoch: 1; Loss 1.710368 \n",
      "Step 20 of Epoch: 1; Loss 1.709669 \n",
      "Step 21 of Epoch: 1; Loss 1.708494 \n",
      "Step 22 of Epoch: 1; Loss 1.707540 \n",
      "Step 23 of Epoch: 1; Loss 1.706715 \n",
      "Step 24 of Epoch: 1; Loss 1.705783 \n",
      "Step 25 of Epoch: 1; Loss 1.705106 \n",
      "Step 26 of Epoch: 1; Loss 1.704353 \n",
      "Step 27 of Epoch: 1; Loss 1.703415 \n",
      "Step 28 of Epoch: 1; Loss 1.702301 \n",
      "Step 29 of Epoch: 1; Loss 1.701203 \n",
      "Step 30 of Epoch: 1; Loss 1.700484 \n",
      "Step 31 of Epoch: 1; Loss 1.700018 \n",
      "Step 32 of Epoch: 1; Loss 1.699229 \n",
      "Step 33 of Epoch: 1; Loss 1.698734 \n",
      "Step 34 of Epoch: 1; Loss 1.698333 \n",
      "Step 35 of Epoch: 1; Loss 1.697640 \n",
      "Step 36 of Epoch: 1; Loss 1.697302 \n",
      "Step 37 of Epoch: 1; Loss 1.696729 \n",
      "Step 38 of Epoch: 1; Loss 1.696217 \n",
      "Step 39 of Epoch: 1; Loss 1.695978 \n",
      "Step 40 of Epoch: 1; Loss 1.695558 \n",
      "Step 41 of Epoch: 1; Loss 1.694916 \n",
      "Step 42 of Epoch: 1; Loss 1.694451 \n",
      "Step 43 of Epoch: 1; Loss 1.693994 \n",
      "Step 44 of Epoch: 1; Loss 1.693474 \n",
      "Step 45 of Epoch: 1; Loss 1.693193 \n",
      "Step 46 of Epoch: 1; Loss 1.692642 \n",
      "Step 47 of Epoch: 1; Loss 1.692181 \n",
      "Step 48 of Epoch: 1; Loss 1.691610 \n",
      "Step 49 of Epoch: 1; Loss 1.691216 \n",
      "Step 50 of Epoch: 1; Loss 1.690567 \n",
      "Step 51 of Epoch: 1; Loss 1.690073 \n",
      "Final Result for Epoch 1: Train Loss 1.690041; Train Acc 0.300372\n",
      "Step 1 of Epoch: 1; Loss 1.668869 \n",
      "Step 2 of Epoch: 1; Loss 1.664971 \n",
      "Step 3 of Epoch: 1; Loss 1.663665 \n",
      "Step 4 of Epoch: 1; Loss 1.663897 \n",
      "Step 5 of Epoch: 1; Loss 1.663108 \n",
      "Step 6 of Epoch: 1; Loss 1.664907 \n",
      "Final Result for Epoch 1: Valid Loss 1.664454; Valid Acc 0.299687\n",
      "-------------------------------------------------------------\n",
      "Step 1 of Epoch: 2; Loss 1.664170 \n",
      "Step 2 of Epoch: 2; Loss 1.665412 \n",
      "Step 3 of Epoch: 2; Loss 1.667571 \n",
      "Step 4 of Epoch: 2; Loss 1.669335 \n",
      "Step 5 of Epoch: 2; Loss 1.668919 \n",
      "Step 6 of Epoch: 2; Loss 1.669849 \n",
      "Step 7 of Epoch: 2; Loss 1.668195 \n",
      "Step 8 of Epoch: 2; Loss 1.668421 \n",
      "Step 9 of Epoch: 2; Loss 1.667854 \n",
      "Step 10 of Epoch: 2; Loss 1.667611 \n",
      "Step 11 of Epoch: 2; Loss 1.666124 \n",
      "Step 12 of Epoch: 2; Loss 1.665494 \n",
      "Step 13 of Epoch: 2; Loss 1.665111 \n",
      "Step 14 of Epoch: 2; Loss 1.665822 \n",
      "Step 15 of Epoch: 2; Loss 1.666035 \n",
      "Step 16 of Epoch: 2; Loss 1.665652 \n",
      "Step 17 of Epoch: 2; Loss 1.665043 \n",
      "Step 18 of Epoch: 2; Loss 1.664325 \n",
      "Step 19 of Epoch: 2; Loss 1.664336 \n",
      "Step 20 of Epoch: 2; Loss 1.663960 \n",
      "Step 21 of Epoch: 2; Loss 1.662796 \n",
      "Step 22 of Epoch: 2; Loss 1.662350 \n",
      "Step 23 of Epoch: 2; Loss 1.661892 \n",
      "Step 24 of Epoch: 2; Loss 1.661873 \n",
      "Step 25 of Epoch: 2; Loss 1.661916 \n",
      "Step 26 of Epoch: 2; Loss 1.661980 \n",
      "Step 27 of Epoch: 2; Loss 1.661544 \n",
      "Step 28 of Epoch: 2; Loss 1.661533 \n",
      "Step 29 of Epoch: 2; Loss 1.661186 \n",
      "Step 30 of Epoch: 2; Loss 1.660871 \n",
      "Step 31 of Epoch: 2; Loss 1.660865 \n",
      "Step 32 of Epoch: 2; Loss 1.660814 \n",
      "Step 33 of Epoch: 2; Loss 1.660463 \n",
      "Step 34 of Epoch: 2; Loss 1.660388 \n",
      "Step 35 of Epoch: 2; Loss 1.660125 \n",
      "Step 36 of Epoch: 2; Loss 1.660129 \n",
      "Step 37 of Epoch: 2; Loss 1.659981 \n",
      "Step 38 of Epoch: 2; Loss 1.659992 \n",
      "Step 39 of Epoch: 2; Loss 1.659889 \n",
      "Step 40 of Epoch: 2; Loss 1.659850 \n",
      "Step 41 of Epoch: 2; Loss 1.659878 \n",
      "Step 42 of Epoch: 2; Loss 1.659628 \n",
      "Step 43 of Epoch: 2; Loss 1.659396 \n",
      "Step 44 of Epoch: 2; Loss 1.659392 \n",
      "Step 45 of Epoch: 2; Loss 1.659514 \n",
      "Step 46 of Epoch: 2; Loss 1.659119 \n",
      "Step 47 of Epoch: 2; Loss 1.659213 \n",
      "Step 48 of Epoch: 2; Loss 1.659406 \n",
      "Step 49 of Epoch: 2; Loss 1.659161 \n",
      "Step 50 of Epoch: 2; Loss 1.659083 \n",
      "Step 51 of Epoch: 2; Loss 1.659053 \n",
      "Final Result for Epoch 2: Train Loss 1.659076; Train Acc 0.306639\n",
      "Step 1 of Epoch: 2; Loss 1.657215 \n",
      "Step 2 of Epoch: 2; Loss 1.658470 \n",
      "Step 3 of Epoch: 2; Loss 1.654590 \n",
      "Step 4 of Epoch: 2; Loss 1.653202 \n",
      "Step 5 of Epoch: 2; Loss 1.654415 \n",
      "Step 6 of Epoch: 2; Loss 1.654795 \n",
      "Final Result for Epoch 2: Valid Loss 1.653489; Valid Acc 0.301753\n",
      "-------------------------------------------------------------\n",
      "Step 1 of Epoch: 3; Loss 1.638216 \n",
      "Step 2 of Epoch: 3; Loss 1.644075 \n",
      "Step 3 of Epoch: 3; Loss 1.646727 \n",
      "Step 4 of Epoch: 3; Loss 1.647274 \n",
      "Step 5 of Epoch: 3; Loss 1.647731 \n",
      "Step 6 of Epoch: 3; Loss 1.646644 \n",
      "Step 7 of Epoch: 3; Loss 1.644170 \n",
      "Step 8 of Epoch: 3; Loss 1.643658 \n",
      "Step 9 of Epoch: 3; Loss 1.642073 \n",
      "Step 10 of Epoch: 3; Loss 1.642830 \n",
      "Step 11 of Epoch: 3; Loss 1.643560 \n",
      "Step 12 of Epoch: 3; Loss 1.645093 \n",
      "Step 13 of Epoch: 3; Loss 1.646064 \n",
      "Step 14 of Epoch: 3; Loss 1.645382 \n",
      "Step 15 of Epoch: 3; Loss 1.645040 \n",
      "Step 16 of Epoch: 3; Loss 1.645821 \n",
      "Step 17 of Epoch: 3; Loss 1.646253 \n",
      "Step 18 of Epoch: 3; Loss 1.646844 \n",
      "Step 19 of Epoch: 3; Loss 1.646855 \n",
      "Step 20 of Epoch: 3; Loss 1.646955 \n",
      "Step 21 of Epoch: 3; Loss 1.646936 \n",
      "Step 22 of Epoch: 3; Loss 1.647607 \n",
      "Step 23 of Epoch: 3; Loss 1.647324 \n",
      "Step 24 of Epoch: 3; Loss 1.646960 \n",
      "Step 25 of Epoch: 3; Loss 1.646507 \n",
      "Step 26 of Epoch: 3; Loss 1.646095 \n",
      "Step 27 of Epoch: 3; Loss 1.645821 \n",
      "Step 28 of Epoch: 3; Loss 1.645307 \n",
      "Step 29 of Epoch: 3; Loss 1.645047 \n",
      "Step 30 of Epoch: 3; Loss 1.644824 \n",
      "Step 31 of Epoch: 3; Loss 1.645096 \n",
      "Step 32 of Epoch: 3; Loss 1.645099 \n",
      "Step 33 of Epoch: 3; Loss 1.644770 \n",
      "Step 34 of Epoch: 3; Loss 1.644824 \n",
      "Step 35 of Epoch: 3; Loss 1.645073 \n",
      "Step 36 of Epoch: 3; Loss 1.645063 \n",
      "Step 37 of Epoch: 3; Loss 1.645113 \n",
      "Step 38 of Epoch: 3; Loss 1.645097 \n",
      "Step 39 of Epoch: 3; Loss 1.644789 \n",
      "Step 40 of Epoch: 3; Loss 1.644796 \n",
      "Step 41 of Epoch: 3; Loss 1.644645 \n",
      "Step 42 of Epoch: 3; Loss 1.644538 \n",
      "Step 43 of Epoch: 3; Loss 1.644478 \n",
      "Step 44 of Epoch: 3; Loss 1.644439 \n",
      "Step 45 of Epoch: 3; Loss 1.644520 \n",
      "Step 46 of Epoch: 3; Loss 1.644669 \n",
      "Step 47 of Epoch: 3; Loss 1.644786 \n",
      "Step 48 of Epoch: 3; Loss 1.644693 \n",
      "Step 49 of Epoch: 3; Loss 1.644575 \n",
      "Step 50 of Epoch: 3; Loss 1.644667 \n",
      "Step 51 of Epoch: 3; Loss 1.644600 \n",
      "Final Result for Epoch 3: Train Loss 1.644599; Train Acc 0.318552\n",
      "Step 1 of Epoch: 3; Loss 1.644268 \n",
      "Step 2 of Epoch: 3; Loss 1.645749 \n",
      "Step 3 of Epoch: 3; Loss 1.648174 \n",
      "Step 4 of Epoch: 3; Loss 1.646301 \n",
      "Step 5 of Epoch: 3; Loss 1.643581 \n",
      "Step 6 of Epoch: 3; Loss 1.641724 \n",
      "Final Result for Epoch 3: Valid Loss 1.642517; Valid Acc 0.312332\n",
      "-------------------------------------------------------------\n",
      "Step 1 of Epoch: 4; Loss 1.622048 \n",
      "Step 2 of Epoch: 4; Loss 1.623375 \n",
      "Step 3 of Epoch: 4; Loss 1.624140 \n",
      "Step 4 of Epoch: 4; Loss 1.623517 \n",
      "Step 5 of Epoch: 4; Loss 1.626149 \n",
      "Step 6 of Epoch: 4; Loss 1.627529 \n",
      "Step 7 of Epoch: 4; Loss 1.628471 \n",
      "Step 8 of Epoch: 4; Loss 1.628668 \n",
      "Step 9 of Epoch: 4; Loss 1.628455 \n",
      "Step 10 of Epoch: 4; Loss 1.629068 \n",
      "Step 11 of Epoch: 4; Loss 1.630671 \n",
      "Step 12 of Epoch: 4; Loss 1.630213 \n",
      "Step 13 of Epoch: 4; Loss 1.630819 \n",
      "Step 14 of Epoch: 4; Loss 1.631322 \n",
      "Step 15 of Epoch: 4; Loss 1.631229 \n",
      "Step 16 of Epoch: 4; Loss 1.630922 \n",
      "Step 17 of Epoch: 4; Loss 1.631545 \n",
      "Step 18 of Epoch: 4; Loss 1.632011 \n",
      "Step 19 of Epoch: 4; Loss 1.632007 \n",
      "Step 20 of Epoch: 4; Loss 1.631893 \n",
      "Step 21 of Epoch: 4; Loss 1.632538 \n",
      "Step 22 of Epoch: 4; Loss 1.632723 \n",
      "Step 23 of Epoch: 4; Loss 1.633468 \n",
      "Step 24 of Epoch: 4; Loss 1.633780 \n",
      "Step 25 of Epoch: 4; Loss 1.633759 \n",
      "Step 26 of Epoch: 4; Loss 1.633797 \n",
      "Step 27 of Epoch: 4; Loss 1.633279 \n",
      "Step 28 of Epoch: 4; Loss 1.633707 \n",
      "Step 29 of Epoch: 4; Loss 1.634089 \n",
      "Step 30 of Epoch: 4; Loss 1.633971 \n",
      "Step 31 of Epoch: 4; Loss 1.633564 \n",
      "Step 32 of Epoch: 4; Loss 1.633811 \n",
      "Step 33 of Epoch: 4; Loss 1.633879 \n",
      "Step 34 of Epoch: 4; Loss 1.634039 \n",
      "Step 35 of Epoch: 4; Loss 1.633885 \n",
      "Step 36 of Epoch: 4; Loss 1.633819 \n",
      "Step 37 of Epoch: 4; Loss 1.633664 \n",
      "Step 38 of Epoch: 4; Loss 1.633362 \n",
      "Step 39 of Epoch: 4; Loss 1.633323 \n",
      "Step 40 of Epoch: 4; Loss 1.633319 \n",
      "Step 41 of Epoch: 4; Loss 1.633466 \n",
      "Step 42 of Epoch: 4; Loss 1.633561 \n",
      "Step 43 of Epoch: 4; Loss 1.633765 \n",
      "Step 44 of Epoch: 4; Loss 1.633759 \n",
      "Step 45 of Epoch: 4; Loss 1.634074 \n",
      "Step 46 of Epoch: 4; Loss 1.633825 \n",
      "Step 47 of Epoch: 4; Loss 1.634037 \n",
      "Step 48 of Epoch: 4; Loss 1.633964 \n",
      "Step 49 of Epoch: 4; Loss 1.633926 \n",
      "Step 50 of Epoch: 4; Loss 1.633900 \n",
      "Step 51 of Epoch: 4; Loss 1.633938 \n",
      "Final Result for Epoch 4: Train Loss 1.633963; Train Acc 0.324096\n",
      "Step 1 of Epoch: 4; Loss 1.645475 \n",
      "Step 2 of Epoch: 4; Loss 1.645357 \n",
      "Step 3 of Epoch: 4; Loss 1.642463 \n",
      "Step 4 of Epoch: 4; Loss 1.642059 \n",
      "Step 5 of Epoch: 4; Loss 1.640815 \n",
      "Step 6 of Epoch: 4; Loss 1.640300 \n",
      "Final Result for Epoch 4: Valid Loss 1.639352; Valid Acc 0.316463\n",
      "-------------------------------------------------------------\n",
      "Step 1 of Epoch: 5; Loss 1.633339 \n",
      "Step 2 of Epoch: 5; Loss 1.620670 \n",
      "Step 3 of Epoch: 5; Loss 1.618495 \n",
      "Step 4 of Epoch: 5; Loss 1.618274 \n",
      "Step 5 of Epoch: 5; Loss 1.620352 \n",
      "Step 6 of Epoch: 5; Loss 1.621587 \n",
      "Step 7 of Epoch: 5; Loss 1.620678 \n",
      "Step 8 of Epoch: 5; Loss 1.620992 \n",
      "Step 9 of Epoch: 5; Loss 1.620281 \n",
      "Step 10 of Epoch: 5; Loss 1.621482 \n",
      "Step 11 of Epoch: 5; Loss 1.621521 \n",
      "Step 12 of Epoch: 5; Loss 1.622192 \n",
      "Step 13 of Epoch: 5; Loss 1.623042 \n",
      "Step 14 of Epoch: 5; Loss 1.623671 \n",
      "Step 15 of Epoch: 5; Loss 1.624184 \n",
      "Step 16 of Epoch: 5; Loss 1.624526 \n",
      "Step 17 of Epoch: 5; Loss 1.624858 \n",
      "Step 18 of Epoch: 5; Loss 1.625149 \n",
      "Step 19 of Epoch: 5; Loss 1.624936 \n",
      "Step 20 of Epoch: 5; Loss 1.624447 \n",
      "Step 21 of Epoch: 5; Loss 1.624646 \n",
      "Step 22 of Epoch: 5; Loss 1.624669 \n",
      "Step 23 of Epoch: 5; Loss 1.623933 \n",
      "Step 24 of Epoch: 5; Loss 1.624026 \n",
      "Step 25 of Epoch: 5; Loss 1.624627 \n",
      "Step 26 of Epoch: 5; Loss 1.624545 \n",
      "Step 27 of Epoch: 5; Loss 1.624570 \n",
      "Step 28 of Epoch: 5; Loss 1.624298 \n",
      "Step 29 of Epoch: 5; Loss 1.624358 \n",
      "Step 30 of Epoch: 5; Loss 1.624377 \n",
      "Step 31 of Epoch: 5; Loss 1.624620 \n",
      "Step 32 of Epoch: 5; Loss 1.624210 \n",
      "Step 33 of Epoch: 5; Loss 1.624470 \n",
      "Step 34 of Epoch: 5; Loss 1.624812 \n",
      "Step 35 of Epoch: 5; Loss 1.624677 \n",
      "Step 36 of Epoch: 5; Loss 1.624360 \n",
      "Step 37 of Epoch: 5; Loss 1.624306 \n",
      "Step 38 of Epoch: 5; Loss 1.624114 \n",
      "Step 39 of Epoch: 5; Loss 1.624121 \n",
      "Step 40 of Epoch: 5; Loss 1.624136 \n",
      "Step 41 of Epoch: 5; Loss 1.624069 \n",
      "Step 42 of Epoch: 5; Loss 1.624196 \n",
      "Step 43 of Epoch: 5; Loss 1.624386 \n",
      "Step 44 of Epoch: 5; Loss 1.624531 \n",
      "Step 45 of Epoch: 5; Loss 1.624612 \n",
      "Step 46 of Epoch: 5; Loss 1.625116 \n",
      "Step 47 of Epoch: 5; Loss 1.624941 \n",
      "Step 48 of Epoch: 5; Loss 1.625147 \n",
      "Step 49 of Epoch: 5; Loss 1.625069 \n",
      "Step 50 of Epoch: 5; Loss 1.625224 \n",
      "Step 51 of Epoch: 5; Loss 1.625202 \n",
      "Final Result for Epoch 5: Train Loss 1.625217; Train Acc 0.329617\n",
      "Step 1 of Epoch: 5; Loss 1.625348 \n",
      "Step 2 of Epoch: 5; Loss 1.628191 \n",
      "Step 3 of Epoch: 5; Loss 1.632616 \n",
      "Step 4 of Epoch: 5; Loss 1.636008 \n",
      "Step 5 of Epoch: 5; Loss 1.637048 \n",
      "Step 6 of Epoch: 5; Loss 1.639884 \n",
      "Final Result for Epoch 5: Valid Loss 1.638835; Valid Acc 0.315023\n",
      "-------------------------------------------------------------\n"
     ]
    },
    {
     "data": {
      "image/png": "[encoded data removed]",
      "text/plain": [
       "<Figure size 576x396 with 1 Axes>"
      ]
     },
     "metadata": {
      "tags": []
     },
     "output_type": "display_data"
    },
    {
     "data": {
      "image/png": "[encoded data removed]",
      "text/plain": [
       "<Figure size 576x396 with 1 Axes>"
      ]
     },
     "metadata": {
      "tags": []
     },
     "output_type": "display_data"
    },
    {
     "name": "stdout",
     "output_type": "stream",
     "text": [
      "total training time: 363 s\n"
     ]
    }
   ],
   "source": [
    "import time\n",
    "start = time.time()\n",
    "model = TweetLSTM(input_size=50, hidden_size=50, num_classes=num_classes,use_gpu=True)\n",
    "train_rnn_network(model, train_loader, valid_loader, num_epochs=5, learning_rate=1e-3,use_gpu=True)\n",
    "end = time.time()\n",
    "print(\"total training time:\", int(end -start), \"s\")"
   ]
  },
  {
   "cell_type": "markdown",
   "metadata": {
    "id": "QA282W2hdZau",
    "colab_type": "text"
   },
   "source": [
    "### Saving the model"
   ]
  },
  {
   "cell_type": "code",
   "execution_count": 37,
   "metadata": {
    "id": "8wZ5VuoU1EW4",
    "colab_type": "code",
    "colab": {
     "base_uri": "https://localhost:8080/",
     "height": 189.0
    },
    "outputId": "6758f650-11c6-4a40-bd47-24aee4c80bfc"
   },
   "outputs": [
    {
     "name": "stdout",
     "output_type": "stream",
     "text": [
      "Go to this URL in a browser: https://accounts.google.com/o/oauth2/auth?client_id=947318989803-6bn6qk8qdgf4n4g3pfee6491hc0brc4i.apps.googleusercontent.com&redirect_uri=urn%3Aietf%3Awg%3Aoauth%3A2.0%3Aoob&scope=email%20https%3A%2F%2Fwww.googleapis.com%2Fauth%2Fdocs.test%20https%3A%2F%2Fwww.googleapis.com%2Fauth%2Fdrive%20https%3A%2F%2Fwww.googleapis.com%2Fauth%2Fdrive.photos.readonly%20https%3A%2F%2Fwww.googleapis.com%2Fauth%2Fpeopleapi.readonly&response_type=code\n",
      "\n",
      "Enter your authorization code:\n",
      "··········\n",
      "Mounted at /content/gdrive\n"
     ]
    }
   ],
   "source": [
    "# saving the model to the google drive\n",
    "from google.colab import drive\n",
    "drive.mount('/content/gdrive')\n"
   ]
  },
  {
   "cell_type": "code",
   "execution_count": 0,
   "metadata": {
    "id": "boykCCGR1dAJ",
    "colab_type": "code",
    "colab": {}
   },
   "outputs": [],
   "source": [
    "# saving the model to the google drive\n",
    "torch.save(model.state_dict(), '/content/gdrive/My Drive/checkpoint_biLSTM_5epochs.pth')"
   ]
  },
  {
   "cell_type": "markdown",
   "metadata": {
    "id": "F0TSZ1O2dfo-",
    "colab_type": "text"
   },
   "source": [
    "### Loading the model"
   ]
  },
  {
   "cell_type": "code",
   "execution_count": 0,
   "metadata": {
    "id": "h9plkTXediGq",
    "colab_type": "code",
    "colab": {}
   },
   "outputs": [],
   "source": [
    "state_dict = torch.load('/content/gdrive/My Drive/checkpoint_biLSTM.pth')"
   ]
  },
  {
   "cell_type": "code",
   "execution_count": 0,
   "metadata": {
    "id": "eGTAC6Wudkv3",
    "colab_type": "code",
    "colab": {}
   },
   "outputs": [],
   "source": [
    "model.load_state_dict(state_dict)"
   ]
  },
  {
   "cell_type": "markdown",
   "metadata": {
    "id": "FqbUdJgD0iec",
    "colab_type": "text"
   },
   "source": [
    "### Inference"
   ]
  },
  {
   "cell_type": "code",
   "execution_count": 0,
   "metadata": {
    "id": "TMF8kPVVvh91",
    "colab_type": "code",
    "colab": {}
   },
   "outputs": [],
   "source": [
    "# Tweet Test\n",
    "happy_tweet = 'Im happy'\n",
    "sad_tweet = 'Im sad'\n",
    "angry = 'Im angry'\n",
    "surprised_tweet = 'Im surprised'\n",
    "disgusted_tweet = 'Im disgusted'\n",
    "afraid_tweet = 'Im afraid'"
   ]
  },
  {
   "cell_type": "code",
   "execution_count": 0,
   "metadata": {
    "id": "eO3IhcoX0vqy",
    "colab_type": "code",
    "colab": {}
   },
   "outputs": [],
   "source": [
    "def tweet_to_glove_index(tweet,glove_dict):\n",
    "    tweets_ints = []\n",
    "    tweet = tweet.lower()\n",
    "    idxs = [glove_dict.stoi[w]        # lookup the index of word\n",
    "            for w in tweet.split()\n",
    "            if w in glove_dict.stoi] # keep words that has an embedding\n",
    "    tweets_ints.append(idxs)\n",
    "    return tweets_ints"
   ]
  },
  {
   "cell_type": "code",
   "execution_count": 0,
   "metadata": {
    "id": "eBnsPtrJ1NgH",
    "colab_type": "code",
    "colab": {}
   },
   "outputs": [],
   "source": [
    "int_to_emotion = {0:'Happy', 1:'Sad' , 2:'Angry', 3:'Surprised', 4:'Disgusted', 5:'Afraid'}\n",
    "\n",
    "def predict(model, test_tweet, sequence_length=max(tweets_lens),use_gpu=True):\n",
    "    \n",
    "    \n",
    "    # tokenize tweet\n",
    "    test_ints = tweet_to_glove_index(test_tweet,glove)\n",
    "    \n",
    "    # pad tokenized sequence\n",
    "    seq_length=sequence_length\n",
    "    features = pad_features(test_ints, seq_length)\n",
    "    \n",
    "    # convert to tensor to pass into your model\n",
    "    if use_gpu:\n",
    "      feature_tensor = torch.from_numpy(features).cuda()\n",
    "    else:\n",
    "      feature_tensor = torch.from_numpy(features)\n",
    "    \n",
    "    batch_size = feature_tensor.size(0)\n",
    "    \n",
    "    \n",
    "    # get the output from the model\n",
    "    output = model(feature_tensor)\n",
    "    \n",
    "    # convert output probabilities to predicted class (0 or 1)\n",
    "    output_prob = nn.functional.softmax(output,dim=1)\n",
    "    top_n_pred = output_prob.topk(3,dim=1) ## top 3 preds\n",
    "    top_n_pred_prob, top_n_pred_index = top_n_pred[0].detach().cpu().numpy()[0], top_n_pred[1].detach().cpu().numpy()[0]\n",
    "    print(test_tweet)\n",
    "    print('Prediction:')\n",
    "    for prob,index in zip(top_n_pred_prob,top_n_pred_index):\n",
    "      print(int_to_emotion[index] , 'with' , str(int(prob*100))+\"%\", 'confidence')\n",
    "    print('---------------')"
   ]
  },
  {
   "cell_type": "code",
   "execution_count": 42,
   "metadata": {
    "id": "TyMRFkX43fhn",
    "colab_type": "code",
    "outputId": "d058b91c-970f-46a2-b646-3cd2acc37bde",
    "colab": {
     "base_uri": "https://localhost:8080/",
     "height": 629.0
    }
   },
   "outputs": [
    {
     "name": "stdout",
     "output_type": "stream",
     "text": [
      "Im happy\n",
      "Prediction:\n",
      "Happy with 62% confidence\n",
      "Angry with 13% confidence\n",
      "Afraid with 7% confidence\n",
      "---------------\n",
      "Im sad\n",
      "Prediction:\n",
      "Sad with 67% confidence\n",
      "Disgusted with 13% confidence\n",
      "Angry with 6% confidence\n",
      "---------------\n",
      "Im angry\n",
      "Prediction:\n",
      "Angry with 26% confidence\n",
      "Disgusted with 23% confidence\n",
      "Sad with 15% confidence\n",
      "---------------\n",
      "Im surprised\n",
      "Prediction:\n",
      "Surprised with 24% confidence\n",
      "Afraid with 23% confidence\n",
      "Happy with 18% confidence\n",
      "---------------\n",
      "Im disgusted\n",
      "Prediction:\n",
      "Disgusted with 40% confidence\n",
      "Sad with 27% confidence\n",
      "Angry with 11% confidence\n",
      "---------------\n",
      "Im afraid\n",
      "Prediction:\n",
      "Sad with 24% confidence\n",
      "Surprised with 24% confidence\n",
      "Afraid with 20% confidence\n",
      "---------------\n"
     ]
    }
   ],
   "source": [
    "predict(model,happy_tweet)\n",
    "predict(model,sad_tweet)\n",
    "predict(model,angry)\n",
    "predict(model,surprised_tweet)\n",
    "predict(model,disgusted_tweet)\n",
    "predict(model,afraid_tweet)"
   ]
  },
  {
   "cell_type": "code",
   "execution_count": 0,
   "metadata": {
    "id": "AUhEs_I4hJ8M",
    "colab_type": "code",
    "colab": {}
   },
   "outputs": [],
   "source": [
    "tweets = ['Im so happy',\n",
    "          'I feel so down today',\n",
    "          'It boils my blood to see you',\n",
    "         'wow what a nice car',\n",
    "         'im sick of this shit',\n",
    "         'theres a stranger at my home']"
   ]
  },
  {
   "cell_type": "code",
   "execution_count": 44,
   "metadata": {
    "id": "MollcketAEYZ",
    "colab_type": "code",
    "outputId": "fdb33454-15a7-4b83-d10c-271f22ab3d40",
    "colab": {
     "base_uri": "https://localhost:8080/",
     "height": 629.0
    }
   },
   "outputs": [
    {
     "name": "stdout",
     "output_type": "stream",
     "text": [
      "Im so happy\n",
      "Prediction:\n",
      "Happy with 56% confidence\n",
      "Sad with 15% confidence\n",
      "Surprised with 8% confidence\n",
      "---------------\n",
      "I feel so down today\n",
      "Prediction:\n",
      "Sad with 44% confidence\n",
      "Disgusted with 16% confidence\n",
      "Angry with 12% confidence\n",
      "---------------\n",
      "It boils my blood to see you\n",
      "Prediction:\n",
      "Disgusted with 19% confidence\n",
      "Surprised with 19% confidence\n",
      "Angry with 17% confidence\n",
      "---------------\n",
      "wow what a nice car\n",
      "Prediction:\n",
      "Afraid with 43% confidence\n",
      "Surprised with 35% confidence\n",
      "Happy with 8% confidence\n",
      "---------------\n",
      "im sick of this shit\n",
      "Prediction:\n",
      "Disgusted with 38% confidence\n",
      "Sad with 25% confidence\n",
      "Angry with 21% confidence\n",
      "---------------\n",
      "theres a stranger at my home\n",
      "Prediction:\n",
      "Surprised with 40% confidence\n",
      "Afraid with 22% confidence\n",
      "Happy with 9% confidence\n",
      "---------------\n"
     ]
    }
   ],
   "source": [
    "for tweet in tweets:\n",
    "  predict(model, tweet)"
   ]
  },
  {
   "cell_type": "code",
   "execution_count": 0,
   "metadata": {
    "id": "4hicU8JC1xhm",
    "colab_type": "code",
    "colab": {}
   },
   "outputs": [],
   "source": [
    ""
   ]
  }
 ],
 "metadata": {
  "colab": {
   "name": "Tweaked_Base_Model.ipynb",
   "version": "0.3.2",
   "provenance": [],
   "collapsed_sections": [],
   "toc_visible": true
  },
  "kernelspec": {
   "name": "python3",
   "display_name": "Python 3"
  },
  "accelerator": "GPU"
 },
 "nbformat": 4,
 "nbformat_minor": 0
}
