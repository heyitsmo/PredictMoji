{
  "nbformat": 4,
  "nbformat_minor": 0,
  "metadata": {
    "colab": {
      "name": "Tweaked_spelling_test.ipynb",
      "version": "0.3.2",
      "provenance": [],
      "collapsed_sections": [],
      "toc_visible": true
    },
    "kernelspec": {
      "display_name": "Python 3",
      "language": "python",
      "name": "python3"
    },
    "accelerator": "GPU"
  },
  "cells": [
    {
      "metadata": {
        "colab_type": "text",
        "id": "S9NeXRWQgm5R"
      },
      "cell_type": "markdown",
      "source": [
        "### Todos:\n",
        "### 1. preprocess the data to make it suitable for glove embeding:\n",
        "### a. remove ' from words( don't -> dont)\n",
        "### b. convert all letters to lowercase ( Hoping -> hoping)\n",
        "### 2. find the frequency of each emoji to see if the dataset is balanced and balance the dataset(important)"
      ]
    },
    {
      "metadata": {
        "colab_type": "code",
        "id": "kjt9iuwEgm5T",
        "colab": {}
      },
      "cell_type": "code",
      "source": [
        "import csv\n",
        "import torch\n",
        "import torch.nn as nn\n",
        "import torch.nn.functional as F\n",
        "import torch.optim as optim\n",
        "import torchtext\n",
        "import numpy as np\n",
        "import matplotlib.pyplot as plt"
      ],
      "execution_count": 0,
      "outputs": []
    },
    {
      "metadata": {
        "colab_type": "code",
        "id": "tGMIDRTHgm5b",
        "colab": {}
      },
      "cell_type": "code",
      "source": [
        "import pandas"
      ],
      "execution_count": 0,
      "outputs": []
    },
    {
      "metadata": {
        "colab_type": "code",
        "id": "26_C6S4Ugm5e",
        "colab": {}
      },
      "cell_type": "code",
      "source": [
        "def get_data():\n",
        "    header = ['tweet','label']\n",
        "    data_set = pandas.read_csv('augment_spelling.txt',delimiter='\\t',names = header)\n",
        "    return data_set\n",
        "\n",
        "def split_tweet(tweet):\n",
        "    return tweet.split()    \n"
      ],
      "execution_count": 0,
      "outputs": []
    },
    {
      "metadata": {
        "colab_type": "code",
        "id": "bmOzSIDpgm5h",
        "colab": {}
      },
      "cell_type": "code",
      "source": [
        "data_set = get_data()"
      ],
      "execution_count": 0,
      "outputs": []
    },
    {
      "metadata": {
        "colab_type": "code",
        "id": "ey347C1Zgm5l",
        "colab": {}
      },
      "cell_type": "code",
      "source": [
        "glove = torchtext.vocab.GloVe(name=\"twitter.27B\",dim=50)\n",
        "\n",
        "# inser padding character into glove embedding, we overwrite the first element and that's okay\n",
        "# because we don't use the first element in our vocab\n",
        "glove.vectors[0] = torch.tensor(np.zeros(50))"
      ],
      "execution_count": 0,
      "outputs": []
    },
    {
      "metadata": {
        "colab_type": "code",
        "id": "sQ8JIzR4gm5q",
        "colab": {
          "base_uri": "https://localhost:8080/",
          "height": 35
        },
        "outputId": "0f01e570-8fb7-44b2-a469-d987d4ce5ee1"
      },
      "cell_type": "code",
      "source": [
        "len(data_set)"
      ],
      "execution_count": 6,
      "outputs": [
        {
          "output_type": "execute_result",
          "data": {
            "text/plain": [
              "11379"
            ]
          },
          "metadata": {
            "tags": []
          },
          "execution_count": 6
        }
      ]
    },
    {
      "metadata": {
        "colab_type": "code",
        "id": "cWYeV80Sgm59",
        "colab": {}
      },
      "cell_type": "code",
      "source": [
        "def data_set_to_glove_index(glove_dict):\n",
        "    tweets_ints, encoded_labels = [],[]\n",
        "    for i in range(len(data_set)):\n",
        "        tweet = data_set['tweet'][i]\n",
        "        label = data_set['label'][i]\n",
        "        if(type(tweet) != str):\n",
        "            continue\n",
        "        idxs = [glove_dict.stoi[w]        # lookup the index of word\n",
        "            for w in tweet.split()\n",
        "            if w in glove_dict.stoi] # keep words that has an embedding\n",
        "        if not idxs: # ignore tweets without any word with an embedding\n",
        "            continue\n",
        "        tweets_ints.append(idxs)\n",
        "        encoded_labels.append(label)\n",
        "    return tweets_ints, encoded_labels"
      ],
      "execution_count": 0,
      "outputs": []
    },
    {
      "metadata": {
        "colab_type": "code",
        "id": "uci6Anmugm5-",
        "colab": {}
      },
      "cell_type": "code",
      "source": [
        "tweets_ints, encoded_labels = data_set_to_glove_index(glove)"
      ],
      "execution_count": 0,
      "outputs": []
    },
    {
      "metadata": {
        "colab_type": "code",
        "id": "sB-kS3issuZ8",
        "colab": {
          "base_uri": "https://localhost:8080/",
          "height": 52
        },
        "outputId": "06b89d06-526c-46dc-b179-c4455b4a2b74"
      },
      "cell_type": "code",
      "source": [
        "from collections import Counter\n",
        "# outlier review stats\n",
        "tweets_lens = Counter([len(x) for x in tweets_ints])\n",
        "print(\"Zero-length tweets: {}\".format(tweets_lens[0]))\n",
        "print(\"Maximum tweet length: {}\".format(max(tweets_lens)))"
      ],
      "execution_count": 9,
      "outputs": [
        {
          "output_type": "stream",
          "text": [
            "Zero-length tweets: 0\n",
            "Maximum tweet length: 38\n"
          ],
          "name": "stdout"
        }
      ]
    },
    {
      "metadata": {
        "colab_type": "code",
        "id": "CxaLejWos_Tw",
        "colab": {}
      },
      "cell_type": "code",
      "source": [
        "def pad_features(tweets_ints, seq_length):\n",
        "    ''' Return features of review_ints, where each review is padded with 0's \n",
        "        or truncated to the input seq_length.\n",
        "    '''\n",
        "    \n",
        "    # getting the correct rows x cols shape\n",
        "    features = np.zeros((len(tweets_ints), seq_length), dtype=int)\n",
        "\n",
        "    # for each review, I grab that review and \n",
        "    for i, row in enumerate(tweets_ints):\n",
        "        features[i, -len(row):] = np.array(row)[:seq_length]\n",
        "    \n",
        "    return features"
      ],
      "execution_count": 0,
      "outputs": []
    },
    {
      "metadata": {
        "colab_type": "code",
        "id": "Wy8MFokXs_9K",
        "colab": {}
      },
      "cell_type": "code",
      "source": [
        "seq_length = max(tweets_lens)\n",
        "\n",
        "features = pad_features(tweets_ints, seq_length=seq_length)\n",
        "encoded_labels = np.array(encoded_labels)"
      ],
      "execution_count": 0,
      "outputs": []
    },
    {
      "metadata": {
        "colab_type": "text",
        "id": "gm-jUzQ8teCo"
      },
      "cell_type": "markdown",
      "source": [
        "### Train, Validation, Test Split"
      ]
    },
    {
      "metadata": {
        "colab_type": "code",
        "id": "8yZGBcHztBGC",
        "colab": {}
      },
      "cell_type": "code",
      "source": [
        "from sklearn.utils import shuffle\n",
        "features, encoded_labels = shuffle(features, encoded_labels)"
      ],
      "execution_count": 0,
      "outputs": []
    },
    {
      "metadata": {
        "colab_type": "code",
        "id": "0nYglhndtgYi",
        "colab": {
          "base_uri": "https://localhost:8080/",
          "height": 87
        },
        "outputId": "e081579e-7e59-452c-8517-9b7e86b693d0"
      },
      "cell_type": "code",
      "source": [
        "split_frac = 0.8\n",
        "\n",
        "## split data into training, validation, and test data (features and labels, x and y)\n",
        "\n",
        "split_idx = int(len(features)*split_frac)\n",
        "train_x, remaining_x = features[:split_idx], features[split_idx:]\n",
        "train_y, remaining_y = encoded_labels[:split_idx], encoded_labels[split_idx:]\n",
        "\n",
        "test_idx = int(len(remaining_x)*0.5)\n",
        "val_x, test_x = remaining_x[:test_idx], remaining_x[test_idx:]\n",
        "val_y, test_y = remaining_y[:test_idx], remaining_y[test_idx:]\n",
        "\n",
        "## print out the shapes of your resultant feature data\n",
        "print(\"\\t\\t\\tFeature Shapes:\")\n",
        "print(\"Train set: \\t\\t{}\".format(train_x.shape), \n",
        "      \"\\nValidation set: \\t{}\".format(val_x.shape),\n",
        "      \"\\nTest set: \\t\\t{}\".format(test_x.shape))"
      ],
      "execution_count": 13,
      "outputs": [
        {
          "output_type": "stream",
          "text": [
            "\t\t\tFeature Shapes:\n",
            "Train set: \t\t(9102, 38) \n",
            "Validation set: \t(1138, 38) \n",
            "Test set: \t\t(1138, 38)\n"
          ],
          "name": "stdout"
        }
      ]
    },
    {
      "metadata": {
        "colab_type": "text",
        "id": "BV-wQQmb5d7j"
      },
      "cell_type": "markdown",
      "source": [
        "### DataLoader and Batching"
      ]
    },
    {
      "metadata": {
        "colab_type": "code",
        "id": "FHgkWFzb5eRF",
        "colab": {}
      },
      "cell_type": "code",
      "source": [
        "from torch.utils.data import TensorDataset, DataLoader\n",
        "\n",
        "# create Tensor datasets\n",
        "train_data = TensorDataset(torch.from_numpy(train_x), torch.from_numpy(train_y))\n",
        "valid_data = TensorDataset(torch.from_numpy(val_x), torch.from_numpy(val_y))\n",
        "test_data = TensorDataset(torch.from_numpy(test_x), torch.from_numpy(test_y))\n",
        "\n",
        "# dataloaders\n",
        "batch_size = 50\n",
        "\n",
        "# make sure the SHUFFLE your training data\n",
        "train_loader = DataLoader(train_data, shuffle=True, batch_size=batch_size,drop_last=True)\n",
        "valid_loader = DataLoader(valid_data, shuffle=True, batch_size=batch_size,drop_last=True)\n",
        "test_loader = DataLoader(test_data, shuffle=True, batch_size=batch_size,drop_last=True)"
      ],
      "execution_count": 0,
      "outputs": []
    },
    {
      "metadata": {
        "colab_type": "code",
        "id": "DxNTXSGU5mpX",
        "colab": {
          "base_uri": "https://localhost:8080/",
          "height": 35
        },
        "outputId": "018e5677-f606-485e-f475-d70da3ab75c2"
      },
      "cell_type": "code",
      "source": [
        "len(train_loader)"
      ],
      "execution_count": 15,
      "outputs": [
        {
          "output_type": "execute_result",
          "data": {
            "text/plain": [
              "182"
            ]
          },
          "metadata": {
            "tags": []
          },
          "execution_count": 15
        }
      ]
    },
    {
      "metadata": {
        "colab_type": "text",
        "id": "AkI6wmX8gm6U"
      },
      "cell_type": "markdown",
      "source": [
        "### Building the model"
      ]
    },
    {
      "metadata": {
        "colab_type": "code",
        "id": "TdnI3kw0gm6V",
        "colab": {}
      },
      "cell_type": "code",
      "source": [
        "class TweetLSTM(nn.Module):\n",
        "    def __init__(self, input_size, hidden_size, num_classes):\n",
        "        super(TweetLSTM, self).__init__()\n",
        "        self.emb = nn.Embedding.from_pretrained(glove.vectors)\n",
        "        self.hidden_size = hidden_size\n",
        "        self.rnn = nn.LSTM(input_size, hidden_size, batch_first=True)\n",
        "        self.fc = nn.Linear(hidden_size, num_classes)\n",
        "    \n",
        "    def forward(self, x):\n",
        "        # Look up the embedding\n",
        "        x = self.emb(x)\n",
        "        # Set an initial hidden state and cell state\n",
        "        h0 = torch.zeros(1, x.size(0), self.hidden_size)\n",
        "        c0 = torch.zeros(1, x.size(0), self.hidden_size)\n",
        "        # Forward propagate the LSTM\n",
        "        out, _ = self.rnn(x, (h0, c0))\n",
        "        # Pass the output of the last time step to the classifier\n",
        "        out = self.fc(out[:, -1, :])\n",
        "        return out\n",
        "num_classes = 6\n",
        "model = TweetLSTM(input_size=50, hidden_size=50, num_classes=num_classes)"
      ],
      "execution_count": 0,
      "outputs": []
    },
    {
      "metadata": {
        "colab_type": "code",
        "id": "90sHCtA9gm6c",
        "colab": {
          "base_uri": "https://localhost:8080/",
          "height": 35
        },
        "outputId": "ee00d193-72f4-4fe4-d490-d6f437b2ad3e"
      },
      "cell_type": "code",
      "source": [
        "def get_accuracy(model, data_loader):\n",
        "    correct, total = 0, 0\n",
        "    for tweets, labels in data_loader:\n",
        "        output = model(tweets)\n",
        "        pred = output.max(1, keepdim=True)[1]\n",
        "        correct += pred.eq(labels.view_as(pred)).sum().item()\n",
        "        total += labels.shape[0]\n",
        "    return float(correct) / float(total)\n",
        "\n",
        "get_accuracy(model, test_loader)\n"
      ],
      "execution_count": 17,
      "outputs": [
        {
          "output_type": "execute_result",
          "data": {
            "text/plain": [
              "0.04454545454545455"
            ]
          },
          "metadata": {
            "tags": []
          },
          "execution_count": 17
        }
      ]
    },
    {
      "metadata": {
        "colab_type": "code",
        "id": "XUd3LjcAgm6g",
        "colab": {}
      },
      "cell_type": "code",
      "source": [
        "def train_rnn_network(model, train, valid, num_epochs=5, learning_rate=1e-5):\n",
        "    criterion = nn.CrossEntropyLoss()\n",
        "    optimizer = torch.optim.Adam(model.parameters(), lr=learning_rate)\n",
        "    losses, train_acc, valid_acc = [], [], []\n",
        "    epochs = []\n",
        "    counter = 0\n",
        "    for epoch in range(num_epochs):\n",
        "        for tweets, labels in train:\n",
        "            counter += 1\n",
        "            optimizer.zero_grad()\n",
        "            pred = model(tweets)\n",
        "            loss = criterion(pred, labels)\n",
        "            loss.backward()\n",
        "            optimizer.step()\n",
        "            if counter % 100 == 0:\n",
        "                print(\"Step %d of Epoch: %d; Loss %f \" % ( counter/100 ,epoch+1,float(loss)))\n",
        "                \n",
        "        losses.append(float(loss))\n",
        "\n",
        "        epochs.append(epoch)\n",
        "        train_acc.append(get_accuracy(model, train_loader))\n",
        "        valid_acc.append(get_accuracy(model, valid_loader))\n",
        "        print(\"Final Result for Epoch %d; Loss %f; Train Acc %f; Val Acc %f\" % (\n",
        "              epoch+1, loss, train_acc[-1], valid_acc[-1]))\n",
        "        \n",
        "    # plotting\n",
        "    plt.title(\"Training Curve\")\n",
        "    plt.plot(losses, label=\"Train\")\n",
        "    plt.xlabel(\"Epoch\")\n",
        "    plt.ylabel(\"Loss\")\n",
        "    plt.show()\n",
        "\n",
        "    plt.title(\"Training Curve\")\n",
        "    plt.plot(epochs, train_acc, label=\"Train\")\n",
        "    plt.plot(epochs, valid_acc, label=\"Validation\")\n",
        "    plt.xlabel(\"Epoch\")\n",
        "    plt.ylabel(\"Accuracy\")\n",
        "    plt.legend(loc='best')\n",
        "    plt.show()"
      ],
      "execution_count": 0,
      "outputs": []
    },
    {
      "metadata": {
        "colab_type": "code",
        "id": "aPz9Hioigm6i",
        "colab": {
          "base_uri": "https://localhost:8080/",
          "height": 1739
        },
        "outputId": "2e68143b-8a9a-4829-ce36-c4676e195aa4"
      },
      "cell_type": "code",
      "source": [
        "model_lstm = TweetLSTM(input_size=50, hidden_size=50, num_classes=num_classes)\n",
        "train_rnn_network(model, train_loader, valid_loader, num_epochs=20, learning_rate=1e-3)\n",
        "get_accuracy(model, test_loader)"
      ],
      "execution_count": 19,
      "outputs": [
        {
          "output_type": "stream",
          "text": [
            "Step 1 of Epoch: 1; Loss 1.071759 \n",
            "Final Result for Epoch 1; Loss 1.257612; Train Acc 0.575165; Val Acc 0.590000\n",
            "Step 2 of Epoch: 2; Loss 1.203213 \n",
            "Step 3 of Epoch: 2; Loss 0.970145 \n",
            "Final Result for Epoch 2; Loss 0.981377; Train Acc 0.590879; Val Acc 0.599091\n",
            "Step 4 of Epoch: 3; Loss 1.041533 \n",
            "Step 5 of Epoch: 3; Loss 1.180924 \n",
            "Final Result for Epoch 3; Loss 1.058670; Train Acc 0.596484; Val Acc 0.611818\n",
            "Step 6 of Epoch: 4; Loss 1.262352 \n",
            "Step 7 of Epoch: 4; Loss 1.175750 \n",
            "Final Result for Epoch 4; Loss 1.223465; Train Acc 0.598791; Val Acc 0.605455\n",
            "Step 8 of Epoch: 5; Loss 0.988472 \n",
            "Step 9 of Epoch: 5; Loss 0.730529 \n",
            "Final Result for Epoch 5; Loss 1.001997; Train Acc 0.600110; Val Acc 0.610909\n",
            "Step 10 of Epoch: 6; Loss 1.077517 \n",
            "Final Result for Epoch 6; Loss 1.155995; Train Acc 0.608791; Val Acc 0.612727\n",
            "Step 11 of Epoch: 7; Loss 1.031526 \n",
            "Step 12 of Epoch: 7; Loss 1.019217 \n",
            "Final Result for Epoch 7; Loss 0.839932; Train Acc 0.610769; Val Acc 0.611818\n",
            "Step 13 of Epoch: 8; Loss 1.296723 \n",
            "Step 14 of Epoch: 8; Loss 1.068558 \n",
            "Final Result for Epoch 8; Loss 1.025129; Train Acc 0.616703; Val Acc 0.618182\n",
            "Step 15 of Epoch: 9; Loss 1.469825 \n",
            "Step 16 of Epoch: 9; Loss 1.230981 \n",
            "Final Result for Epoch 9; Loss 0.878895; Train Acc 0.620220; Val Acc 0.628182\n",
            "Step 17 of Epoch: 10; Loss 0.975764 \n",
            "Step 18 of Epoch: 10; Loss 1.210948 \n",
            "Final Result for Epoch 10; Loss 0.979680; Train Acc 0.625055; Val Acc 0.622727\n",
            "Step 19 of Epoch: 11; Loss 1.074849 \n",
            "Step 20 of Epoch: 11; Loss 1.152012 \n",
            "Final Result for Epoch 11; Loss 0.928623; Train Acc 0.622088; Val Acc 0.631818\n",
            "Step 21 of Epoch: 12; Loss 1.256202 \n",
            "Final Result for Epoch 12; Loss 1.093177; Train Acc 0.620110; Val Acc 0.609091\n",
            "Step 22 of Epoch: 13; Loss 1.120583 \n",
            "Step 23 of Epoch: 13; Loss 0.740651 \n",
            "Final Result for Epoch 13; Loss 0.928696; Train Acc 0.622088; Val Acc 0.620000\n",
            "Step 24 of Epoch: 14; Loss 0.836383 \n",
            "Step 25 of Epoch: 14; Loss 1.170678 \n",
            "Final Result for Epoch 14; Loss 1.249846; Train Acc 0.638462; Val Acc 0.617273\n",
            "Step 26 of Epoch: 15; Loss 1.058790 \n",
            "Step 27 of Epoch: 15; Loss 1.059640 \n",
            "Final Result for Epoch 15; Loss 0.851928; Train Acc 0.636703; Val Acc 0.624545\n",
            "Step 28 of Epoch: 16; Loss 1.178648 \n",
            "Step 29 of Epoch: 16; Loss 0.948106 \n",
            "Final Result for Epoch 16; Loss 0.983461; Train Acc 0.645714; Val Acc 0.604545\n",
            "Step 30 of Epoch: 17; Loss 1.000745 \n",
            "Final Result for Epoch 17; Loss 0.941389; Train Acc 0.646154; Val Acc 0.616364\n",
            "Step 31 of Epoch: 18; Loss 1.033973 \n",
            "Step 32 of Epoch: 18; Loss 0.853941 \n",
            "Final Result for Epoch 18; Loss 0.841350; Train Acc 0.650769; Val Acc 0.618182\n",
            "Step 33 of Epoch: 19; Loss 0.771993 \n",
            "Step 34 of Epoch: 19; Loss 0.792506 \n",
            "Final Result for Epoch 19; Loss 0.707865; Train Acc 0.659780; Val Acc 0.627273\n",
            "Step 35 of Epoch: 20; Loss 0.870388 \n",
            "Step 36 of Epoch: 20; Loss 0.933962 \n",
            "Final Result for Epoch 20; Loss 0.944838; Train Acc 0.669780; Val Acc 0.602727\n"
          ],
          "name": "stdout"
        },
        {
          "output_type": "display_data",
          "data": {
            "image/png": "[encoded data removed]",
            "text/plain": [
              "<Figure size 576x396 with 1 Axes>"
            ]
          },
          "metadata": {
            "tags": []
          }
        },
        {
          "output_type": "display_data",
          "data": {
            "image/png": "[encoded data removed]",
            "text/plain": [
              "<Figure size 576x396 with 1 Axes>"
            ]
          },
          "metadata": {
            "tags": []
          }
        },
        {
          "output_type": "execute_result",
          "data": {
            "text/plain": [
              "0.5809090909090909"
            ]
          },
          "metadata": {
            "tags": []
          },
          "execution_count": 19
        }
      ]
    },
    {
      "metadata": {
        "colab_type": "text",
        "id": "QA282W2hdZau"
      },
      "cell_type": "markdown",
      "source": [
        "### Saving the model"
      ]
    },
    {
      "metadata": {
        "colab_type": "code",
        "id": "iGIvu-ysukwk",
        "colab": {}
      },
      "cell_type": "code",
      "source": [
        "#torch.save(model.state_dict(), 'checkpoint.pth')"
      ],
      "execution_count": 0,
      "outputs": []
    },
    {
      "metadata": {
        "colab_type": "text",
        "id": "F0TSZ1O2dfo-"
      },
      "cell_type": "markdown",
      "source": [
        "### Loading the model"
      ]
    },
    {
      "metadata": {
        "colab_type": "code",
        "id": "h9plkTXediGq",
        "colab": {}
      },
      "cell_type": "code",
      "source": [
        "#state_dict = torch.load('checkpoint.pth')"
      ],
      "execution_count": 0,
      "outputs": []
    },
    {
      "metadata": {
        "colab_type": "code",
        "id": "eGTAC6Wudkv3",
        "colab": {}
      },
      "cell_type": "code",
      "source": [
        "#model.load_state_dict(state_dict)"
      ],
      "execution_count": 0,
      "outputs": []
    },
    {
      "metadata": {
        "colab_type": "text",
        "id": "FqbUdJgD0iec"
      },
      "cell_type": "markdown",
      "source": [
        "### Inference"
      ]
    },
    {
      "metadata": {
        "colab_type": "code",
        "id": "TMF8kPVVvh91",
        "colab": {}
      },
      "cell_type": "code",
      "source": [
        "# Tweet Test\n",
        "happy_tweet = 'Im happy'\n",
        "sad_tweet = 'Im sad'\n",
        "angry = 'Im angry'\n",
        "surprised_tweet = 'Im surprised'\n",
        "disgusted_tweet = 'Im disgusted'\n",
        "afraid_tweet = 'Im afraid'"
      ],
      "execution_count": 0,
      "outputs": []
    },
    {
      "metadata": {
        "colab_type": "code",
        "id": "eO3IhcoX0vqy",
        "colab": {}
      },
      "cell_type": "code",
      "source": [
        "def tweet_to_glove_index(tweet,glove_dict):\n",
        "    tweets_ints = []\n",
        "    tweet = tweet.lower()\n",
        "    idxs = [glove_dict.stoi[w]        # lookup the index of word\n",
        "            for w in tweet.split()\n",
        "            if w in glove_dict.stoi] # keep words that has an embedding\n",
        "    tweets_ints.append(idxs)\n",
        "    return tweets_ints"
      ],
      "execution_count": 0,
      "outputs": []
    },
    {
      "metadata": {
        "colab_type": "code",
        "id": "eBnsPtrJ1NgH",
        "colab": {}
      },
      "cell_type": "code",
      "source": [
        "int_to_emotion = {0:'Happy', 1:'Sad' , 2:'Angry', 3:'Surprised', 4:'Disgusted', 5:'Afraid'}\n",
        "\n",
        "def predict(model, test_tweet, sequence_length=max(tweets_lens)):\n",
        "    \n",
        "    \n",
        "    # tokenize tweet\n",
        "    test_ints = tweet_to_glove_index(test_tweet,glove)\n",
        "    \n",
        "    # pad tokenized sequence\n",
        "    seq_length=sequence_length\n",
        "    features = pad_features(test_ints, seq_length)\n",
        "    \n",
        "    # convert to tensor to pass into your model\n",
        "    feature_tensor = torch.from_numpy(features)\n",
        "    \n",
        "    batch_size = feature_tensor.size(0)\n",
        "    \n",
        "    \n",
        "    # get the output from the model\n",
        "    output = model(feature_tensor)\n",
        "    \n",
        "    # convert output probabilities to predicted class (0 or 1)\n",
        "    output_prob = nn.functional.softmax(output,dim=1)\n",
        "    top_n_pred = output_prob.topk(3,dim=1) ## top 3 preds\n",
        "    top_n_pred_prob, top_n_pred_index = top_n_pred[0].detach().numpy()[0], top_n_pred[1].detach().numpy()[0]\n",
        "    print(test_tweet)\n",
        "    print('Prediction:')\n",
        "    for prob,index in zip(top_n_pred_prob,top_n_pred_index):\n",
        "        print(int_to_emotion[index] , 'with' , str(int(prob*100))+\"%\", 'confidence')\n",
        "    print('---------------')"
      ],
      "execution_count": 0,
      "outputs": []
    },
    {
      "metadata": {
        "colab_type": "code",
        "id": "TyMRFkX43fhn",
        "colab": {
          "base_uri": "https://localhost:8080/",
          "height": 651
        },
        "outputId": "3c5e0309-9852-44f7-bd77-29db2b1e99e8"
      },
      "cell_type": "code",
      "source": [
        "predict(model,happy_tweet)\n",
        "predict(model,sad_tweet)\n",
        "predict(model,angry)\n",
        "predict(model,surprised_tweet)\n",
        "predict(model,disgusted_tweet)\n",
        "predict(model,afraid_tweet)"
      ],
      "execution_count": 26,
      "outputs": [
        {
          "output_type": "stream",
          "text": [
            "Im happy\n",
            "Prediction:\n",
            "Sad with 44% confidence\n",
            "Happy with 35% confidence\n",
            "Afraid with 5% confidence\n",
            "---------------\n",
            "Im sad\n",
            "Prediction:\n",
            "Sad with 77% confidence\n",
            "Happy with 5% confidence\n",
            "Afraid with 5% confidence\n",
            "---------------\n",
            "Im angry\n",
            "Prediction:\n",
            "Sad with 33% confidence\n",
            "Happy with 21% confidence\n",
            "Surprised with 16% confidence\n",
            "---------------\n",
            "Im surprised\n",
            "Prediction:\n",
            "Happy with 29% confidence\n",
            "Sad with 29% confidence\n",
            "Surprised with 12% confidence\n",
            "---------------\n",
            "Im disgusted\n",
            "Prediction:\n",
            "Sad with 42% confidence\n",
            "Happy with 12% confidence\n",
            "Surprised with 12% confidence\n",
            "---------------\n",
            "Im afraid\n",
            "Prediction:\n",
            "Sad with 35% confidence\n",
            "Surprised with 17% confidence\n",
            "Happy with 16% confidence\n",
            "---------------\n"
          ],
          "name": "stdout"
        }
      ]
    },
    {
      "metadata": {
        "colab_type": "code",
        "id": "AUhEs_I4hJ8M",
        "colab": {}
      },
      "cell_type": "code",
      "source": [
        "tweets = ['he said he will be there and he showed up','he said he will be there but he did not show up', 'he said he will be there and he showed up with his friends',\n",
        "          'I lose', 'I have lost', 'I won', 'Live long', 'I am the best', 'I hate losing', 'I dont hate you', 'I do not hate you']"
      ],
      "execution_count": 0,
      "outputs": []
    },
    {
      "metadata": {
        "colab_type": "code",
        "id": "MollcketAEYZ",
        "colab": {
          "base_uri": "https://localhost:8080/",
          "height": 1179
        },
        "outputId": "029787d2-550a-40c8-dad0-7d4745d7c7a6"
      },
      "cell_type": "code",
      "source": [
        "for tweet in tweets:\n",
        "    predict(model, tweet)"
      ],
      "execution_count": 28,
      "outputs": [
        {
          "output_type": "stream",
          "text": [
            "he said he will be there and he showed up\n",
            "Prediction:\n",
            "Happy with 50% confidence\n",
            "Sad with 14% confidence\n",
            "Afraid with 13% confidence\n",
            "---------------\n",
            "he said he will be there but he did not show up\n",
            "Prediction:\n",
            "Happy with 44% confidence\n",
            "Sad with 17% confidence\n",
            "Afraid with 13% confidence\n",
            "---------------\n",
            "he said he will be there and he showed up with his friends\n",
            "Prediction:\n",
            "Sad with 30% confidence\n",
            "Happy with 28% confidence\n",
            "Afraid with 17% confidence\n",
            "---------------\n",
            "I lose\n",
            "Prediction:\n",
            "Happy with 54% confidence\n",
            "Sad with 30% confidence\n",
            "Angry with 5% confidence\n",
            "---------------\n",
            "I have lost\n",
            "Prediction:\n",
            "Sad with 45% confidence\n",
            "Happy with 43% confidence\n",
            "Disgusted with 3% confidence\n",
            "---------------\n",
            "I won\n",
            "Prediction:\n",
            "Happy with 83% confidence\n",
            "Sad with 10% confidence\n",
            "Angry with 2% confidence\n",
            "---------------\n",
            "Live long\n",
            "Prediction:\n",
            "Happy with 74% confidence\n",
            "Sad with 12% confidence\n",
            "Surprised with 3% confidence\n",
            "---------------\n",
            "I am the best\n",
            "Prediction:\n",
            "Happy with 67% confidence\n",
            "Sad with 18% confidence\n",
            "Angry with 4% confidence\n",
            "---------------\n",
            "I hate losing\n",
            "Prediction:\n",
            "Sad with 44% confidence\n",
            "Happy with 21% confidence\n",
            "Disgusted with 14% confidence\n",
            "---------------\n",
            "I dont hate you\n",
            "Prediction:\n",
            "Sad with 32% confidence\n",
            "Happy with 27% confidence\n",
            "Angry with 18% confidence\n",
            "---------------\n",
            "I do not hate you\n",
            "Prediction:\n",
            "Happy with 32% confidence\n",
            "Sad with 21% confidence\n",
            "Angry with 21% confidence\n",
            "---------------\n"
          ],
          "name": "stdout"
        }
      ]
    },
    {
      "metadata": {
        "colab_type": "code",
        "id": "ttE3WT7qAGgM",
        "colab": {
          "base_uri": "https://localhost:8080/",
          "height": 651
        },
        "outputId": "9b50d404-e031-4b36-dc1c-10f26f2cbd28"
      },
      "cell_type": "code",
      "source": [
        "tweets = ['You are so crazy',\n",
        "          'You make me feel so cool',\n",
        "          'I hate you',\n",
        "          'I HATE YOU',\n",
        "          'you ruined my apetite',\n",
        "          'that food was terrible']\n",
        "\n",
        "for tweet in tweets:\n",
        "    predict(model, tweet)"
      ],
      "execution_count": 29,
      "outputs": [
        {
          "output_type": "stream",
          "text": [
            "You are so crazy\n",
            "Prediction:\n",
            "Happy with 87% confidence\n",
            "Sad with 8% confidence\n",
            "Surprised with 0% confidence\n",
            "---------------\n",
            "You make me feel so cool\n",
            "Prediction:\n",
            "Happy with 84% confidence\n",
            "Sad with 12% confidence\n",
            "Angry with 1% confidence\n",
            "---------------\n",
            "I hate you\n",
            "Prediction:\n",
            "Sad with 37% confidence\n",
            "Happy with 24% confidence\n",
            "Disgusted with 15% confidence\n",
            "---------------\n",
            "I HATE YOU\n",
            "Prediction:\n",
            "Sad with 37% confidence\n",
            "Happy with 24% confidence\n",
            "Disgusted with 15% confidence\n",
            "---------------\n",
            "you ruined my apetite\n",
            "Prediction:\n",
            "Happy with 55% confidence\n",
            "Sad with 29% confidence\n",
            "Disgusted with 7% confidence\n",
            "---------------\n",
            "that food was terrible\n",
            "Prediction:\n",
            "Sad with 52% confidence\n",
            "Happy with 22% confidence\n",
            "Disgusted with 12% confidence\n",
            "---------------\n"
          ],
          "name": "stdout"
        }
      ]
    }
  ]
}