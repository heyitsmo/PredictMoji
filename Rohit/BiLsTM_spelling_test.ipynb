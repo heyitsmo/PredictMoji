{
  "nbformat": 4,
  "nbformat_minor": 0,
  "metadata": {
    "colab": {
      "name": "BiLsTM_spelling_test.ipynb",
      "version": "0.3.2",
      "provenance": [],
      "collapsed_sections": [],
      "toc_visible": true
    },
    "kernelspec": {
      "name": "python3",
      "display_name": "Python 3"
    },
    "accelerator": "GPU"
  },
  "cells": [
    {
      "metadata": {
        "id": "kjt9iuwEgm5T",
        "colab_type": "code",
        "colab": {}
      },
      "cell_type": "code",
      "source": [
        "import csv\n",
        "import torch\n",
        "import torch.nn as nn\n",
        "import torch.nn.functional as F\n",
        "import torch.optim as optim\n",
        "import torchtext\n",
        "import numpy as np\n",
        "import matplotlib.pyplot as plt"
      ],
      "execution_count": 0,
      "outputs": []
    },
    {
      "metadata": {
        "id": "tGMIDRTHgm5b",
        "colab_type": "code",
        "colab": {}
      },
      "cell_type": "code",
      "source": [
        "import pandas"
      ],
      "execution_count": 0,
      "outputs": []
    },
    {
      "metadata": {
        "id": "26_C6S4Ugm5e",
        "colab_type": "code",
        "colab": {}
      },
      "cell_type": "code",
      "source": [
        "def get_data():\n",
        "    header = ['tweet','label']\n",
        "    data_set = pandas.read_csv('augment_spelling.txt',delimiter='\\t',names = header)\n",
        "    return data_set\n",
        "\n",
        "def split_tweet(tweet):\n",
        "    return tweet.split()    \n"
      ],
      "execution_count": 0,
      "outputs": []
    },
    {
      "metadata": {
        "id": "bmOzSIDpgm5h",
        "colab_type": "code",
        "colab": {}
      },
      "cell_type": "code",
      "source": [
        "data_set = get_data()"
      ],
      "execution_count": 0,
      "outputs": []
    },
    {
      "metadata": {
        "id": "ey347C1Zgm5l",
        "colab_type": "code",
        "colab": {}
      },
      "cell_type": "code",
      "source": [
        "glove = torchtext.vocab.GloVe(name=\"twitter.27B\",dim=50)\n",
        "\n",
        "# inser padding character into glove embedding, we overwrite the first element and that's okay\n",
        "# because we don't use the first element in our vocab\n",
        "glove.vectors[0] = torch.tensor(np.zeros(50))"
      ],
      "execution_count": 0,
      "outputs": []
    },
    {
      "metadata": {
        "id": "sQ8JIzR4gm5q",
        "colab_type": "code",
        "outputId": "f050603f-80b2-4155-edb0-0a4ef4e27733",
        "colab": {
          "base_uri": "https://localhost:8080/",
          "height": 35
        }
      },
      "cell_type": "code",
      "source": [
        "len(data_set)"
      ],
      "execution_count": 6,
      "outputs": [
        {
          "output_type": "execute_result",
          "data": {
            "text/plain": [
              "11379"
            ]
          },
          "metadata": {
            "tags": []
          },
          "execution_count": 6
        }
      ]
    },
    {
      "metadata": {
        "id": "cWYeV80Sgm59",
        "colab_type": "code",
        "colab": {}
      },
      "cell_type": "code",
      "source": [
        "def data_set_to_glove_index(glove_dict):\n",
        "    tweets_ints, encoded_labels = [],[]\n",
        "    for i in range(len(data_set)):\n",
        "        tweet = data_set['tweet'][i]\n",
        "        label = data_set['label'][i]\n",
        "        if(type(tweet) != str):\n",
        "            continue\n",
        "        idxs = [glove_dict.stoi[w]        # lookup the index of word\n",
        "            for w in tweet.split()\n",
        "            if w in glove_dict.stoi] # keep words that has an embedding\n",
        "        if not idxs: # ignore tweets without any word with an embedding\n",
        "            continue\n",
        "        tweets_ints.append(idxs)\n",
        "        encoded_labels.append(label)\n",
        "    return tweets_ints, encoded_labels"
      ],
      "execution_count": 0,
      "outputs": []
    },
    {
      "metadata": {
        "id": "uci6Anmugm5-",
        "colab_type": "code",
        "colab": {}
      },
      "cell_type": "code",
      "source": [
        "tweets_ints, encoded_labels = data_set_to_glove_index(glove)"
      ],
      "execution_count": 0,
      "outputs": []
    },
    {
      "metadata": {
        "id": "sB-kS3issuZ8",
        "colab_type": "code",
        "outputId": "82bf4d70-5176-478c-aab3-36906c601179",
        "colab": {
          "base_uri": "https://localhost:8080/",
          "height": 52
        }
      },
      "cell_type": "code",
      "source": [
        "from collections import Counter\n",
        "# outlier review stats\n",
        "tweets_lens = Counter([len(x) for x in tweets_ints])\n",
        "print(\"Zero-length tweets: {}\".format(tweets_lens[0]))\n",
        "print(\"Maximum tweet length: {}\".format(max(tweets_lens)))"
      ],
      "execution_count": 9,
      "outputs": [
        {
          "output_type": "stream",
          "text": [
            "Zero-length tweets: 0\n",
            "Maximum tweet length: 38\n"
          ],
          "name": "stdout"
        }
      ]
    },
    {
      "metadata": {
        "id": "CxaLejWos_Tw",
        "colab_type": "code",
        "colab": {}
      },
      "cell_type": "code",
      "source": [
        "def pad_features(tweets_ints, seq_length):\n",
        "    ''' Return features of review_ints, where each review is padded with 0's \n",
        "        or truncated to the input seq_length.\n",
        "    '''\n",
        "    \n",
        "    # getting the correct rows x cols shape\n",
        "    features = np.zeros((len(tweets_ints), seq_length), dtype=int)\n",
        "\n",
        "    # for each review, I grab that review and \n",
        "    for i, row in enumerate(tweets_ints):\n",
        "        features[i, -len(row):] = np.array(row)[:seq_length]\n",
        "    \n",
        "    return features"
      ],
      "execution_count": 0,
      "outputs": []
    },
    {
      "metadata": {
        "id": "Wy8MFokXs_9K",
        "colab_type": "code",
        "colab": {}
      },
      "cell_type": "code",
      "source": [
        "seq_length = max(tweets_lens)\n",
        "\n",
        "features = pad_features(tweets_ints, seq_length=seq_length)\n",
        "encoded_labels = np.array(encoded_labels)"
      ],
      "execution_count": 0,
      "outputs": []
    },
    {
      "metadata": {
        "id": "gm-jUzQ8teCo",
        "colab_type": "text"
      },
      "cell_type": "markdown",
      "source": [
        "### Train, Validation, Test Split"
      ]
    },
    {
      "metadata": {
        "id": "8yZGBcHztBGC",
        "colab_type": "code",
        "colab": {}
      },
      "cell_type": "code",
      "source": [
        "from sklearn.utils import shuffle\n",
        "features, encoded_labels = shuffle(features, encoded_labels)"
      ],
      "execution_count": 0,
      "outputs": []
    },
    {
      "metadata": {
        "id": "0nYglhndtgYi",
        "colab_type": "code",
        "outputId": "1ce735a9-be05-4351-9124-79138f3b5062",
        "colab": {
          "base_uri": "https://localhost:8080/",
          "height": 87
        }
      },
      "cell_type": "code",
      "source": [
        "split_frac = 0.8\n",
        "\n",
        "## split data into training, validation, and test data (features and labels, x and y)\n",
        "\n",
        "split_idx = int(len(features)*split_frac)\n",
        "train_x, remaining_x = features[:split_idx], features[split_idx:]\n",
        "train_y, remaining_y = encoded_labels[:split_idx], encoded_labels[split_idx:]\n",
        "\n",
        "test_idx = int(len(remaining_x)*0.5)\n",
        "val_x, test_x = remaining_x[:test_idx], remaining_x[test_idx:]\n",
        "val_y, test_y = remaining_y[:test_idx], remaining_y[test_idx:]\n",
        "\n",
        "## print out the shapes of your resultant feature data\n",
        "print(\"\\t\\t\\tFeature Shapes:\")\n",
        "print(\"Train set: \\t\\t{}\".format(train_x.shape), \n",
        "      \"\\nValidation set: \\t{}\".format(val_x.shape),\n",
        "      \"\\nTest set: \\t\\t{}\".format(test_x.shape))"
      ],
      "execution_count": 13,
      "outputs": [
        {
          "output_type": "stream",
          "text": [
            "\t\t\tFeature Shapes:\n",
            "Train set: \t\t(9102, 38) \n",
            "Validation set: \t(1138, 38) \n",
            "Test set: \t\t(1138, 38)\n"
          ],
          "name": "stdout"
        }
      ]
    },
    {
      "metadata": {
        "id": "BV-wQQmb5d7j",
        "colab_type": "text"
      },
      "cell_type": "markdown",
      "source": [
        "### DataLoader and Batching"
      ]
    },
    {
      "metadata": {
        "id": "FHgkWFzb5eRF",
        "colab_type": "code",
        "colab": {}
      },
      "cell_type": "code",
      "source": [
        "from torch.utils.data import TensorDataset, DataLoader\n",
        "\n",
        "# create Tensor datasets\n",
        "train_data = TensorDataset(torch.from_numpy(train_x), torch.from_numpy(train_y))\n",
        "valid_data = TensorDataset(torch.from_numpy(val_x), torch.from_numpy(val_y))\n",
        "test_data = TensorDataset(torch.from_numpy(test_x), torch.from_numpy(test_y))\n",
        "\n",
        "# dataloaders\n",
        "batch_size = 50\n",
        "\n",
        "# make sure the SHUFFLE your training data\n",
        "train_loader = DataLoader(train_data, shuffle=True, batch_size=batch_size,drop_last=True)\n",
        "valid_loader = DataLoader(valid_data, shuffle=True, batch_size=batch_size,drop_last=True)\n",
        "test_loader = DataLoader(test_data, shuffle=True, batch_size=batch_size,drop_last=True)"
      ],
      "execution_count": 0,
      "outputs": []
    },
    {
      "metadata": {
        "id": "DxNTXSGU5mpX",
        "colab_type": "code",
        "outputId": "586aa910-d7f3-417b-bdf2-a43883ef8499",
        "colab": {
          "base_uri": "https://localhost:8080/",
          "height": 35
        }
      },
      "cell_type": "code",
      "source": [
        "len(train_loader)"
      ],
      "execution_count": 15,
      "outputs": [
        {
          "output_type": "execute_result",
          "data": {
            "text/plain": [
              "182"
            ]
          },
          "metadata": {
            "tags": []
          },
          "execution_count": 15
        }
      ]
    },
    {
      "metadata": {
        "id": "AkI6wmX8gm6U",
        "colab_type": "text"
      },
      "cell_type": "markdown",
      "source": [
        "### Building the model"
      ]
    },
    {
      "metadata": {
        "id": "TdnI3kw0gm6V",
        "colab_type": "code",
        "colab": {}
      },
      "cell_type": "code",
      "source": [
        "class TweetLSTM(nn.Module):\n",
        "    def __init__(self, input_size, hidden_size, num_classes, use_gpu):\n",
        "        super(TweetLSTM, self).__init__()\n",
        "        self.use_gpu = use_gpu\n",
        "        self.emb = nn.Embedding.from_pretrained(glove.vectors)\n",
        "        self.hidden_size = hidden_size\n",
        "        self.rnn = nn.LSTM(input_size, hidden_size,bidirectional=True,batch_first=True)\n",
        "        self.fc = nn.Linear(2 * hidden_size, num_classes) # 2 * hidden_size because LSTM is bidrectional \n",
        "    def forward(self, x):\n",
        "        # Look up the embedding\n",
        "        x = self.emb(x)\n",
        "        # Set an initial hidden state and cell state\n",
        "        \n",
        "        if self.use_gpu:\n",
        "            h0 = torch.zeros(2, x.size(0), self.hidden_size).cuda()\n",
        "            c0 = torch.zeros(2, x.size(0), self.hidden_size).cuda()\n",
        "        else:\n",
        "            h0 = torch.zeros(2, x.size(0), self.hidden_size)\n",
        "            c0 = torch.zeros(2, x.size(0), self.hidden_size)\n",
        "        # Forward propagate the LSTM\n",
        "        out, _ = self.rnn(x, (h0, c0))\n",
        "        # Pass the output of the last time step to the classifier\n",
        "        out = self.fc(out[:, -1, :])\n",
        "        return out\n",
        "num_classes = 6\n",
        "model = TweetLSTM(input_size=50, hidden_size=50, num_classes=num_classes,use_gpu=True)"
      ],
      "execution_count": 0,
      "outputs": []
    },
    {
      "metadata": {
        "id": "90sHCtA9gm6c",
        "colab_type": "code",
        "outputId": "916590bf-cc60-4417-d1f4-b1e95687887c",
        "colab": {
          "base_uri": "https://localhost:8080/",
          "height": 35
        }
      },
      "cell_type": "code",
      "source": [
        "def get_accuracy(model, data_loader, use_gpu):\n",
        "    if use_gpu:\n",
        "        model.cuda()\n",
        "    correct, total = 0, 0\n",
        "    for tweets, labels in data_loader:\n",
        "        if use_gpu:\n",
        "            tweets,labels  = tweets.cuda(), labels.cuda()\n",
        "        output = model(tweets)\n",
        "        pred = output.max(1, keepdim=True)[1]\n",
        "        correct += pred.eq(labels.view_as(pred)).sum().item()\n",
        "        total += labels.shape[0]\n",
        "    return float(correct) / float(total)\n",
        "  \n",
        "\n",
        "get_accuracy(model, test_loader,use_gpu = True)\n"
      ],
      "execution_count": 17,
      "outputs": [
        {
          "output_type": "execute_result",
          "data": {
            "text/plain": [
              "0.05272727272727273"
            ]
          },
          "metadata": {
            "tags": []
          },
          "execution_count": 17
        }
      ]
    },
    {
      "metadata": {
        "id": "XUd3LjcAgm6g",
        "colab_type": "code",
        "colab": {}
      },
      "cell_type": "code",
      "source": [
        "def train_rnn_network(model, train, valid, num_epochs=5, learning_rate=1e-5,use_gpu=True):\n",
        "    if use_gpu:\n",
        "        model.cuda()\n",
        "    criterion = nn.CrossEntropyLoss()\n",
        "    optimizer = torch.optim.Adam(model.parameters(), lr=learning_rate)\n",
        "    losses, train_acc, valid_acc = [], [], np.zeros(num_epochs)\n",
        "    models = []\n",
        "    epochs = []\n",
        "    counter = 0\n",
        "    for epoch in range(num_epochs):\n",
        "        batch_loss = []\n",
        "        for tweets, labels in train:\n",
        "            if use_gpu:\n",
        "                tweets,labels  = tweets.cuda(), labels.cuda()\n",
        "            counter += 1\n",
        "            optimizer.zero_grad()\n",
        "            pred = model(tweets)\n",
        "            loss = criterion(pred, labels)\n",
        "            loss.backward()\n",
        "            optimizer.step()\n",
        "            batch_loss.append(float(loss))\n",
        "            if counter % 100 == 0:\n",
        "                print(\"Step %d of Epoch: %d; Loss %f \" % ( counter/100 ,epoch+1,np.mean(batch_loss)))\n",
        "        counter = 0\n",
        "        epoch_loss = np.mean(batch_loss)\n",
        "        losses.append(epoch_loss)\n",
        "        \n",
        "        models.append(model.state_dict())\n",
        "        \n",
        "        epochs.append(epoch)\n",
        "        train_acc.append(get_accuracy(model, train_loader,use_gpu))\n",
        "        valid_acc[epoch] = get_accuracy(model, valid_loader,use_gpu)\n",
        "        \n",
        "        print(\"Final Result for Epoch %d: Loss %f; Val Acc %f; Train Acc %f\" % (\n",
        "              epoch+1, epoch_loss, valid_acc[epoch], train_acc[-1]))\n",
        "        print(\"-------------------------------------------------------------\")\n",
        "        \n",
        "    # plotting\n",
        "    plt.title(\"Training Curve\")\n",
        "    plt.plot(losses, label=\"Train\")\n",
        "    plt.xlabel(\"Epoch\")\n",
        "    plt.ylabel(\"Loss\")\n",
        "    plt.show()\n",
        "\n",
        "    plt.title(\"Training Curve\")\n",
        "    plt.plot(epochs, train_acc, label=\"Train\")\n",
        "    plt.plot(epochs, valid_acc, label=\"Validation\")\n",
        "    plt.xlabel(\"Epoch\")\n",
        "    plt.ylabel(\"Accuracy\")\n",
        "    plt.legend(loc='best')\n",
        "    plt.show()\n",
        "    return models, valid_acc"
      ],
      "execution_count": 0,
      "outputs": []
    },
    {
      "metadata": {
        "id": "aPz9Hioigm6i",
        "colab_type": "code",
        "outputId": "a6bf98bb-050b-464c-90f5-9542d49c20ca",
        "colab": {
          "base_uri": "https://localhost:8080/",
          "height": 6033
        }
      },
      "cell_type": "code",
      "source": [
        "import time\n",
        "start = time.time()\n",
        "model = TweetLSTM(input_size=50, hidden_size=50, num_classes=num_classes,use_gpu=True)\n",
        "models, valids = train_rnn_network(model, train_loader, valid_loader, num_epochs=100, learning_rate=1e-3,use_gpu=True)\n",
        "end = time.time()\n",
        "print(\"total training time:\", int(end -start), \"s\")"
      ],
      "execution_count": 19,
      "outputs": [
        {
          "output_type": "stream",
          "text": [
            "Step 1 of Epoch: 1; Loss 1.277567 \n",
            "Final Result for Epoch 1: Loss 1.243901; Val Acc 0.580000; Train Acc 0.579231\n",
            "-------------------------------------------------------------\n",
            "Step 1 of Epoch: 2; Loss 1.171434 \n",
            "Final Result for Epoch 2: Loss 1.164904; Val Acc 0.581818; Train Acc 0.587363\n",
            "-------------------------------------------------------------\n",
            "Step 1 of Epoch: 3; Loss 1.145573 \n",
            "Final Result for Epoch 3: Loss 1.137703; Val Acc 0.578182; Train Acc 0.593516\n",
            "-------------------------------------------------------------\n",
            "Step 1 of Epoch: 4; Loss 1.126156 \n",
            "Final Result for Epoch 4: Loss 1.127609; Val Acc 0.592727; Train Acc 0.604505\n",
            "-------------------------------------------------------------\n",
            "Step 1 of Epoch: 5; Loss 1.101537 \n",
            "Final Result for Epoch 5: Loss 1.109329; Val Acc 0.590000; Train Acc 0.610549\n",
            "-------------------------------------------------------------\n",
            "Step 1 of Epoch: 6; Loss 1.087303 \n",
            "Final Result for Epoch 6: Loss 1.097110; Val Acc 0.589091; Train Acc 0.615714\n",
            "-------------------------------------------------------------\n",
            "Step 1 of Epoch: 7; Loss 1.097942 \n",
            "Final Result for Epoch 7: Loss 1.084509; Val Acc 0.586364; Train Acc 0.618571\n",
            "-------------------------------------------------------------\n",
            "Step 1 of Epoch: 8; Loss 1.071090 \n",
            "Final Result for Epoch 8: Loss 1.074541; Val Acc 0.602727; Train Acc 0.624066\n",
            "-------------------------------------------------------------\n",
            "Step 1 of Epoch: 9; Loss 1.049619 \n",
            "Final Result for Epoch 9: Loss 1.061912; Val Acc 0.601818; Train Acc 0.628681\n",
            "-------------------------------------------------------------\n",
            "Step 1 of Epoch: 10; Loss 1.049311 \n",
            "Final Result for Epoch 10: Loss 1.048434; Val Acc 0.595455; Train Acc 0.630879\n",
            "-------------------------------------------------------------\n",
            "Step 1 of Epoch: 11; Loss 1.039052 \n",
            "Final Result for Epoch 11: Loss 1.036274; Val Acc 0.600000; Train Acc 0.634835\n",
            "-------------------------------------------------------------\n",
            "Step 1 of Epoch: 12; Loss 1.030132 \n",
            "Final Result for Epoch 12: Loss 1.024073; Val Acc 0.597273; Train Acc 0.639451\n",
            "-------------------------------------------------------------\n",
            "Step 1 of Epoch: 13; Loss 1.023603 \n",
            "Final Result for Epoch 13: Loss 1.009763; Val Acc 0.592727; Train Acc 0.647692\n",
            "-------------------------------------------------------------\n",
            "Step 1 of Epoch: 14; Loss 0.990734 \n",
            "Final Result for Epoch 14: Loss 0.994781; Val Acc 0.605455; Train Acc 0.644066\n",
            "-------------------------------------------------------------\n",
            "Step 1 of Epoch: 15; Loss 0.960898 \n",
            "Final Result for Epoch 15: Loss 0.981065; Val Acc 0.592727; Train Acc 0.654286\n",
            "-------------------------------------------------------------\n",
            "Step 1 of Epoch: 16; Loss 0.962422 \n",
            "Final Result for Epoch 16: Loss 0.960881; Val Acc 0.598182; Train Acc 0.656154\n",
            "-------------------------------------------------------------\n",
            "Step 1 of Epoch: 17; Loss 0.934618 \n",
            "Final Result for Epoch 17: Loss 0.946175; Val Acc 0.594545; Train Acc 0.670000\n",
            "-------------------------------------------------------------\n",
            "Step 1 of Epoch: 18; Loss 0.913635 \n",
            "Final Result for Epoch 18: Loss 0.926951; Val Acc 0.595455; Train Acc 0.660879\n",
            "-------------------------------------------------------------\n",
            "Step 1 of Epoch: 19; Loss 0.901490 \n",
            "Final Result for Epoch 19: Loss 0.908576; Val Acc 0.576364; Train Acc 0.679780\n",
            "-------------------------------------------------------------\n",
            "Step 1 of Epoch: 20; Loss 0.859953 \n",
            "Final Result for Epoch 20: Loss 0.888551; Val Acc 0.565455; Train Acc 0.687473\n",
            "-------------------------------------------------------------\n",
            "Step 1 of Epoch: 21; Loss 0.883771 \n",
            "Final Result for Epoch 21: Loss 0.870045; Val Acc 0.565455; Train Acc 0.694176\n",
            "-------------------------------------------------------------\n",
            "Step 1 of Epoch: 22; Loss 0.844748 \n",
            "Final Result for Epoch 22: Loss 0.847775; Val Acc 0.558182; Train Acc 0.703187\n",
            "-------------------------------------------------------------\n",
            "Step 1 of Epoch: 23; Loss 0.819739 \n",
            "Final Result for Epoch 23: Loss 0.831480; Val Acc 0.577273; Train Acc 0.706593\n",
            "-------------------------------------------------------------\n",
            "Step 1 of Epoch: 24; Loss 0.803031 \n",
            "Final Result for Epoch 24: Loss 0.810397; Val Acc 0.553636; Train Acc 0.711648\n",
            "-------------------------------------------------------------\n",
            "Step 1 of Epoch: 25; Loss 0.781036 \n",
            "Final Result for Epoch 25: Loss 0.788316; Val Acc 0.570000; Train Acc 0.723187\n",
            "-------------------------------------------------------------\n",
            "Step 1 of Epoch: 26; Loss 0.758526 \n",
            "Final Result for Epoch 26: Loss 0.773069; Val Acc 0.537273; Train Acc 0.729670\n",
            "-------------------------------------------------------------\n",
            "Step 1 of Epoch: 27; Loss 0.728550 \n",
            "Final Result for Epoch 27: Loss 0.753740; Val Acc 0.556364; Train Acc 0.739451\n",
            "-------------------------------------------------------------\n",
            "Step 1 of Epoch: 28; Loss 0.726545 \n",
            "Final Result for Epoch 28: Loss 0.733877; Val Acc 0.555455; Train Acc 0.748571\n",
            "-------------------------------------------------------------\n",
            "Step 1 of Epoch: 29; Loss 0.715808 \n",
            "Final Result for Epoch 29: Loss 0.716638; Val Acc 0.545455; Train Acc 0.756374\n",
            "-------------------------------------------------------------\n",
            "Step 1 of Epoch: 30; Loss 0.681012 \n",
            "Final Result for Epoch 30: Loss 0.692180; Val Acc 0.553636; Train Acc 0.749890\n",
            "-------------------------------------------------------------\n",
            "Step 1 of Epoch: 31; Loss 0.670997 \n",
            "Final Result for Epoch 31: Loss 0.675639; Val Acc 0.533636; Train Acc 0.760989\n",
            "-------------------------------------------------------------\n",
            "Step 1 of Epoch: 32; Loss 0.647444 \n",
            "Final Result for Epoch 32: Loss 0.658966; Val Acc 0.559091; Train Acc 0.765714\n",
            "-------------------------------------------------------------\n",
            "Step 1 of Epoch: 33; Loss 0.630338 \n",
            "Final Result for Epoch 33: Loss 0.636896; Val Acc 0.546364; Train Acc 0.781868\n",
            "-------------------------------------------------------------\n",
            "Step 1 of Epoch: 34; Loss 0.622397 \n",
            "Final Result for Epoch 34: Loss 0.627734; Val Acc 0.519091; Train Acc 0.748132\n",
            "-------------------------------------------------------------\n",
            "Step 1 of Epoch: 35; Loss 0.607635 \n",
            "Final Result for Epoch 35: Loss 0.617596; Val Acc 0.538182; Train Acc 0.792967\n",
            "-------------------------------------------------------------\n",
            "Step 1 of Epoch: 36; Loss 0.570400 \n",
            "Final Result for Epoch 36: Loss 0.592238; Val Acc 0.551818; Train Acc 0.797912\n",
            "-------------------------------------------------------------\n",
            "Step 1 of Epoch: 37; Loss 0.552961 \n",
            "Final Result for Epoch 37: Loss 0.577752; Val Acc 0.530909; Train Acc 0.809560\n",
            "-------------------------------------------------------------\n",
            "Step 1 of Epoch: 38; Loss 0.537302 \n",
            "Final Result for Epoch 38: Loss 0.555594; Val Acc 0.509091; Train Acc 0.808352\n",
            "-------------------------------------------------------------\n",
            "Step 1 of Epoch: 39; Loss 0.552433 \n",
            "Final Result for Epoch 39: Loss 0.549260; Val Acc 0.539091; Train Acc 0.804396\n",
            "-------------------------------------------------------------\n",
            "Step 1 of Epoch: 40; Loss 0.527046 \n",
            "Final Result for Epoch 40: Loss 0.536432; Val Acc 0.511818; Train Acc 0.816484\n",
            "-------------------------------------------------------------\n",
            "Step 1 of Epoch: 41; Loss 0.511156 \n",
            "Final Result for Epoch 41: Loss 0.524714; Val Acc 0.531818; Train Acc 0.817363\n",
            "-------------------------------------------------------------\n",
            "Step 1 of Epoch: 42; Loss 0.499812 \n",
            "Final Result for Epoch 42: Loss 0.511867; Val Acc 0.517273; Train Acc 0.829890\n",
            "-------------------------------------------------------------\n",
            "Step 1 of Epoch: 43; Loss 0.489402 \n",
            "Final Result for Epoch 43: Loss 0.495388; Val Acc 0.527273; Train Acc 0.833077\n",
            "-------------------------------------------------------------\n",
            "Step 1 of Epoch: 44; Loss 0.466531 \n",
            "Final Result for Epoch 44: Loss 0.481342; Val Acc 0.518182; Train Acc 0.834945\n",
            "-------------------------------------------------------------\n",
            "Step 1 of Epoch: 45; Loss 0.468477 \n",
            "Final Result for Epoch 45: Loss 0.467323; Val Acc 0.523636; Train Acc 0.842857\n",
            "-------------------------------------------------------------\n",
            "Step 1 of Epoch: 46; Loss 0.446973 \n",
            "Final Result for Epoch 46: Loss 0.460770; Val Acc 0.533636; Train Acc 0.839231\n",
            "-------------------------------------------------------------\n",
            "Step 1 of Epoch: 47; Loss 0.433648 \n",
            "Final Result for Epoch 47: Loss 0.448684; Val Acc 0.511818; Train Acc 0.847582\n",
            "-------------------------------------------------------------\n",
            "Step 1 of Epoch: 48; Loss 0.435037 \n",
            "Final Result for Epoch 48: Loss 0.447355; Val Acc 0.520909; Train Acc 0.844615\n",
            "-------------------------------------------------------------\n",
            "Step 1 of Epoch: 49; Loss 0.418280 \n",
            "Final Result for Epoch 49: Loss 0.434510; Val Acc 0.527273; Train Acc 0.854176\n",
            "-------------------------------------------------------------\n",
            "Step 1 of Epoch: 50; Loss 0.413897 \n",
            "Final Result for Epoch 50: Loss 0.421425; Val Acc 0.495455; Train Acc 0.854835\n",
            "-------------------------------------------------------------\n",
            "Step 1 of Epoch: 51; Loss 0.400034 \n",
            "Final Result for Epoch 51: Loss 0.412526; Val Acc 0.519091; Train Acc 0.849560\n",
            "-------------------------------------------------------------\n",
            "Step 1 of Epoch: 52; Loss 0.397177 \n",
            "Final Result for Epoch 52: Loss 0.418171; Val Acc 0.512727; Train Acc 0.862418\n",
            "-------------------------------------------------------------\n",
            "Step 1 of Epoch: 53; Loss 0.386719 \n",
            "Final Result for Epoch 53: Loss 0.403100; Val Acc 0.507273; Train Acc 0.862198\n",
            "-------------------------------------------------------------\n",
            "Step 1 of Epoch: 54; Loss 0.373953 \n",
            "Final Result for Epoch 54: Loss 0.385640; Val Acc 0.502727; Train Acc 0.870549\n",
            "-------------------------------------------------------------\n",
            "Step 1 of Epoch: 55; Loss 0.368355 \n",
            "Final Result for Epoch 55: Loss 0.385395; Val Acc 0.504545; Train Acc 0.867802\n",
            "-------------------------------------------------------------\n",
            "Step 1 of Epoch: 56; Loss 0.370216 \n",
            "Final Result for Epoch 56: Loss 0.372772; Val Acc 0.515455; Train Acc 0.873077\n",
            "-------------------------------------------------------------\n",
            "Step 1 of Epoch: 57; Loss 0.360432 \n",
            "Final Result for Epoch 57: Loss 0.365641; Val Acc 0.505455; Train Acc 0.877253\n",
            "-------------------------------------------------------------\n",
            "Step 1 of Epoch: 58; Loss 0.351790 \n",
            "Final Result for Epoch 58: Loss 0.363529; Val Acc 0.495455; Train Acc 0.877033\n",
            "-------------------------------------------------------------\n",
            "Step 1 of Epoch: 59; Loss 0.345219 \n",
            "Final Result for Epoch 59: Loss 0.358818; Val Acc 0.514545; Train Acc 0.869560\n",
            "-------------------------------------------------------------\n",
            "Step 1 of Epoch: 60; Loss 0.341554 \n",
            "Final Result for Epoch 60: Loss 0.348480; Val Acc 0.493636; Train Acc 0.881758\n",
            "-------------------------------------------------------------\n",
            "Step 1 of Epoch: 61; Loss 0.330722 \n",
            "Final Result for Epoch 61: Loss 0.345685; Val Acc 0.480909; Train Acc 0.867363\n",
            "-------------------------------------------------------------\n",
            "Step 1 of Epoch: 62; Loss 0.325914 \n",
            "Final Result for Epoch 62: Loss 0.334329; Val Acc 0.504545; Train Acc 0.888352\n",
            "-------------------------------------------------------------\n",
            "Step 1 of Epoch: 63; Loss 0.316030 \n",
            "Final Result for Epoch 63: Loss 0.332033; Val Acc 0.504545; Train Acc 0.886154\n",
            "-------------------------------------------------------------\n",
            "Step 1 of Epoch: 64; Loss 0.313613 \n",
            "Final Result for Epoch 64: Loss 0.336931; Val Acc 0.488182; Train Acc 0.884066\n",
            "-------------------------------------------------------------\n",
            "Step 1 of Epoch: 65; Loss 0.310540 \n",
            "Final Result for Epoch 65: Loss 0.322641; Val Acc 0.508182; Train Acc 0.888571\n",
            "-------------------------------------------------------------\n",
            "Step 1 of Epoch: 66; Loss 0.308145 \n",
            "Final Result for Epoch 66: Loss 0.313211; Val Acc 0.520000; Train Acc 0.886703\n",
            "-------------------------------------------------------------\n",
            "Step 1 of Epoch: 67; Loss 0.318604 \n",
            "Final Result for Epoch 67: Loss 0.322965; Val Acc 0.508182; Train Acc 0.888132\n",
            "-------------------------------------------------------------\n",
            "Step 1 of Epoch: 68; Loss 0.296517 \n",
            "Final Result for Epoch 68: Loss 0.306156; Val Acc 0.510000; Train Acc 0.893407\n",
            "-------------------------------------------------------------\n",
            "Step 1 of Epoch: 69; Loss 0.290598 \n",
            "Final Result for Epoch 69: Loss 0.303577; Val Acc 0.499091; Train Acc 0.894176\n",
            "-------------------------------------------------------------\n",
            "Step 1 of Epoch: 70; Loss 0.287516 \n",
            "Final Result for Epoch 70: Loss 0.301499; Val Acc 0.502727; Train Acc 0.896593\n",
            "-------------------------------------------------------------\n",
            "Step 1 of Epoch: 71; Loss 0.277967 \n",
            "Final Result for Epoch 71: Loss 0.302223; Val Acc 0.489091; Train Acc 0.875275\n",
            "-------------------------------------------------------------\n",
            "Step 1 of Epoch: 72; Loss 0.288770 \n",
            "Final Result for Epoch 72: Loss 0.295991; Val Acc 0.528182; Train Acc 0.886374\n",
            "-------------------------------------------------------------\n",
            "Step 1 of Epoch: 73; Loss 0.277152 \n",
            "Final Result for Epoch 73: Loss 0.288562; Val Acc 0.517273; Train Acc 0.889121\n",
            "-------------------------------------------------------------\n",
            "Step 1 of Epoch: 74; Loss 0.262121 \n",
            "Final Result for Epoch 74: Loss 0.282303; Val Acc 0.504545; Train Acc 0.899780\n",
            "-------------------------------------------------------------\n",
            "Step 1 of Epoch: 75; Loss 0.258908 \n",
            "Final Result for Epoch 75: Loss 0.279847; Val Acc 0.504545; Train Acc 0.897363\n",
            "-------------------------------------------------------------\n",
            "Step 1 of Epoch: 76; Loss 0.276878 \n",
            "Final Result for Epoch 76: Loss 0.281066; Val Acc 0.500000; Train Acc 0.900659\n",
            "-------------------------------------------------------------\n",
            "Step 1 of Epoch: 77; Loss 0.257642 \n",
            "Final Result for Epoch 77: Loss 0.273320; Val Acc 0.515455; Train Acc 0.897253\n",
            "-------------------------------------------------------------\n",
            "Step 1 of Epoch: 78; Loss 0.253257 \n",
            "Final Result for Epoch 78: Loss 0.274130; Val Acc 0.480000; Train Acc 0.898571\n",
            "-------------------------------------------------------------\n",
            "Step 1 of Epoch: 79; Loss 0.276108 \n",
            "Final Result for Epoch 79: Loss 0.277515; Val Acc 0.508182; Train Acc 0.902527\n",
            "-------------------------------------------------------------\n",
            "Step 1 of Epoch: 80; Loss 0.257809 \n",
            "Final Result for Epoch 80: Loss 0.267436; Val Acc 0.490909; Train Acc 0.906044\n",
            "-------------------------------------------------------------\n",
            "Step 1 of Epoch: 81; Loss 0.242713 \n",
            "Final Result for Epoch 81: Loss 0.257191; Val Acc 0.487273; Train Acc 0.905385\n",
            "-------------------------------------------------------------\n",
            "Step 1 of Epoch: 82; Loss 0.262021 \n",
            "Final Result for Epoch 82: Loss 0.263270; Val Acc 0.489091; Train Acc 0.907033\n",
            "-------------------------------------------------------------\n",
            "Step 1 of Epoch: 83; Loss 0.258120 \n",
            "Final Result for Epoch 83: Loss 0.256248; Val Acc 0.498182; Train Acc 0.903736\n",
            "-------------------------------------------------------------\n",
            "Step 1 of Epoch: 84; Loss 0.245649 \n",
            "Final Result for Epoch 84: Loss 0.265879; Val Acc 0.497273; Train Acc 0.904725\n",
            "-------------------------------------------------------------\n",
            "Step 1 of Epoch: 85; Loss 0.236919 \n",
            "Final Result for Epoch 85: Loss 0.250179; Val Acc 0.499091; Train Acc 0.908022\n",
            "-------------------------------------------------------------\n",
            "Step 1 of Epoch: 86; Loss 0.238984 \n",
            "Final Result for Epoch 86: Loss 0.245821; Val Acc 0.511818; Train Acc 0.906484\n",
            "-------------------------------------------------------------\n",
            "Step 1 of Epoch: 87; Loss 0.235504 \n",
            "Final Result for Epoch 87: Loss 0.250807; Val Acc 0.495455; Train Acc 0.911319\n",
            "-------------------------------------------------------------\n",
            "Step 1 of Epoch: 88; Loss 0.225378 \n",
            "Final Result for Epoch 88: Loss 0.245164; Val Acc 0.510909; Train Acc 0.906154\n",
            "-------------------------------------------------------------\n",
            "Step 1 of Epoch: 89; Loss 0.231165 \n",
            "Final Result for Epoch 89: Loss 0.242229; Val Acc 0.507273; Train Acc 0.908242\n",
            "-------------------------------------------------------------\n",
            "Step 1 of Epoch: 90; Loss 0.309041 \n",
            "Final Result for Epoch 90: Loss 0.286358; Val Acc 0.520000; Train Acc 0.896484\n",
            "-------------------------------------------------------------\n",
            "Step 1 of Epoch: 91; Loss 0.232545 \n",
            "Final Result for Epoch 91: Loss 0.238536; Val Acc 0.509091; Train Acc 0.911099\n",
            "-------------------------------------------------------------\n",
            "Step 1 of Epoch: 92; Loss 0.223497 \n",
            "Final Result for Epoch 92: Loss 0.233300; Val Acc 0.517273; Train Acc 0.907582\n",
            "-------------------------------------------------------------\n",
            "Step 1 of Epoch: 93; Loss 0.225697 \n",
            "Final Result for Epoch 93: Loss 0.236550; Val Acc 0.501818; Train Acc 0.912088\n",
            "-------------------------------------------------------------\n",
            "Step 1 of Epoch: 94; Loss 0.211585 \n",
            "Final Result for Epoch 94: Loss 0.229754; Val Acc 0.502727; Train Acc 0.912747\n",
            "-------------------------------------------------------------\n",
            "Step 1 of Epoch: 95; Loss 0.222592 \n",
            "Final Result for Epoch 95: Loss 0.247376; Val Acc 0.522727; Train Acc 0.858901\n",
            "-------------------------------------------------------------\n",
            "Step 1 of Epoch: 96; Loss 0.249384 \n",
            "Final Result for Epoch 96: Loss 0.252528; Val Acc 0.509091; Train Acc 0.910549\n",
            "-------------------------------------------------------------\n",
            "Step 1 of Epoch: 97; Loss 0.218343 \n",
            "Final Result for Epoch 97: Loss 0.224806; Val Acc 0.505455; Train Acc 0.914286\n",
            "-------------------------------------------------------------\n",
            "Step 1 of Epoch: 98; Loss 0.211814 \n",
            "Final Result for Epoch 98: Loss 0.224053; Val Acc 0.487273; Train Acc 0.914286\n",
            "-------------------------------------------------------------\n",
            "Step 1 of Epoch: 99; Loss 0.215197 \n",
            "Final Result for Epoch 99: Loss 0.220623; Val Acc 0.502727; Train Acc 0.914725\n",
            "-------------------------------------------------------------\n",
            "Step 1 of Epoch: 100; Loss 0.217125 \n",
            "Final Result for Epoch 100: Loss 0.228808; Val Acc 0.476364; Train Acc 0.912088\n",
            "-------------------------------------------------------------\n"
          ],
          "name": "stdout"
        },
        {
          "output_type": "display_data",
          "data": {
            "image/png": "[encoded data removed]",
            "text/plain": [
              "<Figure size 576x396 with 1 Axes>"
            ]
          },
          "metadata": {
            "tags": []
          }
        },
        {
          "output_type": "display_data",
          "data": {
            "image/png": "[encoded data removed]",
            "text/plain": [
              "<Figure size 576x396 with 1 Axes>"
            ]
          },
          "metadata": {
            "tags": []
          }
        },
        {
          "output_type": "stream",
          "text": [
            "total training time: 180 s\n"
          ],
          "name": "stdout"
        }
      ]
    },
    {
      "metadata": {
        "id": "QA282W2hdZau",
        "colab_type": "text"
      },
      "cell_type": "markdown",
      "source": [
        "### Saving the model"
      ]
    },
    {
      "metadata": {
        "id": "iGIvu-ysukwk",
        "colab_type": "code",
        "colab": {
          "base_uri": "https://localhost:8080/",
          "height": 35
        },
        "outputId": "24a2ac83-80ec-48c1-a550-2cd448f8a43f"
      },
      "cell_type": "code",
      "source": [
        "print(np.argmax(valids))\n",
        "torch.save(models[np.argmax(valids)], 'checkpoint_biLSTM.pth')"
      ],
      "execution_count": 21,
      "outputs": [
        {
          "output_type": "stream",
          "text": [
            "13\n"
          ],
          "name": "stdout"
        }
      ]
    },
    {
      "metadata": {
        "id": "F0TSZ1O2dfo-",
        "colab_type": "text"
      },
      "cell_type": "markdown",
      "source": [
        "### Loading the model"
      ]
    },
    {
      "metadata": {
        "id": "h9plkTXediGq",
        "colab_type": "code",
        "colab": {}
      },
      "cell_type": "code",
      "source": [
        "state_dict = torch.load('checkpoint_biLSTM.pth')"
      ],
      "execution_count": 0,
      "outputs": []
    },
    {
      "metadata": {
        "id": "eGTAC6Wudkv3",
        "colab_type": "code",
        "colab": {}
      },
      "cell_type": "code",
      "source": [
        "model.load_state_dict(state_dict)"
      ],
      "execution_count": 0,
      "outputs": []
    },
    {
      "metadata": {
        "id": "FqbUdJgD0iec",
        "colab_type": "text"
      },
      "cell_type": "markdown",
      "source": [
        "### Inference"
      ]
    },
    {
      "metadata": {
        "id": "TMF8kPVVvh91",
        "colab_type": "code",
        "colab": {}
      },
      "cell_type": "code",
      "source": [
        "# Tweet Test\n",
        "happy_tweet = 'Im happy'\n",
        "sad_tweet = 'Im sad'\n",
        "angry = 'Im angry'\n",
        "surprised_tweet = 'Im surprised'\n",
        "disgusted_tweet = 'Im disgusted'\n",
        "afraid_tweet = 'Im afraid'"
      ],
      "execution_count": 0,
      "outputs": []
    },
    {
      "metadata": {
        "id": "eO3IhcoX0vqy",
        "colab_type": "code",
        "colab": {}
      },
      "cell_type": "code",
      "source": [
        "def tweet_to_glove_index(tweet,glove_dict):\n",
        "    tweets_ints = []\n",
        "    tweet = tweet.lower()\n",
        "    idxs = [glove_dict.stoi[w]        # lookup the index of word\n",
        "            for w in tweet.split()\n",
        "            if w in glove_dict.stoi] # keep words that has an embedding\n",
        "    tweets_ints.append(idxs)\n",
        "    return tweets_ints"
      ],
      "execution_count": 0,
      "outputs": []
    },
    {
      "metadata": {
        "id": "eBnsPtrJ1NgH",
        "colab_type": "code",
        "colab": {}
      },
      "cell_type": "code",
      "source": [
        "int_to_emotion = {0:'Happy', 1:'Sad' , 2:'Angry', 3:'Surprised', 4:'Disgusted', 5:'Afraid'}\n",
        "\n",
        "def predict(model, test_tweet, sequence_length=max(tweets_lens),use_gpu=True):\n",
        "    \n",
        "    \n",
        "    # tokenize tweet\n",
        "    test_ints = tweet_to_glove_index(test_tweet,glove)\n",
        "    \n",
        "    # pad tokenized sequence\n",
        "    seq_length=sequence_length\n",
        "    features = pad_features(test_ints, seq_length)\n",
        "    \n",
        "    # convert to tensor to pass into your model\n",
        "    if use_gpu:\n",
        "        feature_tensor = torch.from_numpy(features).cuda()\n",
        "    else:\n",
        "        feature_tensor = torch.from_numpy(features)\n",
        "    \n",
        "    batch_size = feature_tensor.size(0)\n",
        "    \n",
        "    \n",
        "    # get the output from the model\n",
        "    output = model(feature_tensor)\n",
        "    \n",
        "    # convert output probabilities to predicted class (0 or 1)\n",
        "    output_prob = nn.functional.softmax(output,dim=1)\n",
        "    top_n_pred = output_prob.topk(3,dim=1) ## top 3 preds\n",
        "    top_n_pred_prob, top_n_pred_index = top_n_pred[0].detach().cpu().numpy()[0], top_n_pred[1].detach().cpu().numpy()[0]\n",
        "    print(test_tweet)\n",
        "    print('Prediction:')\n",
        "    for prob,index in zip(top_n_pred_prob,top_n_pred_index):\n",
        "        print(int_to_emotion[index] , 'with' , str(int(prob*100))+\"%\", 'confidence')\n",
        "    print('---------------')"
      ],
      "execution_count": 0,
      "outputs": []
    },
    {
      "metadata": {
        "id": "TyMRFkX43fhn",
        "colab_type": "code",
        "outputId": "162feddb-e0c5-447f-8929-42a1af5d8cb2",
        "colab": {
          "base_uri": "https://localhost:8080/",
          "height": 651
        }
      },
      "cell_type": "code",
      "source": [
        "predict(model,happy_tweet)\n",
        "predict(model,sad_tweet)\n",
        "predict(model,angry)\n",
        "predict(model,surprised_tweet)\n",
        "predict(model,disgusted_tweet)\n",
        "predict(model,afraid_tweet)"
      ],
      "execution_count": 27,
      "outputs": [
        {
          "output_type": "stream",
          "text": [
            "Im happy\n",
            "Prediction:\n",
            "Sad with 91% confidence\n",
            "Happy with 7% confidence\n",
            "Disgusted with 0% confidence\n",
            "---------------\n",
            "Im sad\n",
            "Prediction:\n",
            "Sad with 98% confidence\n",
            "Happy with 1% confidence\n",
            "Disgusted with 0% confidence\n",
            "---------------\n",
            "Im angry\n",
            "Prediction:\n",
            "Happy with 77% confidence\n",
            "Sad with 17% confidence\n",
            "Surprised with 2% confidence\n",
            "---------------\n",
            "Im surprised\n",
            "Prediction:\n",
            "Disgusted with 46% confidence\n",
            "Sad with 26% confidence\n",
            "Angry with 10% confidence\n",
            "---------------\n",
            "Im disgusted\n",
            "Prediction:\n",
            "Happy with 38% confidence\n",
            "Sad with 25% confidence\n",
            "Angry with 20% confidence\n",
            "---------------\n",
            "Im afraid\n",
            "Prediction:\n",
            "Sad with 78% confidence\n",
            "Happy with 18% confidence\n",
            "Afraid with 2% confidence\n",
            "---------------\n"
          ],
          "name": "stdout"
        }
      ]
    },
    {
      "metadata": {
        "id": "AUhEs_I4hJ8M",
        "colab_type": "code",
        "colab": {}
      },
      "cell_type": "code",
      "source": [
        "tweets = ['Im so happy',\n",
        "          'I feel so down today',\n",
        "          'It boils my blood to see you',\n",
        "         'wow what a nice car',\n",
        "         'im sick of this shit',\n",
        "         'theres a stranger at my home']"
      ],
      "execution_count": 0,
      "outputs": []
    },
    {
      "metadata": {
        "id": "MollcketAEYZ",
        "colab_type": "code",
        "outputId": "0d3d621d-aaa9-4e0e-f229-2fdd8a465aa6",
        "colab": {
          "base_uri": "https://localhost:8080/",
          "height": 651
        }
      },
      "cell_type": "code",
      "source": [
        "for tweet in tweets:\n",
        "    predict(model, tweet)"
      ],
      "execution_count": 29,
      "outputs": [
        {
          "output_type": "stream",
          "text": [
            "Im so happy\n",
            "Prediction:\n",
            "Happy with 85% confidence\n",
            "Sad with 11% confidence\n",
            "Disgusted with 1% confidence\n",
            "---------------\n",
            "I feel so down today\n",
            "Prediction:\n",
            "Sad with 75% confidence\n",
            "Disgusted with 14% confidence\n",
            "Afraid with 4% confidence\n",
            "---------------\n",
            "It boils my blood to see you\n",
            "Prediction:\n",
            "Happy with 57% confidence\n",
            "Sad with 42% confidence\n",
            "Disgusted with 0% confidence\n",
            "---------------\n",
            "wow what a nice car\n",
            "Prediction:\n",
            "Happy with 99% confidence\n",
            "Sad with 0% confidence\n",
            "Afraid with 0% confidence\n",
            "---------------\n",
            "im sick of this shit\n",
            "Prediction:\n",
            "Sad with 89% confidence\n",
            "Disgusted with 8% confidence\n",
            "Angry with 1% confidence\n",
            "---------------\n",
            "theres a stranger at my home\n",
            "Prediction:\n",
            "Sad with 60% confidence\n",
            "Happy with 39% confidence\n",
            "Afraid with 0% confidence\n",
            "---------------\n"
          ],
          "name": "stdout"
        }
      ]
    },
    {
      "metadata": {
        "id": "ttE3WT7qAGgM",
        "colab_type": "code",
        "colab": {
          "base_uri": "https://localhost:8080/",
          "height": 651
        },
        "outputId": "bef0eff3-d854-4cdc-d120-ea0bf836e4b0"
      },
      "cell_type": "code",
      "source": [
        "tweets = ['You are so crazy',\n",
        "          'You make me feel so cool',\n",
        "          'I hate you',\n",
        "          'you ruined my apetite',\n",
        "          'that food was terrible']\n",
        "\n",
        "for tweet in tweets:\n",
        "    predict(model, tweet)"
      ],
      "execution_count": 30,
      "outputs": [
        {
          "output_type": "stream",
          "text": [
            "You are so crazy\n",
            "Prediction:\n",
            "Happy with 99% confidence\n",
            "Sad with 0% confidence\n",
            "Angry with 0% confidence\n",
            "---------------\n",
            "You make me feel so cool\n",
            "Prediction:\n",
            "Sad with 81% confidence\n",
            "Happy with 18% confidence\n",
            "Angry with 0% confidence\n",
            "---------------\n",
            "I hate you\n",
            "Prediction:\n",
            "Sad with 87% confidence\n",
            "Happy with 8% confidence\n",
            "Angry with 1% confidence\n",
            "---------------\n",
            "I HATE YOU\n",
            "Prediction:\n",
            "Sad with 87% confidence\n",
            "Happy with 8% confidence\n",
            "Angry with 1% confidence\n",
            "---------------\n",
            "you ruined my apetite\n",
            "Prediction:\n",
            "Angry with 69% confidence\n",
            "Disgusted with 14% confidence\n",
            "Happy with 9% confidence\n",
            "---------------\n",
            "that food was terrible\n",
            "Prediction:\n",
            "Sad with 49% confidence\n",
            "Afraid with 32% confidence\n",
            "Disgusted with 10% confidence\n",
            "---------------\n"
          ],
          "name": "stdout"
        }
      ]
    },
    {
      "metadata": {
        "id": "LdszyObdAZGo",
        "colab_type": "code",
        "colab": {
          "base_uri": "https://localhost:8080/",
          "height": 1179
        },
        "outputId": "da316d8b-6a4d-4546-8d67-d0036fa00202"
      },
      "cell_type": "code",
      "source": [
        "tweets = ['he said he will be there and he showed up','he said he will be there but he did not show up', 'he said he will be there and he showed up with his friends',\n",
        "          'I lose', 'I have lost', 'I won', 'Live strong my guy', 'I am the best', 'I hate losing', 'I dont hate you', 'I do not hate you']\n",
        "for tweet in tweets:\n",
        "    predict(model, tweet)"
      ],
      "execution_count": 31,
      "outputs": [
        {
          "output_type": "stream",
          "text": [
            "he said he will be there and he showed up\n",
            "Prediction:\n",
            "Happy with 59% confidence\n",
            "Afraid with 20% confidence\n",
            "Angry with 13% confidence\n",
            "---------------\n",
            "he said he will be there but he did not show up\n",
            "Prediction:\n",
            "Happy with 99% confidence\n",
            "Sad with 0% confidence\n",
            "Disgusted with 0% confidence\n",
            "---------------\n",
            "he said he will be there and he showed up with his friends\n",
            "Prediction:\n",
            "Sad with 74% confidence\n",
            "Happy with 23% confidence\n",
            "Angry with 1% confidence\n",
            "---------------\n",
            "I lose\n",
            "Prediction:\n",
            "Happy with 96% confidence\n",
            "Sad with 2% confidence\n",
            "Disgusted with 0% confidence\n",
            "---------------\n",
            "I have lost\n",
            "Prediction:\n",
            "Sad with 98% confidence\n",
            "Happy with 0% confidence\n",
            "Angry with 0% confidence\n",
            "---------------\n",
            "I won\n",
            "Prediction:\n",
            "Happy with 87% confidence\n",
            "Sad with 8% confidence\n",
            "Disgusted with 3% confidence\n",
            "---------------\n",
            "Live strong my guy\n",
            "Prediction:\n",
            "Happy with 99% confidence\n",
            "Sad with 0% confidence\n",
            "Angry with 0% confidence\n",
            "---------------\n",
            "I am the best\n",
            "Prediction:\n",
            "Happy with 99% confidence\n",
            "Angry with 0% confidence\n",
            "Disgusted with 0% confidence\n",
            "---------------\n",
            "I hate losing\n",
            "Prediction:\n",
            "Sad with 51% confidence\n",
            "Happy with 37% confidence\n",
            "Disgusted with 9% confidence\n",
            "---------------\n",
            "I dont hate you\n",
            "Prediction:\n",
            "Happy with 67% confidence\n",
            "Sad with 23% confidence\n",
            "Angry with 5% confidence\n",
            "---------------\n",
            "I do not hate you\n",
            "Prediction:\n",
            "Angry with 37% confidence\n",
            "Sad with 37% confidence\n",
            "Disgusted with 16% confidence\n",
            "---------------\n"
          ],
          "name": "stdout"
        }
      ]
    }
  ]
}