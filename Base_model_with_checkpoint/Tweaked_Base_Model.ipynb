{
  "nbformat": 4,
  "nbformat_minor": 0,
  "metadata": {
    "colab": {
      "name": "Tweaked_Base_Model.ipynb",
      "version": "0.3.2",
      "provenance": [],
      "collapsed_sections": [],
      "toc_visible": true
    },
    "kernelspec": {
      "name": "python3",
      "display_name": "Python 3"
    },
    "accelerator": "GPU"
  },
  "cells": [
    {
      "metadata": {
        "id": "kjt9iuwEgm5T",
        "colab_type": "code",
        "colab": {}
      },
      "cell_type": "code",
      "source": [
        "import csv\n",
        "import torch\n",
        "import torch.nn as nn\n",
        "import torch.nn.functional as F\n",
        "import torch.optim as optim\n",
        "import torchtext\n",
        "import numpy as np\n",
        "import matplotlib.pyplot as plt"
      ],
      "execution_count": 0,
      "outputs": []
    },
    {
      "metadata": {
        "id": "tGMIDRTHgm5b",
        "colab_type": "code",
        "colab": {}
      },
      "cell_type": "code",
      "source": [
        "import pandas"
      ],
      "execution_count": 0,
      "outputs": []
    },
    {
      "metadata": {
        "id": "26_C6S4Ugm5e",
        "colab_type": "code",
        "colab": {}
      },
      "cell_type": "code",
      "source": [
        "def get_data():\n",
        "    header = ['tweet','label']\n",
        "    data_set = pandas.read_csv('cleaned_data.txt',delimiter='\\t',names = header)\n",
        "    return data_set\n",
        "\n",
        "def split_tweet(tweet):\n",
        "    return tweet.split()    \n"
      ],
      "execution_count": 0,
      "outputs": []
    },
    {
      "metadata": {
        "id": "bmOzSIDpgm5h",
        "colab_type": "code",
        "colab": {}
      },
      "cell_type": "code",
      "source": [
        "data_set = get_data()"
      ],
      "execution_count": 0,
      "outputs": []
    },
    {
      "metadata": {
        "id": "ey347C1Zgm5l",
        "colab_type": "code",
        "colab": {}
      },
      "cell_type": "code",
      "source": [
        "glove = torchtext.vocab.GloVe(name=\"twitter.27B\",dim=50)\n",
        "\n",
        "# inser padding character into glove embedding, we overwrite the first element and that's okay\n",
        "# because we don't use the first element in our vocab\n",
        "glove.vectors[0] = torch.tensor(np.zeros(50))"
      ],
      "execution_count": 0,
      "outputs": []
    },
    {
      "metadata": {
        "id": "sQ8JIzR4gm5q",
        "colab_type": "code",
        "outputId": "12adbc6a-f1c2-4783-ba08-2b13849235c0",
        "colab": {
          "base_uri": "https://localhost:8080/",
          "height": 34
        }
      },
      "cell_type": "code",
      "source": [
        "len(data_set)"
      ],
      "execution_count": 11,
      "outputs": [
        {
          "output_type": "execute_result",
          "data": {
            "text/plain": [
              "160568"
            ]
          },
          "metadata": {
            "tags": []
          },
          "execution_count": 11
        }
      ]
    },
    {
      "metadata": {
        "id": "tA4Ahaifgm53",
        "colab_type": "code",
        "outputId": "ccef4ea1-5217-4008-cb66-6442cc38e8d6",
        "colab": {
          "base_uri": "https://localhost:8080/",
          "height": 1969
        }
      },
      "cell_type": "code",
      "source": [
        "data_set"
      ],
      "execution_count": 12,
      "outputs": [
        {
          "output_type": "execute_result",
          "data": {
            "text/html": [
              "<div>\n",
              "<style scoped>\n",
              "    .dataframe tbody tr th:only-of-type {\n",
              "        vertical-align: middle;\n",
              "    }\n",
              "\n",
              "    .dataframe tbody tr th {\n",
              "        vertical-align: top;\n",
              "    }\n",
              "\n",
              "    .dataframe thead th {\n",
              "        text-align: right;\n",
              "    }\n",
              "</style>\n",
              "<table border=\"1\" class=\"dataframe\">\n",
              "  <thead>\n",
              "    <tr style=\"text-align: right;\">\n",
              "      <th></th>\n",
              "      <th>tweet</th>\n",
              "      <th>label</th>\n",
              "    </tr>\n",
              "  </thead>\n",
              "  <tbody>\n",
              "    <tr>\n",
              "      <th>0</th>\n",
              "      <td>i feel like a baby kangaroo stuck in its mothe...</td>\n",
              "      <td>1</td>\n",
              "    </tr>\n",
              "    <tr>\n",
              "      <th>1</th>\n",
              "      <td>oh ,  the irony if misha wins the choice tv sc...</td>\n",
              "      <td>2</td>\n",
              "    </tr>\n",
              "    <tr>\n",
              "      <th>2</th>\n",
              "      <td>i miss you to  ,  you so fake now</td>\n",
              "      <td>2</td>\n",
              "    </tr>\n",
              "    <tr>\n",
              "      <th>3</th>\n",
              "      <td>i miss you to  ,  you so fake now</td>\n",
              "      <td>4</td>\n",
              "    </tr>\n",
              "    <tr>\n",
              "      <th>4</th>\n",
              "      <td>i know</td>\n",
              "      <td>1</td>\n",
              "    </tr>\n",
              "    <tr>\n",
              "      <th>5</th>\n",
              "      <td>things can change so quickly</td>\n",
              "      <td>1</td>\n",
              "    </tr>\n",
              "    <tr>\n",
              "      <th>6</th>\n",
              "      <td>all me &amp;amp ;  vic do is laugh .  .  anybody o...</td>\n",
              "      <td>1</td>\n",
              "    </tr>\n",
              "    <tr>\n",
              "      <th>7</th>\n",
              "      <td>my eyes are in pain .  cant get over the movie...</td>\n",
              "      <td>1</td>\n",
              "    </tr>\n",
              "    <tr>\n",
              "      <th>8</th>\n",
              "      <td>eye need to get these brows done asap</td>\n",
              "      <td>1</td>\n",
              "    </tr>\n",
              "    <tr>\n",
              "      <th>9</th>\n",
              "      <td>i almost choked on my retainer just now</td>\n",
              "      <td>1</td>\n",
              "    </tr>\n",
              "    <tr>\n",
              "      <th>10</th>\n",
              "      <td>ms .  mendiola works miracles! shes so great</td>\n",
              "      <td>1</td>\n",
              "    </tr>\n",
              "    <tr>\n",
              "      <th>11</th>\n",
              "      <td>oh and parking dont even get me started on the...</td>\n",
              "      <td>2</td>\n",
              "    </tr>\n",
              "    <tr>\n",
              "      <th>12</th>\n",
              "      <td>oh and parking dont even get me started on the...</td>\n",
              "      <td>4</td>\n",
              "    </tr>\n",
              "    <tr>\n",
              "      <th>13</th>\n",
              "      <td>trying to stay my ass in the burbs but im gett...</td>\n",
              "      <td>1</td>\n",
              "    </tr>\n",
              "    <tr>\n",
              "      <th>14</th>\n",
              "      <td>all females warriors fan because of the lights...</td>\n",
              "      <td>2</td>\n",
              "    </tr>\n",
              "    <tr>\n",
              "      <th>15</th>\n",
              "      <td>all females warriors fan because of the lights...</td>\n",
              "      <td>4</td>\n",
              "    </tr>\n",
              "    <tr>\n",
              "      <th>16</th>\n",
              "      <td>its getting worse</td>\n",
              "      <td>1</td>\n",
              "    </tr>\n",
              "    <tr>\n",
              "      <th>17</th>\n",
              "      <td>the stuff sends me</td>\n",
              "      <td>4</td>\n",
              "    </tr>\n",
              "    <tr>\n",
              "      <th>18</th>\n",
              "      <td>congratulations on winning the senior also hut...</td>\n",
              "      <td>2</td>\n",
              "    </tr>\n",
              "    <tr>\n",
              "      <th>19</th>\n",
              "      <td>im just thirsty for a notice gonna be honest</td>\n",
              "      <td>1</td>\n",
              "    </tr>\n",
              "    <tr>\n",
              "      <th>20</th>\n",
              "      <td>texas heat isnt a joke and this only the begin...</td>\n",
              "      <td>1</td>\n",
              "    </tr>\n",
              "    <tr>\n",
              "      <th>21</th>\n",
              "      <td>drama canim people are tweeting for another ta...</td>\n",
              "      <td>2</td>\n",
              "    </tr>\n",
              "    <tr>\n",
              "      <th>22</th>\n",
              "      <td>drama canim people are tweeting for another ta...</td>\n",
              "      <td>4</td>\n",
              "    </tr>\n",
              "    <tr>\n",
              "      <th>23</th>\n",
              "      <td>/__ angle anyways bless ur so sweet</td>\n",
              "      <td>1</td>\n",
              "    </tr>\n",
              "    <tr>\n",
              "      <th>24</th>\n",
              "      <td>last</td>\n",
              "      <td>1</td>\n",
              "    </tr>\n",
              "    <tr>\n",
              "      <th>25</th>\n",
              "      <td>sold out yung bts concert tickets! ?  great . ...</td>\n",
              "      <td>1</td>\n",
              "    </tr>\n",
              "    <tr>\n",
              "      <th>26</th>\n",
              "      <td>cant wait to move in</td>\n",
              "      <td>1</td>\n",
              "    </tr>\n",
              "    <tr>\n",
              "      <th>27</th>\n",
              "      <td>needa hit more reps but</td>\n",
              "      <td>1</td>\n",
              "    </tr>\n",
              "    <tr>\n",
              "      <th>28</th>\n",
              "      <td>i miss the phone calls when its your fault .  ...</td>\n",
              "      <td>1</td>\n",
              "    </tr>\n",
              "    <tr>\n",
              "      <th>29</th>\n",
              "      <td>i have a love hate relationship with my homema...</td>\n",
              "      <td>5</td>\n",
              "    </tr>\n",
              "    <tr>\n",
              "      <th>...</th>\n",
              "      <td>...</td>\n",
              "      <td>...</td>\n",
              "    </tr>\n",
              "    <tr>\n",
              "      <th>160538</th>\n",
              "      <td>when boys take a selfie in girly style weeeeey...</td>\n",
              "      <td>4</td>\n",
              "    </tr>\n",
              "    <tr>\n",
              "      <th>160539</th>\n",
              "      <td>penalts man</td>\n",
              "      <td>1</td>\n",
              "    </tr>\n",
              "    <tr>\n",
              "      <th>160540</th>\n",
              "      <td>no thats a death charge .  i will really kill ...</td>\n",
              "      <td>1</td>\n",
              "    </tr>\n",
              "    <tr>\n",
              "      <th>160541</th>\n",
              "      <td>very unhappy</td>\n",
              "      <td>1</td>\n",
              "    </tr>\n",
              "    <tr>\n",
              "      <th>160542</th>\n",
              "      <td>i really hate my anxiety</td>\n",
              "      <td>2</td>\n",
              "    </tr>\n",
              "    <tr>\n",
              "      <th>160543</th>\n",
              "      <td>i really hate my anxiety</td>\n",
              "      <td>4</td>\n",
              "    </tr>\n",
              "    <tr>\n",
              "      <th>160544</th>\n",
              "      <td>maybe im being slow dont understand what you w...</td>\n",
              "      <td>3</td>\n",
              "    </tr>\n",
              "    <tr>\n",
              "      <th>160545</th>\n",
              "      <td>lets talk about this liquor store</td>\n",
              "      <td>2</td>\n",
              "    </tr>\n",
              "    <tr>\n",
              "      <th>160546</th>\n",
              "      <td>goodbye croatia</td>\n",
              "      <td>1</td>\n",
              "    </tr>\n",
              "    <tr>\n",
              "      <th>160547</th>\n",
              "      <td>why am i still sleepy</td>\n",
              "      <td>1</td>\n",
              "    </tr>\n",
              "    <tr>\n",
              "      <th>160548</th>\n",
              "      <td>im single but of course i have one bae that ma...</td>\n",
              "      <td>3</td>\n",
              "    </tr>\n",
              "    <tr>\n",
              "      <th>160549</th>\n",
              "      <td>i dont hate u</td>\n",
              "      <td>3</td>\n",
              "    </tr>\n",
              "    <tr>\n",
              "      <th>160550</th>\n",
              "      <td>i dont hate u</td>\n",
              "      <td>5</td>\n",
              "    </tr>\n",
              "    <tr>\n",
              "      <th>160551</th>\n",
              "      <td>i wanna be laid up rn wit my baby</td>\n",
              "      <td>1</td>\n",
              "    </tr>\n",
              "    <tr>\n",
              "      <th>160552</th>\n",
              "      <td>why not show yo bitch off  ,  if she yours</td>\n",
              "      <td>3</td>\n",
              "    </tr>\n",
              "    <tr>\n",
              "      <th>160553</th>\n",
              "      <td>devita is using the script hmmm</td>\n",
              "      <td>3</td>\n",
              "    </tr>\n",
              "    <tr>\n",
              "      <th>160554</th>\n",
              "      <td>had a shocker .  pissed hes in my dream team t...</td>\n",
              "      <td>2</td>\n",
              "    </tr>\n",
              "    <tr>\n",
              "      <th>160555</th>\n",
              "      <td>had a shocker .  pissed hes in my dream team t...</td>\n",
              "      <td>5</td>\n",
              "    </tr>\n",
              "    <tr>\n",
              "      <th>160556</th>\n",
              "      <td>hes since deleted the tweet but needs to come ...</td>\n",
              "      <td>1</td>\n",
              "    </tr>\n",
              "    <tr>\n",
              "      <th>160557</th>\n",
              "      <td>scoping the scene fucked up</td>\n",
              "      <td>3</td>\n",
              "    </tr>\n",
              "    <tr>\n",
              "      <th>160558</th>\n",
              "      <td>im bout to be in this house all by myself</td>\n",
              "      <td>1</td>\n",
              "    </tr>\n",
              "    <tr>\n",
              "      <th>160559</th>\n",
              "      <td>still cant believe the bulls traded rose but i...</td>\n",
              "      <td>3</td>\n",
              "    </tr>\n",
              "    <tr>\n",
              "      <th>160560</th>\n",
              "      <td>when everyone is feeling all sentimental and y...</td>\n",
              "      <td>1</td>\n",
              "    </tr>\n",
              "    <tr>\n",
              "      <th>160561</th>\n",
              "      <td>welcome</td>\n",
              "      <td>1</td>\n",
              "    </tr>\n",
              "    <tr>\n",
              "      <th>160562</th>\n",
              "      <td>.  .  .  but now wont release ,  been stuck p...</td>\n",
              "      <td>4</td>\n",
              "    </tr>\n",
              "    <tr>\n",
              "      <th>160563</th>\n",
              "      <td>but youre going to hell though .  inside do i ...</td>\n",
              "      <td>5</td>\n",
              "    </tr>\n",
              "    <tr>\n",
              "      <th>160564</th>\n",
              "      <td>i wish i had a boyfriend who played sports so ...</td>\n",
              "      <td>1</td>\n",
              "    </tr>\n",
              "    <tr>\n",
              "      <th>160565</th>\n",
              "      <td>wondering when a nigga gone introduce me to re...</td>\n",
              "      <td>1</td>\n",
              "    </tr>\n",
              "    <tr>\n",
              "      <th>160566</th>\n",
              "      <td>major glo up</td>\n",
              "      <td>1</td>\n",
              "    </tr>\n",
              "    <tr>\n",
              "      <th>160567</th>\n",
              "      <td>your music &amp;gt ;  everything petty in the worl...</td>\n",
              "      <td>2</td>\n",
              "    </tr>\n",
              "  </tbody>\n",
              "</table>\n",
              "<p>160568 rows × 2 columns</p>\n",
              "</div>"
            ],
            "text/plain": [
              "                                                    tweet  label\n",
              "0       i feel like a baby kangaroo stuck in its mothe...      1\n",
              "1       oh ,  the irony if misha wins the choice tv sc...      2\n",
              "2                       i miss you to  ,  you so fake now      2\n",
              "3                       i miss you to  ,  you so fake now      4\n",
              "4                                                  i know      1\n",
              "5                            things can change so quickly      1\n",
              "6       all me &amp ;  vic do is laugh .  .  anybody o...      1\n",
              "7       my eyes are in pain .  cant get over the movie...      1\n",
              "8                   eye need to get these brows done asap      1\n",
              "9                 i almost choked on my retainer just now      1\n",
              "10           ms .  mendiola works miracles! shes so great      1\n",
              "11      oh and parking dont even get me started on the...      2\n",
              "12      oh and parking dont even get me started on the...      4\n",
              "13      trying to stay my ass in the burbs but im gett...      1\n",
              "14      all females warriors fan because of the lights...      2\n",
              "15      all females warriors fan because of the lights...      4\n",
              "16                                      its getting worse      1\n",
              "17                                     the stuff sends me      4\n",
              "18      congratulations on winning the senior also hut...      2\n",
              "19           im just thirsty for a notice gonna be honest      1\n",
              "20      texas heat isnt a joke and this only the begin...      1\n",
              "21      drama canim people are tweeting for another ta...      2\n",
              "22      drama canim people are tweeting for another ta...      4\n",
              "23                    /__ angle anyways bless ur so sweet      1\n",
              "24                                                   last      1\n",
              "25      sold out yung bts concert tickets! ?  great . ...      1\n",
              "26                                   cant wait to move in      1\n",
              "27                                needa hit more reps but      1\n",
              "28      i miss the phone calls when its your fault .  ...      1\n",
              "29      i have a love hate relationship with my homema...      5\n",
              "...                                                   ...    ...\n",
              "160538  when boys take a selfie in girly style weeeeey...      4\n",
              "160539                                        penalts man      1\n",
              "160540  no thats a death charge .  i will really kill ...      1\n",
              "160541                                       very unhappy      1\n",
              "160542                           i really hate my anxiety      2\n",
              "160543                           i really hate my anxiety      4\n",
              "160544  maybe im being slow dont understand what you w...      3\n",
              "160545                  lets talk about this liquor store      2\n",
              "160546                                    goodbye croatia      1\n",
              "160547                              why am i still sleepy      1\n",
              "160548  im single but of course i have one bae that ma...      3\n",
              "160549                                      i dont hate u      3\n",
              "160550                                      i dont hate u      5\n",
              "160551                  i wanna be laid up rn wit my baby      1\n",
              "160552         why not show yo bitch off  ,  if she yours      3\n",
              "160553                    devita is using the script hmmm      3\n",
              "160554  had a shocker .  pissed hes in my dream team t...      2\n",
              "160555  had a shocker .  pissed hes in my dream team t...      5\n",
              "160556  hes since deleted the tweet but needs to come ...      1\n",
              "160557                        scoping the scene fucked up      3\n",
              "160558          im bout to be in this house all by myself      1\n",
              "160559  still cant believe the bulls traded rose but i...      3\n",
              "160560  when everyone is feeling all sentimental and y...      1\n",
              "160561                                            welcome      1\n",
              "160562   .  .  .  but now wont release ,  been stuck p...      4\n",
              "160563  but youre going to hell though .  inside do i ...      5\n",
              "160564  i wish i had a boyfriend who played sports so ...      1\n",
              "160565  wondering when a nigga gone introduce me to re...      1\n",
              "160566                                       major glo up      1\n",
              "160567  your music &gt ;  everything petty in the worl...      2\n",
              "\n",
              "[160568 rows x 2 columns]"
            ]
          },
          "metadata": {
            "tags": []
          },
          "execution_count": 12
        }
      ]
    },
    {
      "metadata": {
        "id": "cWYeV80Sgm59",
        "colab_type": "code",
        "colab": {}
      },
      "cell_type": "code",
      "source": [
        "def data_set_to_glove_index(glove_dict):\n",
        "    tweets_ints, encoded_labels = [],[]\n",
        "    for i in range(len(data_set)):\n",
        "        tweet = data_set['tweet'][i]\n",
        "        label = data_set['label'][i]\n",
        "        if(type(tweet) != str):\n",
        "            continue\n",
        "        idxs = [glove_dict.stoi[w]        # lookup the index of word\n",
        "            for w in tweet.split()\n",
        "            if w in glove_dict.stoi] # keep words that has an embedding\n",
        "        if not idxs: # ignore tweets without any word with an embedding\n",
        "            continue\n",
        "        tweets_ints.append(idxs)\n",
        "        encoded_labels.append(label)\n",
        "    return tweets_ints, encoded_labels"
      ],
      "execution_count": 0,
      "outputs": []
    },
    {
      "metadata": {
        "id": "uci6Anmugm5-",
        "colab_type": "code",
        "colab": {}
      },
      "cell_type": "code",
      "source": [
        "tweets_ints, encoded_labels = data_set_to_glove_index(glove)"
      ],
      "execution_count": 0,
      "outputs": []
    },
    {
      "metadata": {
        "id": "sB-kS3issuZ8",
        "colab_type": "code",
        "outputId": "e2a8af0b-fce3-4211-8e69-50166c997ae6",
        "colab": {
          "base_uri": "https://localhost:8080/",
          "height": 51
        }
      },
      "cell_type": "code",
      "source": [
        "from collections import Counter\n",
        "# outlier review stats\n",
        "tweets_lens = Counter([len(x) for x in tweets_ints])\n",
        "print(\"Zero-length tweets: {}\".format(tweets_lens[0]))\n",
        "print(\"Maximum tweet length: {}\".format(max(tweets_lens)))"
      ],
      "execution_count": 15,
      "outputs": [
        {
          "output_type": "stream",
          "text": [
            "Zero-length tweets: 0\n",
            "Maximum tweet length: 62\n"
          ],
          "name": "stdout"
        }
      ]
    },
    {
      "metadata": {
        "id": "CxaLejWos_Tw",
        "colab_type": "code",
        "colab": {}
      },
      "cell_type": "code",
      "source": [
        "def pad_features(tweets_ints, seq_length):\n",
        "    ''' Return features of review_ints, where each review is padded with 0's \n",
        "        or truncated to the input seq_length.\n",
        "    '''\n",
        "    \n",
        "    # getting the correct rows x cols shape\n",
        "    features = np.zeros((len(tweets_ints), seq_length), dtype=int)\n",
        "\n",
        "    # for each review, I grab that review and \n",
        "    for i, row in enumerate(tweets_ints):\n",
        "        features[i, -len(row):] = np.array(row)[:seq_length]\n",
        "    \n",
        "    return features"
      ],
      "execution_count": 0,
      "outputs": []
    },
    {
      "metadata": {
        "id": "Wy8MFokXs_9K",
        "colab_type": "code",
        "colab": {}
      },
      "cell_type": "code",
      "source": [
        "seq_length = max(tweets_lens)\n",
        "\n",
        "features = pad_features(tweets_ints, seq_length=seq_length)\n",
        "encoded_labels = np.array(encoded_labels)"
      ],
      "execution_count": 0,
      "outputs": []
    },
    {
      "metadata": {
        "id": "R9siA7B4tAc7",
        "colab_type": "code",
        "outputId": "f2bd35cb-e34e-4b2a-a6d7-77146f009a6e",
        "colab": {
          "base_uri": "https://localhost:8080/",
          "height": 136
        }
      },
      "cell_type": "code",
      "source": [
        "print(features[:30,])"
      ],
      "execution_count": 18,
      "outputs": [
        {
          "output_type": "stream",
          "text": [
            "[[     0      0      0 ...    221   9193  50306]\n",
            " [     0      0      0 ... 116746   3094      1]\n",
            " [     0      0      0 ...     55   1271    110]\n",
            " ...\n",
            " [     0      0      0 ...    145  35628     79]\n",
            " [     0      0      0 ...     15     66     75]\n",
            " [     0      0      0 ...     29  13278  27993]]\n"
          ],
          "name": "stdout"
        }
      ]
    },
    {
      "metadata": {
        "id": "gm-jUzQ8teCo",
        "colab_type": "text"
      },
      "cell_type": "markdown",
      "source": [
        "### Train, Validation, Test Split"
      ]
    },
    {
      "metadata": {
        "id": "8yZGBcHztBGC",
        "colab_type": "code",
        "colab": {}
      },
      "cell_type": "code",
      "source": [
        "from sklearn.utils import shuffle\n",
        "features, encoded_labels = shuffle(features, encoded_labels)"
      ],
      "execution_count": 0,
      "outputs": []
    },
    {
      "metadata": {
        "id": "0nYglhndtgYi",
        "colab_type": "code",
        "outputId": "7f34de40-fef7-46eb-81eb-faa5d6b2c382",
        "colab": {
          "base_uri": "https://localhost:8080/",
          "height": 85
        }
      },
      "cell_type": "code",
      "source": [
        "split_frac = 0.8\n",
        "\n",
        "## split data into training, validation, and test data (features and labels, x and y)\n",
        "\n",
        "split_idx = int(len(features)*split_frac)\n",
        "train_x, remaining_x = features[:split_idx], features[split_idx:]\n",
        "train_y, remaining_y = encoded_labels[:split_idx], encoded_labels[split_idx:]\n",
        "\n",
        "test_idx = int(len(remaining_x)*0.5)\n",
        "val_x, test_x = remaining_x[:test_idx], remaining_x[test_idx:]\n",
        "val_y, test_y = remaining_y[:test_idx], remaining_y[test_idx:]\n",
        "\n",
        "## print out the shapes of your resultant feature data\n",
        "print(\"\\t\\t\\tFeature Shapes:\")\n",
        "print(\"Train set: \\t\\t{}\".format(train_x.shape), \n",
        "      \"\\nValidation set: \\t{}\".format(val_x.shape),\n",
        "      \"\\nTest set: \\t\\t{}\".format(test_x.shape))"
      ],
      "execution_count": 20,
      "outputs": [
        {
          "output_type": "stream",
          "text": [
            "\t\t\tFeature Shapes:\n",
            "Train set: \t\t(127928, 62) \n",
            "Validation set: \t(15991, 62) \n",
            "Test set: \t\t(15991, 62)\n"
          ],
          "name": "stdout"
        }
      ]
    },
    {
      "metadata": {
        "id": "BV-wQQmb5d7j",
        "colab_type": "text"
      },
      "cell_type": "markdown",
      "source": [
        "### DataLoader and Batching"
      ]
    },
    {
      "metadata": {
        "id": "FHgkWFzb5eRF",
        "colab_type": "code",
        "colab": {}
      },
      "cell_type": "code",
      "source": [
        "from torch.utils.data import TensorDataset, DataLoader\n",
        "\n",
        "# create Tensor datasets\n",
        "train_data = TensorDataset(torch.from_numpy(train_x), torch.from_numpy(train_y))\n",
        "valid_data = TensorDataset(torch.from_numpy(val_x), torch.from_numpy(val_y))\n",
        "test_data = TensorDataset(torch.from_numpy(test_x), torch.from_numpy(test_y))\n",
        "\n",
        "# dataloaders\n",
        "batch_size = 50\n",
        "\n",
        "# make sure the SHUFFLE your training data\n",
        "train_loader = DataLoader(train_data, shuffle=True, batch_size=batch_size,drop_last=True)\n",
        "valid_loader = DataLoader(valid_data, shuffle=True, batch_size=batch_size,drop_last=True)\n",
        "test_loader = DataLoader(test_data, shuffle=True, batch_size=batch_size,drop_last=True)"
      ],
      "execution_count": 0,
      "outputs": []
    },
    {
      "metadata": {
        "id": "DxNTXSGU5mpX",
        "colab_type": "code",
        "outputId": "035ce136-1636-4f78-f0ea-842649e25f74",
        "colab": {
          "base_uri": "https://localhost:8080/",
          "height": 34
        }
      },
      "cell_type": "code",
      "source": [
        "len(train_loader)"
      ],
      "execution_count": 33,
      "outputs": [
        {
          "output_type": "execute_result",
          "data": {
            "text/plain": [
              "2558"
            ]
          },
          "metadata": {
            "tags": []
          },
          "execution_count": 33
        }
      ]
    },
    {
      "metadata": {
        "id": "AkI6wmX8gm6U",
        "colab_type": "text"
      },
      "cell_type": "markdown",
      "source": [
        "### Building the model"
      ]
    },
    {
      "metadata": {
        "id": "TdnI3kw0gm6V",
        "colab_type": "code",
        "colab": {}
      },
      "cell_type": "code",
      "source": [
        "class TweetLSTM(nn.Module):\n",
        "    def __init__(self, input_size, hidden_size, num_classes, use_gpu):\n",
        "        super(TweetLSTM, self).__init__()\n",
        "        self.use_gpu = use_gpu\n",
        "        self.emb = nn.Embedding.from_pretrained(glove.vectors)\n",
        "        self.hidden_size = hidden_size\n",
        "        self.rnn = nn.LSTM(input_size, hidden_size, batch_first=True)\n",
        "        self.fc = nn.Linear(hidden_size, num_classes)\n",
        "    \n",
        "    def forward(self, x):\n",
        "        # Look up the embedding\n",
        "        x = self.emb(x)\n",
        "        # Set an initial hidden state and cell state\n",
        "        \n",
        "        if self.use_gpu:\n",
        "          h0 = torch.zeros(1, x.size(0), self.hidden_size).cuda()\n",
        "          c0 = torch.zeros(1, x.size(0), self.hidden_size).cuda()\n",
        "        else:\n",
        "          h0 = torch.zeros(1, x.size(0), self.hidden_size)\n",
        "          c0 = torch.zeros(1, x.size(0), self.hidden_size)\n",
        "        # Forward propagate the LSTM\n",
        "        out, _ = self.rnn(x, (h0, c0))\n",
        "        # Pass the output of the last time step to the classifier\n",
        "        out = self.fc(out[:, -1, :])\n",
        "        return out\n",
        "num_classes = 6\n",
        "model = TweetLSTM(input_size=50, hidden_size=50, num_classes=num_classes,use_gpu=True)"
      ],
      "execution_count": 0,
      "outputs": []
    },
    {
      "metadata": {
        "id": "90sHCtA9gm6c",
        "colab_type": "code",
        "outputId": "d57504b2-acc2-4670-dd88-aea5e96551a8",
        "colab": {
          "base_uri": "https://localhost:8080/",
          "height": 34
        }
      },
      "cell_type": "code",
      "source": [
        "def get_accuracy(model, data_loader, use_gpu):\n",
        "    if use_gpu:\n",
        "      model.cuda()\n",
        "    correct, total = 0, 0\n",
        "    for tweets, labels in data_loader:\n",
        "        if use_gpu:\n",
        "          tweets,labels  = tweets.cuda(), labels.cuda()\n",
        "        output = model(tweets)\n",
        "        pred = output.max(1, keepdim=True)[1]\n",
        "        correct += pred.eq(labels.view_as(pred)).sum().item()\n",
        "        total += labels.shape[0]\n",
        "    return float(correct) / float(total)\n",
        "  \n",
        "\n",
        "get_accuracy(model, test_loader,use_gpu = True)\n"
      ],
      "execution_count": 46,
      "outputs": [
        {
          "output_type": "execute_result",
          "data": {
            "text/plain": [
              "0.058683385579937304"
            ]
          },
          "metadata": {
            "tags": []
          },
          "execution_count": 46
        }
      ]
    },
    {
      "metadata": {
        "id": "XUd3LjcAgm6g",
        "colab_type": "code",
        "colab": {}
      },
      "cell_type": "code",
      "source": [
        "def train_rnn_network(model, train, valid, num_epochs=5, learning_rate=1e-5,use_gpu=True):\n",
        "    if use_gpu:\n",
        "      model.cuda()\n",
        "    criterion = nn.CrossEntropyLoss()\n",
        "    optimizer = torch.optim.Adam(model.parameters(), lr=learning_rate)\n",
        "    losses, train_acc, valid_acc = [], [], []\n",
        "    epochs = []\n",
        "    counter = 0\n",
        "    for epoch in range(num_epochs):\n",
        "        batch_loss = []\n",
        "        for tweets, labels in train:\n",
        "            if use_gpu:\n",
        "              tweets,labels  = tweets.cuda(), labels.cuda()\n",
        "            counter += 1\n",
        "            optimizer.zero_grad()\n",
        "            pred = model(tweets)\n",
        "            loss = criterion(pred, labels)\n",
        "            loss.backward()\n",
        "            optimizer.step()\n",
        "            batch_loss.append(float(loss))\n",
        "            if counter % 100 == 0:\n",
        "              print(\"Step %d of Epoch: %d; Loss %f \" % ( counter/100 ,epoch+1,np.mean(batch_loss)))\n",
        "        counter = 0\n",
        "        epoch_loss = np.mean(batch_loss)\n",
        "        losses.append(epoch_loss)\n",
        "        \n",
        "        epochs.append(epoch)\n",
        "        train_acc.append(get_accuracy(model, train_loader,use_gpu))\n",
        "        valid_acc.append(get_accuracy(model, valid_loader,use_gpu))\n",
        "        print(\"Final Result for Epoch %d: Loss %f; Val Acc %f; Train Acc %f\" % (\n",
        "              epoch+1, epoch_loss, valid_acc[-1], train_acc[-1]))\n",
        "        print(\"-------------------------------------------------------------\")\n",
        "        \n",
        "    # plotting\n",
        "    plt.title(\"Training Curve\")\n",
        "    plt.plot(losses, label=\"Train\")\n",
        "    plt.xlabel(\"Epoch\")\n",
        "    plt.ylabel(\"Loss\")\n",
        "    plt.show()\n",
        "\n",
        "    plt.title(\"Training Curve\")\n",
        "    plt.plot(epochs, train_acc, label=\"Train\")\n",
        "    plt.plot(epochs, valid_acc, label=\"Validation\")\n",
        "    plt.xlabel(\"Epoch\")\n",
        "    plt.ylabel(\"Accuracy\")\n",
        "    plt.legend(loc='best')\n",
        "    plt.show()"
      ],
      "execution_count": 0,
      "outputs": []
    },
    {
      "metadata": {
        "id": "aPz9Hioigm6i",
        "colab_type": "code",
        "outputId": "7fe5732b-e466-4d27-9ca9-af0fbd34182d",
        "colab": {
          "base_uri": "https://localhost:8080/",
          "height": 3047
        }
      },
      "cell_type": "code",
      "source": [
        "import time\n",
        "start = time.time()\n",
        "model = TweetLSTM(input_size=50, hidden_size=50, num_classes=num_classes,use_gpu=True)\n",
        "train_rnn_network(model, train_loader, valid_loader, num_epochs=5, learning_rate=1e-3,use_gpu=True)\n",
        "end = time.time()\n",
        "print(\"total training time:\", int(end -start), \"s\")"
      ],
      "execution_count": 62,
      "outputs": [
        {
          "output_type": "stream",
          "text": [
            "Step 1 of Epoch: 1; Loss 1.631976 \n",
            "Step 2 of Epoch: 1; Loss 1.604524 \n",
            "Step 3 of Epoch: 1; Loss 1.591430 \n",
            "Step 4 of Epoch: 1; Loss 1.582805 \n",
            "Step 5 of Epoch: 1; Loss 1.575784 \n",
            "Step 6 of Epoch: 1; Loss 1.568041 \n",
            "Step 7 of Epoch: 1; Loss 1.564002 \n",
            "Step 8 of Epoch: 1; Loss 1.561225 \n",
            "Step 9 of Epoch: 1; Loss 1.558716 \n",
            "Step 10 of Epoch: 1; Loss 1.556215 \n",
            "Step 11 of Epoch: 1; Loss 1.554492 \n",
            "Step 12 of Epoch: 1; Loss 1.551673 \n",
            "Step 13 of Epoch: 1; Loss 1.550601 \n",
            "Step 14 of Epoch: 1; Loss 1.548617 \n",
            "Step 15 of Epoch: 1; Loss 1.546160 \n",
            "Step 16 of Epoch: 1; Loss 1.543697 \n",
            "Step 17 of Epoch: 1; Loss 1.542441 \n",
            "Step 18 of Epoch: 1; Loss 1.540878 \n",
            "Step 19 of Epoch: 1; Loss 1.539657 \n",
            "Step 20 of Epoch: 1; Loss 1.538305 \n",
            "Step 21 of Epoch: 1; Loss 1.537903 \n",
            "Step 22 of Epoch: 1; Loss 1.536569 \n",
            "Step 23 of Epoch: 1; Loss 1.535746 \n",
            "Step 24 of Epoch: 1; Loss 1.535071 \n",
            "Step 25 of Epoch: 1; Loss 1.533912 \n",
            "Final Result for Epoch 1: Loss 1.533515; Val Acc 0.358495; Train Acc 0.357928\n",
            "-------------------------------------------------------------\n",
            "Step 1 of Epoch: 2; Loss 1.508993 \n",
            "Step 2 of Epoch: 2; Loss 1.503693 \n",
            "Step 3 of Epoch: 2; Loss 1.505548 \n",
            "Step 4 of Epoch: 2; Loss 1.506670 \n",
            "Step 5 of Epoch: 2; Loss 1.506303 \n",
            "Step 6 of Epoch: 2; Loss 1.507168 \n",
            "Step 7 of Epoch: 2; Loss 1.505163 \n",
            "Step 8 of Epoch: 2; Loss 1.503842 \n",
            "Step 9 of Epoch: 2; Loss 1.504391 \n",
            "Step 10 of Epoch: 2; Loss 1.504551 \n",
            "Step 11 of Epoch: 2; Loss 1.504133 \n",
            "Step 12 of Epoch: 2; Loss 1.503781 \n",
            "Step 13 of Epoch: 2; Loss 1.504480 \n",
            "Step 14 of Epoch: 2; Loss 1.504203 \n",
            "Step 15 of Epoch: 2; Loss 1.503766 \n",
            "Step 16 of Epoch: 2; Loss 1.502972 \n",
            "Step 17 of Epoch: 2; Loss 1.502773 \n",
            "Step 18 of Epoch: 2; Loss 1.502445 \n",
            "Step 19 of Epoch: 2; Loss 1.502089 \n",
            "Step 20 of Epoch: 2; Loss 1.502032 \n",
            "Step 21 of Epoch: 2; Loss 1.501713 \n",
            "Step 22 of Epoch: 2; Loss 1.501402 \n",
            "Step 23 of Epoch: 2; Loss 1.500756 \n",
            "Step 24 of Epoch: 2; Loss 1.500192 \n",
            "Step 25 of Epoch: 2; Loss 1.500067 \n",
            "Final Result for Epoch 2: Loss 1.499836; Val Acc 0.365580; Train Acc 0.369633\n",
            "-------------------------------------------------------------\n",
            "Step 1 of Epoch: 3; Loss 1.492785 \n",
            "Step 2 of Epoch: 3; Loss 1.492903 \n",
            "Step 3 of Epoch: 3; Loss 1.494275 \n",
            "Step 4 of Epoch: 3; Loss 1.490432 \n",
            "Step 5 of Epoch: 3; Loss 1.492940 \n",
            "Step 6 of Epoch: 3; Loss 1.492763 \n",
            "Step 7 of Epoch: 3; Loss 1.493001 \n",
            "Step 8 of Epoch: 3; Loss 1.490810 \n",
            "Step 9 of Epoch: 3; Loss 1.491198 \n",
            "Step 10 of Epoch: 3; Loss 1.490611 \n",
            "Step 11 of Epoch: 3; Loss 1.490041 \n",
            "Step 12 of Epoch: 3; Loss 1.489169 \n",
            "Step 13 of Epoch: 3; Loss 1.489517 \n",
            "Step 14 of Epoch: 3; Loss 1.488551 \n",
            "Step 15 of Epoch: 3; Loss 1.488606 \n",
            "Step 16 of Epoch: 3; Loss 1.487601 \n",
            "Step 17 of Epoch: 3; Loss 1.486759 \n",
            "Step 18 of Epoch: 3; Loss 1.486370 \n",
            "Step 19 of Epoch: 3; Loss 1.486613 \n",
            "Step 20 of Epoch: 3; Loss 1.487239 \n",
            "Step 21 of Epoch: 3; Loss 1.486966 \n",
            "Step 22 of Epoch: 3; Loss 1.486691 \n",
            "Step 23 of Epoch: 3; Loss 1.486396 \n",
            "Step 24 of Epoch: 3; Loss 1.486223 \n",
            "Step 25 of Epoch: 3; Loss 1.486600 \n",
            "Final Result for Epoch 3: Loss 1.486555; Val Acc 0.364013; Train Acc 0.369695\n",
            "-------------------------------------------------------------\n",
            "Step 1 of Epoch: 4; Loss 1.479920 \n",
            "Step 2 of Epoch: 4; Loss 1.479255 \n",
            "Step 3 of Epoch: 4; Loss 1.475874 \n",
            "Step 4 of Epoch: 4; Loss 1.473756 \n",
            "Step 5 of Epoch: 4; Loss 1.478088 \n",
            "Step 6 of Epoch: 4; Loss 1.475149 \n",
            "Step 7 of Epoch: 4; Loss 1.475963 \n",
            "Step 8 of Epoch: 4; Loss 1.475293 \n",
            "Step 9 of Epoch: 4; Loss 1.474425 \n",
            "Step 10 of Epoch: 4; Loss 1.475012 \n",
            "Step 11 of Epoch: 4; Loss 1.477450 \n",
            "Step 12 of Epoch: 4; Loss 1.477687 \n",
            "Step 13 of Epoch: 4; Loss 1.477934 \n",
            "Step 14 of Epoch: 4; Loss 1.477547 \n",
            "Step 15 of Epoch: 4; Loss 1.477134 \n",
            "Step 16 of Epoch: 4; Loss 1.476543 \n",
            "Step 17 of Epoch: 4; Loss 1.475926 \n",
            "Step 18 of Epoch: 4; Loss 1.476250 \n",
            "Step 19 of Epoch: 4; Loss 1.475911 \n",
            "Step 20 of Epoch: 4; Loss 1.476654 \n",
            "Step 21 of Epoch: 4; Loss 1.476146 \n",
            "Step 22 of Epoch: 4; Loss 1.475933 \n",
            "Step 23 of Epoch: 4; Loss 1.476087 \n",
            "Step 24 of Epoch: 4; Loss 1.475886 \n",
            "Step 25 of Epoch: 4; Loss 1.476414 \n",
            "Final Result for Epoch 4: Loss 1.476119; Val Acc 0.374357; Train Acc 0.380399\n",
            "-------------------------------------------------------------\n",
            "Step 1 of Epoch: 5; Loss 1.464963 \n",
            "Step 2 of Epoch: 5; Loss 1.463713 \n",
            "Step 3 of Epoch: 5; Loss 1.469247 \n",
            "Step 4 of Epoch: 5; Loss 1.470348 \n",
            "Step 5 of Epoch: 5; Loss 1.471882 \n",
            "Step 6 of Epoch: 5; Loss 1.471252 \n",
            "Step 7 of Epoch: 5; Loss 1.470844 \n",
            "Step 8 of Epoch: 5; Loss 1.471078 \n",
            "Step 9 of Epoch: 5; Loss 1.469611 \n",
            "Step 10 of Epoch: 5; Loss 1.468959 \n",
            "Step 11 of Epoch: 5; Loss 1.468503 \n",
            "Step 12 of Epoch: 5; Loss 1.469528 \n",
            "Step 13 of Epoch: 5; Loss 1.469552 \n",
            "Step 14 of Epoch: 5; Loss 1.469137 \n",
            "Step 15 of Epoch: 5; Loss 1.468030 \n",
            "Step 16 of Epoch: 5; Loss 1.467811 \n",
            "Step 17 of Epoch: 5; Loss 1.468179 \n",
            "Step 18 of Epoch: 5; Loss 1.467641 \n",
            "Step 19 of Epoch: 5; Loss 1.467987 \n",
            "Step 20 of Epoch: 5; Loss 1.467366 \n",
            "Step 21 of Epoch: 5; Loss 1.467187 \n",
            "Step 22 of Epoch: 5; Loss 1.466776 \n",
            "Step 23 of Epoch: 5; Loss 1.467264 \n",
            "Step 24 of Epoch: 5; Loss 1.467480 \n",
            "Step 25 of Epoch: 5; Loss 1.467470 \n",
            "Final Result for Epoch 5: Loss 1.467068; Val Acc 0.372163; Train Acc 0.385809\n",
            "-------------------------------------------------------------\n"
          ],
          "name": "stdout"
        },
        {
          "output_type": "display_data",
          "data": {
            "image/png": "[encoded data removed]",
            "text/plain": [
              "<Figure size 576x396 with 1 Axes>"
            ]
          },
          "metadata": {
            "tags": []
          }
        },
        {
          "output_type": "display_data",
          "data": {
            "image/png": "[encoded data removed]",
            "text/plain": [
              "<Figure size 576x396 with 1 Axes>"
            ]
          },
          "metadata": {
            "tags": []
          }
        },
        {
          "output_type": "stream",
          "text": [
            "total training time: 217 s\n"
          ],
          "name": "stdout"
        }
      ]
    },
    {
      "metadata": {
        "id": "QA282W2hdZau",
        "colab_type": "text"
      },
      "cell_type": "markdown",
      "source": [
        "### Saving the model"
      ]
    },
    {
      "metadata": {
        "id": "iGIvu-ysukwk",
        "colab_type": "code",
        "colab": {}
      },
      "cell_type": "code",
      "source": [
        "#torch.save(model.state_dict(), 'checkpoint.pth')"
      ],
      "execution_count": 0,
      "outputs": []
    },
    {
      "metadata": {
        "id": "F0TSZ1O2dfo-",
        "colab_type": "text"
      },
      "cell_type": "markdown",
      "source": [
        "### Loading the model"
      ]
    },
    {
      "metadata": {
        "id": "h9plkTXediGq",
        "colab_type": "code",
        "colab": {}
      },
      "cell_type": "code",
      "source": [
        "state_dict = torch.load('checkpoint.pth')"
      ],
      "execution_count": 0,
      "outputs": []
    },
    {
      "metadata": {
        "id": "eGTAC6Wudkv3",
        "colab_type": "code",
        "colab": {}
      },
      "cell_type": "code",
      "source": [
        "model.load_state_dict(state_dict)"
      ],
      "execution_count": 0,
      "outputs": []
    },
    {
      "metadata": {
        "id": "FqbUdJgD0iec",
        "colab_type": "text"
      },
      "cell_type": "markdown",
      "source": [
        "### Inference"
      ]
    },
    {
      "metadata": {
        "id": "TMF8kPVVvh91",
        "colab_type": "code",
        "colab": {}
      },
      "cell_type": "code",
      "source": [
        "# Tweet Test\n",
        "happy_tweet = 'Im happy'\n",
        "sad_tweet = 'Im sad'\n",
        "angry = 'Im angry'\n",
        "surprised_tweet = 'Im surprised'\n",
        "disgusted_tweet = 'Im disgusted'\n",
        "afraid_tweet = 'Im afraid'"
      ],
      "execution_count": 0,
      "outputs": []
    },
    {
      "metadata": {
        "id": "eO3IhcoX0vqy",
        "colab_type": "code",
        "colab": {}
      },
      "cell_type": "code",
      "source": [
        "def tweet_to_glove_index(tweet,glove_dict):\n",
        "    tweets_ints = []\n",
        "    tweet = tweet.lower()\n",
        "    idxs = [glove_dict.stoi[w]        # lookup the index of word\n",
        "            for w in tweet.split()\n",
        "            if w in glove_dict.stoi] # keep words that has an embedding\n",
        "    tweets_ints.append(idxs)\n",
        "    return tweets_ints"
      ],
      "execution_count": 0,
      "outputs": []
    },
    {
      "metadata": {
        "id": "eBnsPtrJ1NgH",
        "colab_type": "code",
        "colab": {}
      },
      "cell_type": "code",
      "source": [
        "int_to_emotion = {0:'Happy', 1:'Sad' , 2:'Angry', 3:'Surprised', 4:'Disgusted', 5:'Afraid'}\n",
        "\n",
        "def predict(model, test_tweet, sequence_length=max(tweets_lens)):\n",
        "    \n",
        "    \n",
        "    # tokenize tweet\n",
        "    test_ints = tweet_to_glove_index(test_tweet,glove)\n",
        "    \n",
        "    # pad tokenized sequence\n",
        "    seq_length=sequence_length\n",
        "    features = pad_features(test_ints, seq_length)\n",
        "    \n",
        "    # convert to tensor to pass into your model\n",
        "    feature_tensor = torch.from_numpy(features)\n",
        "    \n",
        "    batch_size = feature_tensor.size(0)\n",
        "    \n",
        "    \n",
        "    # get the output from the model\n",
        "    output = model(feature_tensor)\n",
        "    \n",
        "    # convert output probabilities to predicted class (0 or 1)\n",
        "    output_prob = nn.functional.softmax(output,dim=1)\n",
        "    top_n_pred = output_prob.topk(3,dim=1) ## top 3 preds\n",
        "    top_n_pred_prob, top_n_pred_index = top_n_pred[0].detach().numpy()[0], top_n_pred[1].detach().numpy()[0]\n",
        "    print(test_tweet)\n",
        "    print('Prediction:')\n",
        "    for prob,index in zip(top_n_pred_prob,top_n_pred_index):\n",
        "      print(int_to_emotion[index] , 'with' , str(int(prob*100))+\"%\", 'confidence')\n",
        "    print('---------------')"
      ],
      "execution_count": 0,
      "outputs": []
    },
    {
      "metadata": {
        "id": "TyMRFkX43fhn",
        "colab_type": "code",
        "outputId": "6cfb9a05-0672-4697-aa1e-72d4447517c3",
        "colab": {
          "base_uri": "https://localhost:8080/",
          "height": 629
        }
      },
      "cell_type": "code",
      "source": [
        "predict(model,happy_tweet)\n",
        "predict(model,sad_tweet)\n",
        "predict(model,angry)\n",
        "predict(model,surprised_tweet)\n",
        "predict(model,disgusted_tweet)\n",
        "predict(model,afraid_tweet)"
      ],
      "execution_count": 30,
      "outputs": [
        {
          "output_type": "stream",
          "text": [
            "Im happy\n",
            "Prediction:\n",
            "Happy with 46% confidence\n",
            "Surprised with 24% confidence\n",
            "Afraid with 12% confidence\n",
            "---------------\n",
            "Im sad\n",
            "Prediction:\n",
            "Sad with 82% confidence\n",
            "Disgusted with 5% confidence\n",
            "Happy with 5% confidence\n",
            "---------------\n",
            "Im angry\n",
            "Prediction:\n",
            "Disgusted with 34% confidence\n",
            "Angry with 32% confidence\n",
            "Happy with 10% confidence\n",
            "---------------\n",
            "Im surprised\n",
            "Prediction:\n",
            "Happy with 68% confidence\n",
            "Sad with 8% confidence\n",
            "Disgusted with 8% confidence\n",
            "---------------\n",
            "Im disgusted\n",
            "Prediction:\n",
            "Disgusted with 30% confidence\n",
            "Angry with 25% confidence\n",
            "Sad with 21% confidence\n",
            "---------------\n",
            "Im afraid\n",
            "Prediction:\n",
            "Surprised with 27% confidence\n",
            "Sad with 23% confidence\n",
            "Afraid with 22% confidence\n",
            "---------------\n"
          ],
          "name": "stdout"
        }
      ]
    },
    {
      "metadata": {
        "id": "AUhEs_I4hJ8M",
        "colab_type": "code",
        "colab": {}
      },
      "cell_type": "code",
      "source": [
        "tweets = ['he said he will be there and he showed up','']"
      ],
      "execution_count": 0,
      "outputs": []
    },
    {
      "metadata": {
        "id": "MollcketAEYZ",
        "colab_type": "code",
        "outputId": "79a301b7-03a5-4593-f425-a79dba5a9135",
        "colab": {
          "base_uri": "https://localhost:8080/",
          "height": 323
        }
      },
      "cell_type": "code",
      "source": [
        "for tweet in tweets:\n",
        "  predict(model, tweet)"
      ],
      "execution_count": 0,
      "outputs": [
        {
          "output_type": "stream",
          "text": [
            "he said he will be there and he showed up\n",
            "Prediction:\n",
            "Happy with 32% confidence\n",
            "Surprised with 20% confidence\n",
            "Sad with 17% confidence\n",
            "---------------\n",
            "he said he will be there but he did not show up\n",
            "Prediction:\n",
            "Sad with 29% confidence\n",
            "Surprised with 19% confidence\n",
            "Disgusted with 18% confidence\n",
            "---------------\n",
            "he said he will be there and he showed up with his friends\n",
            "Prediction:\n",
            "Surprised with 24% confidence\n",
            "Happy with 20% confidence\n",
            "Sad with 16% confidence\n",
            "---------------\n"
          ],
          "name": "stdout"
        }
      ]
    },
    {
      "metadata": {
        "id": "ttE3WT7qAGgM",
        "colab_type": "code",
        "colab": {}
      },
      "cell_type": "code",
      "source": [
        ""
      ],
      "execution_count": 0,
      "outputs": []
    }
  ]
}