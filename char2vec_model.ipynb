{
  "nbformat": 4,
  "nbformat_minor": 0,
  "metadata": {
    "colab": {
      "name": "char2vec-model.ipynb",
      "version": "0.3.2",
      "provenance": [],
      "collapsed_sections": [],
      "toc_visible": true
    },
    "kernelspec": {
      "display_name": "Python 3",
      "language": "python",
      "name": "python3"
    },
    "accelerator": "GPU"
  },
  "cells": [
    {
      "metadata": {
        "colab_type": "text",
        "id": "S9NeXRWQgm5R"
      },
      "cell_type": "markdown",
      "source": [
        "### Todos:\n",
        "### 1. preprocess the data to make it suitable for glove embeding:\n",
        "### a. remove ' from words( don't -> dont)\n",
        "### b. convert all letters to lowercase ( Hoping -> hoping)\n",
        "### 2. find the frequency of each emoji to see if the dataset is balanced and balance the dataset(important)"
      ]
    },
    {
      "metadata": {
        "id": "0AxfnXUB3YGq",
        "colab_type": "code",
        "colab": {
          "base_uri": "https://localhost:8080/",
          "height": 265
        },
        "outputId": "3e6b23ae-a911-4ace-baae-ca2ec69f5693"
      },
      "cell_type": "code",
      "source": [
        "!pip install chars2vec"
      ],
      "execution_count": 13,
      "outputs": [
        {
          "output_type": "stream",
          "text": [
            "Collecting chars2vec\n",
            "\u001b[?25l  Downloading https://files.pythonhosted.org/packages/99/e7/f78e8291915dbecf4c3342d161bd866ab7e522645823d925dc285fa22a01/chars2vec-0.1.6.tar.gz (8.1MB)\n",
            "\u001b[K    100% |████████████████████████████████| 8.1MB 4.6MB/s \n",
            "\u001b[?25hBuilding wheels for collected packages: chars2vec\n",
            "  Building wheel for chars2vec (setup.py) ... \u001b[?25ldone\n",
            "\u001b[?25h  Stored in directory: /root/.cache/pip/wheels/46/47/d3/90038cccf02f2536f57163b188356b8f2dd1d3e38b318c5df6\n",
            "Successfully built chars2vec\n",
            "Installing collected packages: chars2vec\n",
            "Successfully installed chars2vec-0.1.6\n"
          ],
          "name": "stdout"
        }
      ]
    },
    {
      "metadata": {
        "colab_type": "code",
        "id": "kjt9iuwEgm5T",
        "colab": {}
      },
      "cell_type": "code",
      "source": [
        "import csv\n",
        "import torch\n",
        "import torch.nn as nn\n",
        "import torch.nn.functional as F\n",
        "import torch.optim as optim\n",
        "import torchtext\n",
        "import numpy as np\n",
        "import matplotlib.pyplot as plt\n",
        "import chars2vec\n",
        "import sklearn.decomposition"
      ],
      "execution_count": 0,
      "outputs": []
    },
    {
      "metadata": {
        "colab_type": "code",
        "id": "tGMIDRTHgm5b",
        "colab": {}
      },
      "cell_type": "code",
      "source": [
        "import pandas"
      ],
      "execution_count": 0,
      "outputs": []
    },
    {
      "metadata": {
        "colab_type": "code",
        "id": "26_C6S4Ugm5e",
        "colab": {}
      },
      "cell_type": "code",
      "source": [
        "def get_data():\n",
        "    header = ['tweet','label']\n",
        "    data_set = pandas.read_csv('cleaned_data.txt',delimiter='\\t',names = header)\n",
        "    return data_set\n",
        "\n",
        "def split_tweet(tweet):\n",
        "    return tweet.split()    \n"
      ],
      "execution_count": 0,
      "outputs": []
    },
    {
      "metadata": {
        "colab_type": "code",
        "id": "bmOzSIDpgm5h",
        "colab": {}
      },
      "cell_type": "code",
      "source": [
        "data_set = get_data()"
      ],
      "execution_count": 0,
      "outputs": []
    },
    {
      "metadata": {
        "id": "iyIIuTQk3qGn",
        "colab_type": "code",
        "colab": {
          "base_uri": "https://localhost:8080/",
          "height": 128
        },
        "outputId": "fbfb3fe9-212c-4226-eb91-aee7da87d03b"
      },
      "cell_type": "code",
      "source": [
        "# This is the global variable for char2vec object\n",
        "c2v_model = chars2vec.load_model('eng_50')"
      ],
      "execution_count": 15,
      "outputs": [
        {
          "output_type": "stream",
          "text": [
            "WARNING:tensorflow:From /usr/local/lib/python3.6/dist-packages/tensorflow/python/framework/op_def_library.py:263: colocate_with (from tensorflow.python.framework.ops) is deprecated and will be removed in a future version.\n",
            "Instructions for updating:\n",
            "Colocations handled automatically by placer.\n"
          ],
          "name": "stdout"
        }
      ]
    },
    {
      "metadata": {
        "id": "KWCdLx2V33mQ",
        "colab_type": "code",
        "colab": {
          "base_uri": "https://localhost:8080/",
          "height": 374
        },
        "outputId": "f19d2898-61f7-4d38-965c-479423aacfef"
      },
      "cell_type": "code",
      "source": [
        "'''\n",
        "this code block is to visualize the embeddings produced by char2vec for mispelled words\n",
        "'''\n",
        "\n",
        "words = ['engineeri', 'engneeer',\n",
        "        'nurse', 'narse',\n",
        "        'cryptography', 'keriptography']\n",
        "\n",
        "# Create word embeddings\n",
        "word_embeddings = c2v_model.vectorize_words(words)\n",
        "\n",
        "# Project embeddings on plane using the PCA\n",
        "projection_2d = sklearn.decomposition.PCA(n_components=2).fit_transform(word_embeddings)\n",
        "\n",
        "# Draw words on plane\n",
        "f = plt.figure(figsize=(8, 6))\n",
        "\n",
        "for j in range(len(projection_2d)):\n",
        "    plt.scatter(projection_2d[j, 0], projection_2d[j, 1],\n",
        "                marker=('$' + words[j] + '$'),\n",
        "                s=500 * len(words[j]), label=j)\n",
        "\n",
        "plt.show()"
      ],
      "execution_count": 19,
      "outputs": [
        {
          "output_type": "display_data",
          "data": {
            "image/png": "[encoded data removed]",
            "text/plain": [
              "<Figure size 576x432 with 1 Axes>"
            ]
          },
          "metadata": {
            "tags": []
          }
        }
      ]
    },
    {
      "metadata": {
        "id": "xBEofG9_8sIa",
        "colab_type": "code",
        "colab": {
          "base_uri": "https://localhost:8080/",
          "height": 34
        },
        "outputId": "421898d1-533b-4361-9e79-02e6f5343382"
      },
      "cell_type": "code",
      "source": [
        "# ****************DEBUGGING*************************\n",
        "\n",
        "c2v_model.vectorize_words(['hello', 'how', 'are']).shape"
      ],
      "execution_count": 102,
      "outputs": [
        {
          "output_type": "execute_result",
          "data": {
            "text/plain": [
              "(3, 50)"
            ]
          },
          "metadata": {
            "tags": []
          },
          "execution_count": 102
        }
      ]
    },
    {
      "metadata": {
        "colab_type": "code",
        "id": "sQ8JIzR4gm5q",
        "outputId": "3686cc45-c89c-4712-b6af-f0618625689e",
        "colab": {
          "base_uri": "https://localhost:8080/",
          "height": 34
        }
      },
      "cell_type": "code",
      "source": [
        "# ****************DEBUGGING*************************\n",
        "\n",
        "len(data_set)"
      ],
      "execution_count": 153,
      "outputs": [
        {
          "output_type": "execute_result",
          "data": {
            "text/plain": [
              "161893"
            ]
          },
          "metadata": {
            "tags": []
          },
          "execution_count": 153
        }
      ]
    },
    {
      "metadata": {
        "colab_type": "code",
        "id": "tA4Ahaifgm53",
        "outputId": "d6ec5f9c-4ffa-4095-ba27-7a09170b10a9",
        "colab": {
          "base_uri": "https://localhost:8080/",
          "height": 1969
        }
      },
      "cell_type": "code",
      "source": [
        "data_set"
      ],
      "execution_count": 154,
      "outputs": [
        {
          "output_type": "execute_result",
          "data": {
            "text/html": [
              "<div>\n",
              "<style scoped>\n",
              "    .dataframe tbody tr th:only-of-type {\n",
              "        vertical-align: middle;\n",
              "    }\n",
              "\n",
              "    .dataframe tbody tr th {\n",
              "        vertical-align: top;\n",
              "    }\n",
              "\n",
              "    .dataframe thead th {\n",
              "        text-align: right;\n",
              "    }\n",
              "</style>\n",
              "<table border=\"1\" class=\"dataframe\">\n",
              "  <thead>\n",
              "    <tr style=\"text-align: right;\">\n",
              "      <th></th>\n",
              "      <th>tweet</th>\n",
              "      <th>label</th>\n",
              "    </tr>\n",
              "  </thead>\n",
              "  <tbody>\n",
              "    <tr>\n",
              "      <th>0</th>\n",
              "      <td>hoping i dont screw up this interview</td>\n",
              "      <td>0</td>\n",
              "    </tr>\n",
              "    <tr>\n",
              "      <th>1</th>\n",
              "      <td>i feel like a baby kangaroo stuck in its mothe...</td>\n",
              "      <td>1</td>\n",
              "    </tr>\n",
              "    <tr>\n",
              "      <th>2</th>\n",
              "      <td>girl ppl should be happy i even remembered her...</td>\n",
              "      <td>0</td>\n",
              "    </tr>\n",
              "    <tr>\n",
              "      <th>3</th>\n",
              "      <td>oh ,  the irony if misha wins the choice tv sc...</td>\n",
              "      <td>2</td>\n",
              "    </tr>\n",
              "    <tr>\n",
              "      <th>4</th>\n",
              "      <td>i miss you to  ,  you so fake now</td>\n",
              "      <td>2</td>\n",
              "    </tr>\n",
              "    <tr>\n",
              "      <th>5</th>\n",
              "      <td>i miss you to  ,  you so fake now</td>\n",
              "      <td>4</td>\n",
              "    </tr>\n",
              "    <tr>\n",
              "      <th>6</th>\n",
              "      <td>i know</td>\n",
              "      <td>1</td>\n",
              "    </tr>\n",
              "    <tr>\n",
              "      <th>7</th>\n",
              "      <td>bacolod please ? !</td>\n",
              "      <td>0</td>\n",
              "    </tr>\n",
              "    <tr>\n",
              "      <th>8</th>\n",
              "      <td>things can change so quickly</td>\n",
              "      <td>1</td>\n",
              "    </tr>\n",
              "    <tr>\n",
              "      <th>9</th>\n",
              "      <td>all me &amp;amp ;  vic do is laugh .  .  anybody o...</td>\n",
              "      <td>1</td>\n",
              "    </tr>\n",
              "    <tr>\n",
              "      <th>10</th>\n",
              "      <td>do u have to remind me i was bored right after...</td>\n",
              "      <td>0</td>\n",
              "    </tr>\n",
              "    <tr>\n",
              "      <th>11</th>\n",
              "      <td>its ok love .  you are sweet ,  but i know you...</td>\n",
              "      <td>0</td>\n",
              "    </tr>\n",
              "    <tr>\n",
              "      <th>12</th>\n",
              "      <td>nainai has said bitch twice in 4 minutes and i...</td>\n",
              "      <td>0</td>\n",
              "    </tr>\n",
              "    <tr>\n",
              "      <th>13</th>\n",
              "      <td>louis thank you for everything you do you dese...</td>\n",
              "      <td>0</td>\n",
              "    </tr>\n",
              "    <tr>\n",
              "      <th>14</th>\n",
              "      <td>impractical jokers its almost always on in our...</td>\n",
              "      <td>0</td>\n",
              "    </tr>\n",
              "    <tr>\n",
              "      <th>15</th>\n",
              "      <td>my eyes are in pain .  cant get over the movie...</td>\n",
              "      <td>1</td>\n",
              "    </tr>\n",
              "    <tr>\n",
              "      <th>16</th>\n",
              "      <td>daydrinking</td>\n",
              "      <td>0</td>\n",
              "    </tr>\n",
              "    <tr>\n",
              "      <th>17</th>\n",
              "      <td>genitin</td>\n",
              "      <td>0</td>\n",
              "    </tr>\n",
              "    <tr>\n",
              "      <th>18</th>\n",
              "      <td>like like like</td>\n",
              "      <td>0</td>\n",
              "    </tr>\n",
              "    <tr>\n",
              "      <th>19</th>\n",
              "      <td>eye need to get these brows done asap</td>\n",
              "      <td>1</td>\n",
              "    </tr>\n",
              "    <tr>\n",
              "      <th>20</th>\n",
              "      <td>i almost choked on my retainer just now</td>\n",
              "      <td>1</td>\n",
              "    </tr>\n",
              "    <tr>\n",
              "      <th>21</th>\n",
              "      <td>ms .  mendiola works miracles! shes so great</td>\n",
              "      <td>1</td>\n",
              "    </tr>\n",
              "    <tr>\n",
              "      <th>22</th>\n",
              "      <td>oh and parking dont even get me started on the...</td>\n",
              "      <td>2</td>\n",
              "    </tr>\n",
              "    <tr>\n",
              "      <th>23</th>\n",
              "      <td>oh and parking dont even get me started on the...</td>\n",
              "      <td>4</td>\n",
              "    </tr>\n",
              "    <tr>\n",
              "      <th>24</th>\n",
              "      <td>trying to stay my ass in the burbs but im gett...</td>\n",
              "      <td>1</td>\n",
              "    </tr>\n",
              "    <tr>\n",
              "      <th>25</th>\n",
              "      <td>oh my god riley is so cute</td>\n",
              "      <td>0</td>\n",
              "    </tr>\n",
              "    <tr>\n",
              "      <th>26</th>\n",
              "      <td>why doe</td>\n",
              "      <td>0</td>\n",
              "    </tr>\n",
              "    <tr>\n",
              "      <th>27</th>\n",
              "      <td>i cant wait to be on the beach tomorrow</td>\n",
              "      <td>0</td>\n",
              "    </tr>\n",
              "    <tr>\n",
              "      <th>28</th>\n",
              "      <td>- warrior basti also will have his claws cut .</td>\n",
              "      <td>0</td>\n",
              "    </tr>\n",
              "    <tr>\n",
              "      <th>29</th>\n",
              "      <td>not bein selfish .  .  im only workin wit one arm</td>\n",
              "      <td>0</td>\n",
              "    </tr>\n",
              "    <tr>\n",
              "      <th>...</th>\n",
              "      <td>...</td>\n",
              "      <td>...</td>\n",
              "    </tr>\n",
              "    <tr>\n",
              "      <th>161863</th>\n",
              "      <td>wish i knew her last name</td>\n",
              "      <td>4</td>\n",
              "    </tr>\n",
              "    <tr>\n",
              "      <th>161864</th>\n",
              "      <td>lmao is it bad if my friends hit me up to tell...</td>\n",
              "      <td>0</td>\n",
              "    </tr>\n",
              "    <tr>\n",
              "      <th>161865</th>\n",
              "      <td>when he calls you his partner in crime</td>\n",
              "      <td>0</td>\n",
              "    </tr>\n",
              "    <tr>\n",
              "      <th>161866</th>\n",
              "      <td>nigga .  .  you don watch the new episode ?</td>\n",
              "      <td>5</td>\n",
              "    </tr>\n",
              "    <tr>\n",
              "      <th>161867</th>\n",
              "      <td>but he died cause of a car accident no one kil...</td>\n",
              "      <td>0</td>\n",
              "    </tr>\n",
              "    <tr>\n",
              "      <th>161868</th>\n",
              "      <td>what we looking for ?</td>\n",
              "      <td>3</td>\n",
              "    </tr>\n",
              "    <tr>\n",
              "      <th>161869</th>\n",
              "      <td>all i do is share shit so that evens it out</td>\n",
              "      <td>0</td>\n",
              "    </tr>\n",
              "    <tr>\n",
              "      <th>161870</th>\n",
              "      <td>sister goals let stop for people say im acting...</td>\n",
              "      <td>0</td>\n",
              "    </tr>\n",
              "    <tr>\n",
              "      <th>161871</th>\n",
              "      <td>sister goals let stop for people say im acting...</td>\n",
              "      <td>1</td>\n",
              "    </tr>\n",
              "    <tr>\n",
              "      <th>161872</th>\n",
              "      <td>is so cant wait to see him live at</td>\n",
              "      <td>1</td>\n",
              "    </tr>\n",
              "    <tr>\n",
              "      <th>161873</th>\n",
              "      <td>i was chilling and i still am .</td>\n",
              "      <td>0</td>\n",
              "    </tr>\n",
              "    <tr>\n",
              "      <th>161874</th>\n",
              "      <td>tirs au but</td>\n",
              "      <td>1</td>\n",
              "    </tr>\n",
              "    <tr>\n",
              "      <th>161875</th>\n",
              "      <td>yeaah im just tryin a new style</td>\n",
              "      <td>0</td>\n",
              "    </tr>\n",
              "    <tr>\n",
              "      <th>161876</th>\n",
              "      <td>you off earlyyyy ?  lets do something please</td>\n",
              "      <td>1</td>\n",
              "    </tr>\n",
              "    <tr>\n",
              "      <th>161877</th>\n",
              "      <td>thats how blew i am .  .  .  a nigga couldnt e...</td>\n",
              "      <td>4</td>\n",
              "    </tr>\n",
              "    <tr>\n",
              "      <th>161878</th>\n",
              "      <td>stressed is such an understatement the only th...</td>\n",
              "      <td>0</td>\n",
              "    </tr>\n",
              "    <tr>\n",
              "      <th>161879</th>\n",
              "      <td>stressed is such an understatement the only th...</td>\n",
              "      <td>1</td>\n",
              "    </tr>\n",
              "    <tr>\n",
              "      <th>161880</th>\n",
              "      <td>happy birthday to you my beautiful sk may god ...</td>\n",
              "      <td>0</td>\n",
              "    </tr>\n",
              "    <tr>\n",
              "      <th>161881</th>\n",
              "      <td>thanks</td>\n",
              "      <td>0</td>\n",
              "    </tr>\n",
              "    <tr>\n",
              "      <th>161882</th>\n",
              "      <td>carebear w/ the teeth</td>\n",
              "      <td>0</td>\n",
              "    </tr>\n",
              "    <tr>\n",
              "      <th>161883</th>\n",
              "      <td>brooo .  its so frustrating .  theres no reaso...</td>\n",
              "      <td>1</td>\n",
              "    </tr>\n",
              "    <tr>\n",
              "      <th>161884</th>\n",
              "      <td>on that note ;  goodnight</td>\n",
              "      <td>0</td>\n",
              "    </tr>\n",
              "    <tr>\n",
              "      <th>161885</th>\n",
              "      <td>i just realized something ive never been in a ...</td>\n",
              "      <td>3</td>\n",
              "    </tr>\n",
              "    <tr>\n",
              "      <th>161886</th>\n",
              "      <td>i just realized something ive never been in a ...</td>\n",
              "      <td>5</td>\n",
              "    </tr>\n",
              "    <tr>\n",
              "      <th>161887</th>\n",
              "      <td>im boutta go take a nap</td>\n",
              "      <td>0</td>\n",
              "    </tr>\n",
              "    <tr>\n",
              "      <th>161888</th>\n",
              "      <td>closing sucked but its still been a good day</td>\n",
              "      <td>0</td>\n",
              "    </tr>\n",
              "    <tr>\n",
              "      <th>161889</th>\n",
              "      <td>thank god my friends love me and will listen t...</td>\n",
              "      <td>0</td>\n",
              "    </tr>\n",
              "    <tr>\n",
              "      <th>161890</th>\n",
              "      <td>blowed</td>\n",
              "      <td>0</td>\n",
              "    </tr>\n",
              "    <tr>\n",
              "      <th>161891</th>\n",
              "      <td>london agent + ibs = full of shit</td>\n",
              "      <td>0</td>\n",
              "    </tr>\n",
              "    <tr>\n",
              "      <th>161892</th>\n",
              "      <td>london agent + ibs = full of shit</td>\n",
              "      <td>4</td>\n",
              "    </tr>\n",
              "  </tbody>\n",
              "</table>\n",
              "<p>161893 rows × 2 columns</p>\n",
              "</div>"
            ],
            "text/plain": [
              "                                                    tweet  label\n",
              "0                   hoping i dont screw up this interview      0\n",
              "1       i feel like a baby kangaroo stuck in its mothe...      1\n",
              "2       girl ppl should be happy i even remembered her...      0\n",
              "3       oh ,  the irony if misha wins the choice tv sc...      2\n",
              "4                       i miss you to  ,  you so fake now      2\n",
              "5                       i miss you to  ,  you so fake now      4\n",
              "6                                                  i know      1\n",
              "7                                      bacolod please ? !      0\n",
              "8                            things can change so quickly      1\n",
              "9       all me &amp ;  vic do is laugh .  .  anybody o...      1\n",
              "10      do u have to remind me i was bored right after...      0\n",
              "11      its ok love .  you are sweet ,  but i know you...      0\n",
              "12      nainai has said bitch twice in 4 minutes and i...      0\n",
              "13      louis thank you for everything you do you dese...      0\n",
              "14      impractical jokers its almost always on in our...      0\n",
              "15      my eyes are in pain .  cant get over the movie...      1\n",
              "16                                            daydrinking      0\n",
              "17                                                genitin      0\n",
              "18                                         like like like      0\n",
              "19                  eye need to get these brows done asap      1\n",
              "20                i almost choked on my retainer just now      1\n",
              "21           ms .  mendiola works miracles! shes so great      1\n",
              "22      oh and parking dont even get me started on the...      2\n",
              "23      oh and parking dont even get me started on the...      4\n",
              "24      trying to stay my ass in the burbs but im gett...      1\n",
              "25                             oh my god riley is so cute      0\n",
              "26                                                why doe      0\n",
              "27                i cant wait to be on the beach tomorrow      0\n",
              "28        - warrior basti also will have his claws cut .       0\n",
              "29      not bein selfish .  .  im only workin wit one arm      0\n",
              "...                                                   ...    ...\n",
              "161863                          wish i knew her last name      4\n",
              "161864  lmao is it bad if my friends hit me up to tell...      0\n",
              "161865             when he calls you his partner in crime      0\n",
              "161866       nigga .  .  you don watch the new episode ?       5\n",
              "161867  but he died cause of a car accident no one kil...      0\n",
              "161868                             what we looking for ?       3\n",
              "161869        all i do is share shit so that evens it out      0\n",
              "161870  sister goals let stop for people say im acting...      0\n",
              "161871  sister goals let stop for people say im acting...      1\n",
              "161872                 is so cant wait to see him live at      1\n",
              "161873                   i was chilling and i still am .       0\n",
              "161874                                        tirs au but      1\n",
              "161875                    yeaah im just tryin a new style      0\n",
              "161876       you off earlyyyy ?  lets do something please      1\n",
              "161877  thats how blew i am .  .  .  a nigga couldnt e...      4\n",
              "161878  stressed is such an understatement the only th...      0\n",
              "161879  stressed is such an understatement the only th...      1\n",
              "161880  happy birthday to you my beautiful sk may god ...      0\n",
              "161881                                             thanks      0\n",
              "161882                              carebear w/ the teeth      0\n",
              "161883  brooo .  its so frustrating .  theres no reaso...      1\n",
              "161884                          on that note ;  goodnight      0\n",
              "161885  i just realized something ive never been in a ...      3\n",
              "161886  i just realized something ive never been in a ...      5\n",
              "161887                            im boutta go take a nap      0\n",
              "161888       closing sucked but its still been a good day      0\n",
              "161889  thank god my friends love me and will listen t...      0\n",
              "161890                                             blowed      0\n",
              "161891                  london agent + ibs = full of shit      0\n",
              "161892                  london agent + ibs = full of shit      4\n",
              "\n",
              "[161893 rows x 2 columns]"
            ]
          },
          "metadata": {
            "tags": []
          },
          "execution_count": 154
        }
      ]
    },
    {
      "metadata": {
        "id": "uHwn3cU71Tvg",
        "colab_type": "code",
        "colab": {}
      },
      "cell_type": "code",
      "source": [
        "def list_of_list_of_data_set(data_set):\n",
        "  '''\n",
        "  create a list of list, the inner list containes each splitted tweet.\n",
        "  '''\n",
        "  \n",
        "  tweets_list, encoded_labels = [],[]\n",
        "  for i in range(len(data_set)):\n",
        "    tweet = data_set['tweet'][i]\n",
        "    label = data_set['label'][i]\n",
        "    if(type(tweet) != str):\n",
        "        continue\n",
        "    tweets_list.append(tweet.split())\n",
        "    encoded_labels.append(label)\n",
        "  return tweets_list, encoded_labels\n",
        "  "
      ],
      "execution_count": 0,
      "outputs": []
    },
    {
      "metadata": {
        "id": "LRnjRN6r2oBJ",
        "colab_type": "code",
        "colab": {}
      },
      "cell_type": "code",
      "source": [
        "tweets_list, encoded_labels = list_of_list_of_data_set(data_set)"
      ],
      "execution_count": 0,
      "outputs": []
    },
    {
      "metadata": {
        "id": "JeJA4XKN2vEq",
        "colab_type": "code",
        "colab": {
          "base_uri": "https://localhost:8080/",
          "height": 51
        },
        "outputId": "080e889d-afe0-4fb9-e330-580e8da602ef"
      },
      "cell_type": "code",
      "source": [
        "# ****************DEBUGGING*************************\n",
        "\n",
        "print(tweets_list[10])\n",
        "print(len(tweets_list))"
      ],
      "execution_count": 23,
      "outputs": [
        {
          "output_type": "stream",
          "text": [
            "['do', 'u', 'have', 'to', 'remind', 'me', 'i', 'was', 'bored', 'right', 'after', 'we', 'graduated']\n",
            "161893\n"
          ],
          "name": "stdout"
        }
      ]
    },
    {
      "metadata": {
        "colab_type": "code",
        "id": "sB-kS3issuZ8",
        "outputId": "52993c8c-c559-4cfb-88d5-382ef7459791",
        "colab": {
          "base_uri": "https://localhost:8080/",
          "height": 51
        }
      },
      "cell_type": "code",
      "source": [
        "from collections import Counter\n",
        "# outlier review stats\n",
        "tweets_lens = Counter([len(x) for x in tweets_list])\n",
        "print(\"Zero-length tweets: {}\".format(tweets_lens[0]))\n",
        "print(\"Maximum tweet length: {}\".format(max(tweets_lens)))"
      ],
      "execution_count": 24,
      "outputs": [
        {
          "output_type": "stream",
          "text": [
            "Zero-length tweets: 0\n",
            "Maximum tweet length: 62\n"
          ],
          "name": "stdout"
        }
      ]
    },
    {
      "metadata": {
        "id": "trbdyna4pkHd",
        "colab_type": "code",
        "colab": {
          "base_uri": "https://localhost:8080/",
          "height": 782
        },
        "outputId": "de5b1dd9-d350-4d97-8cb1-3b08d0a60abe"
      },
      "cell_type": "code",
      "source": [
        "# ****************DEBUGGING*************************\n",
        "\n",
        "tweets_lens"
      ],
      "execution_count": 155,
      "outputs": [
        {
          "output_type": "execute_result",
          "data": {
            "text/plain": [
              "Counter({1: 3340,\n",
              "         2: 7871,\n",
              "         3: 9817,\n",
              "         4: 11462,\n",
              "         5: 11761,\n",
              "         6: 11545,\n",
              "         7: 10978,\n",
              "         8: 9911,\n",
              "         9: 8730,\n",
              "         10: 8037,\n",
              "         11: 7391,\n",
              "         12: 6781,\n",
              "         13: 5946,\n",
              "         14: 5389,\n",
              "         15: 4935,\n",
              "         16: 4642,\n",
              "         17: 4190,\n",
              "         18: 3768,\n",
              "         19: 3585,\n",
              "         20: 3189,\n",
              "         21: 2961,\n",
              "         22: 2723,\n",
              "         23: 2384,\n",
              "         24: 2283,\n",
              "         25: 2004,\n",
              "         26: 1690,\n",
              "         27: 1479,\n",
              "         28: 1073,\n",
              "         29: 721,\n",
              "         30: 523,\n",
              "         31: 301,\n",
              "         32: 206,\n",
              "         33: 120,\n",
              "         34: 63,\n",
              "         35: 39,\n",
              "         36: 25,\n",
              "         37: 11,\n",
              "         38: 6,\n",
              "         39: 4,\n",
              "         40: 2,\n",
              "         41: 2,\n",
              "         42: 1,\n",
              "         43: 1,\n",
              "         54: 1,\n",
              "         62: 2})"
            ]
          },
          "metadata": {
            "tags": []
          },
          "execution_count": 155
        }
      ]
    },
    {
      "metadata": {
        "id": "Uf1r82fE5MHe",
        "colab_type": "code",
        "colab": {}
      },
      "cell_type": "code",
      "source": [
        "def data_set_to_char2vec(tweets_list, seq_length):\n",
        "  '''left pad tweets if required and driectly generate \n",
        "     char2vec embeddings for each tweet. No need to generate the embeddings\n",
        "     inside the LSTM model\n",
        "  '''\n",
        "  \n",
        "  # create a zeros matrix\n",
        "  embeddings = np.zeros([len(tweets_list), seq_length, c2v_model.dim])\n",
        "  \n",
        "  for i, row in enumerate(tweets_list):\n",
        "    embeddings[i, -len(row):] = c2v_model.vectorize_words(row)\n",
        "   \n",
        "  return embeddings"
      ],
      "execution_count": 0,
      "outputs": []
    },
    {
      "metadata": {
        "id": "O8ifJYbQ7Lwq",
        "colab_type": "code",
        "colab": {
          "base_uri": "https://localhost:8080/",
          "height": 34
        },
        "outputId": "5b59adf2-91d0-4563-f9ef-f4decebb4f7a"
      },
      "cell_type": "code",
      "source": [
        "# ****************DEBUGGING*************************\n",
        "\n",
        "x = np.zeros([2,10,2])\n",
        "x[1, -5:].shape"
      ],
      "execution_count": 50,
      "outputs": [
        {
          "output_type": "execute_result",
          "data": {
            "text/plain": [
              "(5, 2)"
            ]
          },
          "metadata": {
            "tags": []
          },
          "execution_count": 50
        }
      ]
    },
    {
      "metadata": {
        "colab_type": "code",
        "id": "Wy8MFokXs_9K",
        "colab": {}
      },
      "cell_type": "code",
      "source": [
        "seq_length = max(tweets_lens)\n",
        "\n",
        "embeddings = data_set_to_char2vec(tweets_list, seq_length=seq_length)\n",
        "encoded_labels = np.array(encoded_labels)"
      ],
      "execution_count": 0,
      "outputs": []
    },
    {
      "metadata": {
        "colab_type": "code",
        "id": "R9siA7B4tAc7",
        "outputId": "ec246dec-32bc-4d60-a64f-864be5b30433",
        "colab": {
          "base_uri": "https://localhost:8080/",
          "height": 272
        }
      },
      "cell_type": "code",
      "source": [
        "# ****************DEBUGGING*************************\n",
        "\n",
        "print(embeddings[10])\n",
        "print(len(tweets_list[10]))\n",
        "print(len(embeddings))"
      ],
      "execution_count": 104,
      "outputs": [
        {
          "output_type": "stream",
          "text": [
            "[[ 0.          0.          0.         ...  0.          0.\n",
            "   0.        ]\n",
            " [ 0.          0.          0.         ...  0.          0.\n",
            "   0.        ]\n",
            " [ 0.          0.          0.         ...  0.          0.\n",
            "   0.        ]\n",
            " ...\n",
            " [-0.92866522 -0.89754045 -0.96674055 ...  0.84702402  0.07180736\n",
            "   0.14698142]\n",
            " [-0.13858666 -0.04155272 -0.84561974 ...  0.93053365  0.05394851\n",
            "   0.82132113]\n",
            " [ 0.71916938 -0.0572949  -0.99729317 ...  0.89942294  0.93165135\n",
            "   0.19820297]]\n",
            "13\n",
            "161893\n"
          ],
          "name": "stdout"
        }
      ]
    },
    {
      "metadata": {
        "id": "wR1YcWhHrQPj",
        "colab_type": "code",
        "colab": {
          "base_uri": "https://localhost:8080/",
          "height": 34
        },
        "outputId": "364ba13a-cbbb-4374-a6c2-5208638a0670"
      },
      "cell_type": "code",
      "source": [
        "# ****************DEBUGGING*************************\n",
        "\n",
        "X = np.arange(10)\n",
        "X[:17]"
      ],
      "execution_count": 34,
      "outputs": [
        {
          "output_type": "execute_result",
          "data": {
            "text/plain": [
              "array([0, 1, 2, 3, 4, 5, 6, 7, 8, 9])"
            ]
          },
          "metadata": {
            "tags": []
          },
          "execution_count": 34
        }
      ]
    },
    {
      "metadata": {
        "colab_type": "text",
        "id": "gm-jUzQ8teCo"
      },
      "cell_type": "markdown",
      "source": [
        "### Train, Validation, Test Split"
      ]
    },
    {
      "metadata": {
        "colab_type": "code",
        "id": "8yZGBcHztBGC",
        "colab": {}
      },
      "cell_type": "code",
      "source": [
        "from sklearn.utils import shuffle\n",
        "embeddings, encoded_labels = shuffle(embeddings, encoded_labels)"
      ],
      "execution_count": 0,
      "outputs": []
    },
    {
      "metadata": {
        "colab_type": "code",
        "id": "0nYglhndtgYi",
        "outputId": "ab7aca87-7dd6-4483-97e9-3974d2410c08",
        "colab": {
          "base_uri": "https://localhost:8080/",
          "height": 85
        }
      },
      "cell_type": "code",
      "source": [
        "split_frac = 0.8\n",
        "\n",
        "## split data into training, validation, and test data (embeddings and labels, x and y)\n",
        "\n",
        "split_idx = int(len(embeddings)*split_frac)\n",
        "train_x, remaining_x = embeddings[:split_idx], embeddings[split_idx:]\n",
        "train_y, remaining_y = encoded_labels[:split_idx], encoded_labels[split_idx:]\n",
        "\n",
        "test_idx = int(len(remaining_x)*0.5)\n",
        "val_x, test_x = remaining_x[:test_idx], remaining_x[test_idx:]\n",
        "val_y, test_y = remaining_y[:test_idx], remaining_y[test_idx:]\n",
        "\n",
        "## print out the shapes of your resultant embeddings data\n",
        "print(\"\\t\\t\\tFeature Shapes:\")\n",
        "print(\"Train set: \\t\\t{}\".format(train_x.shape), \n",
        "      \"\\nValidation set: \\t{}\".format(val_x.shape),\n",
        "      \"\\nTest set: \\t\\t{}\".format(test_x.shape))"
      ],
      "execution_count": 80,
      "outputs": [
        {
          "output_type": "stream",
          "text": [
            "\t\t\tFeature Shapes:\n",
            "Train set: \t\t(129514, 62, 50) \n",
            "Validation set: \t(16189, 62, 50) \n",
            "Test set: \t\t(16190, 62, 50)\n"
          ],
          "name": "stdout"
        }
      ]
    },
    {
      "metadata": {
        "id": "4XxT6cunxmRn",
        "colab_type": "code",
        "colab": {
          "base_uri": "https://localhost:8080/",
          "height": 34
        },
        "outputId": "bd64ff9c-132b-4649-a2d3-8f8947352f97"
      },
      "cell_type": "code",
      "source": [
        "# ****************DEBUGGING*************************\n",
        "\n",
        "type(train_x)"
      ],
      "execution_count": 81,
      "outputs": [
        {
          "output_type": "execute_result",
          "data": {
            "text/plain": [
              "numpy.ndarray"
            ]
          },
          "metadata": {
            "tags": []
          },
          "execution_count": 81
        }
      ]
    },
    {
      "metadata": {
        "colab_type": "text",
        "id": "BV-wQQmb5d7j"
      },
      "cell_type": "markdown",
      "source": [
        "### DataLoader and Batching"
      ]
    },
    {
      "metadata": {
        "colab_type": "code",
        "id": "FHgkWFzb5eRF",
        "colab": {}
      },
      "cell_type": "code",
      "source": [
        "from torch.utils.data import TensorDataset, DataLoader\n",
        "\n",
        "# create Tensor datasets\n",
        "train_data = TensorDataset(torch.from_numpy(train_x), torch.from_numpy(train_y))\n",
        "valid_data = TensorDataset(torch.from_numpy(val_x), torch.from_numpy(val_y))\n",
        "test_data = TensorDataset(torch.from_numpy(test_x), torch.from_numpy(test_y))\n",
        "\n",
        "# dataloaders\n",
        "batch_size = 64\n",
        "\n",
        "# make sure the SHUFFLE your training data\n",
        "train_loader = DataLoader(train_data, shuffle=True, batch_size=batch_size,drop_last=True)\n",
        "valid_loader = DataLoader(valid_data, shuffle=True, batch_size=batch_size,drop_last=True)\n",
        "test_loader = DataLoader(test_data, shuffle=True, batch_size=batch_size,drop_last=True)"
      ],
      "execution_count": 0,
      "outputs": []
    },
    {
      "metadata": {
        "colab_type": "code",
        "id": "DxNTXSGU5mpX",
        "outputId": "d31e813b-5edf-40ac-e1e7-3da80f56ea6c",
        "colab": {
          "base_uri": "https://localhost:8080/",
          "height": 102
        }
      },
      "cell_type": "code",
      "source": [
        "# ****************DEBUGGING*************************\n",
        "\n",
        "print(len(train_loader))\n",
        "for tweets, labels in train_loader:\n",
        "  print(tweets.shape)\n",
        "  print(labels.shape)\n",
        "  break\n",
        "print(tweets[1][61][1].float())\n",
        "print(type(train_data))"
      ],
      "execution_count": 125,
      "outputs": [
        {
          "output_type": "stream",
          "text": [
            "2023\n",
            "torch.Size([64, 62, 50])\n",
            "torch.Size([64])\n",
            "tensor(0.1147)\n",
            "<class 'torch.utils.data.dataset.TensorDataset'>\n"
          ],
          "name": "stdout"
        }
      ]
    },
    {
      "metadata": {
        "colab_type": "text",
        "id": "AkI6wmX8gm6U"
      },
      "cell_type": "markdown",
      "source": [
        "### Building the model"
      ]
    },
    {
      "metadata": {
        "colab_type": "code",
        "id": "TdnI3kw0gm6V",
        "colab": {}
      },
      "cell_type": "code",
      "source": [
        "class TweetLSTM(nn.Module):\n",
        "    def __init__(self, input_size, hidden_size, num_classes):\n",
        "        super(TweetLSTM, self).__init__()\n",
        "#         self.emb = nn.Embedding.from_pretrained(glove.vectors)\n",
        "        self.hidden_size = hidden_size\n",
        "        self.rnn = nn.LSTM(input_size, hidden_size, batch_first=True)\n",
        "        self.fc = nn.Linear(hidden_size, num_classes)\n",
        "    \n",
        "    def forward(self, x):\n",
        "        # Look up the embedding\n",
        "#         x = self.emb(x)\n",
        "        # Set an initial hidden state and cell state\n",
        "        h0 = torch.zeros(1, x.size(0), self.hidden_size)\n",
        "        c0 = torch.zeros(1, x.size(0), self.hidden_size)\n",
        "        # Forward propagate the LSTM\n",
        "        out, _ = self.rnn(x, (h0, c0))\n",
        "        # Pass the output of the last time step to the classifier\n",
        "        out = self.fc(out[:, -1, :])\n",
        "        return out\n",
        "num_classes = 6\n",
        "model = TweetLSTM(input_size=50, hidden_size=50, num_classes=num_classes)"
      ],
      "execution_count": 0,
      "outputs": []
    },
    {
      "metadata": {
        "id": "JRgYRPCsDKUT",
        "colab_type": "code",
        "colab": {
          "base_uri": "https://localhost:8080/",
          "height": 34
        },
        "outputId": "9e502c3c-ec02-473b-a1c9-40ec06b21d43"
      },
      "cell_type": "code",
      "source": [
        "# ****************DEBUGGING*************************\n",
        "\n",
        "output = model(tweets.float())\n",
        "output.shape"
      ],
      "execution_count": 112,
      "outputs": [
        {
          "output_type": "execute_result",
          "data": {
            "text/plain": [
              "torch.Size([64, 6])"
            ]
          },
          "metadata": {
            "tags": []
          },
          "execution_count": 112
        }
      ]
    },
    {
      "metadata": {
        "colab_type": "code",
        "id": "90sHCtA9gm6c",
        "outputId": "08f217d9-d7d3-42c5-fdfa-77e8e72481e9",
        "colab": {
          "base_uri": "https://localhost:8080/",
          "height": 34
        }
      },
      "cell_type": "code",
      "source": [
        "def get_accuracy(model, data_loader):\n",
        "    correct, total = 0, 0\n",
        "    for tweets, labels in data_loader:\n",
        "        output = model(tweets.float())\n",
        "        pred = output.max(1, keepdim=True)[1]\n",
        "        correct += pred.eq(labels.view_as(pred)).sum().item()\n",
        "        total += labels.shape[0]\n",
        "    return float(correct) / float(total)\n",
        "\n",
        "get_accuracy(model, test_loader)\n"
      ],
      "execution_count": 117,
      "outputs": [
        {
          "output_type": "execute_result",
          "data": {
            "text/plain": [
              "0.18936011904761904"
            ]
          },
          "metadata": {
            "tags": []
          },
          "execution_count": 117
        }
      ]
    },
    {
      "metadata": {
        "colab_type": "code",
        "id": "XUd3LjcAgm6g",
        "colab": {}
      },
      "cell_type": "code",
      "source": [
        "def train_rnn_network(model, train, valid, num_epochs=5, learning_rate=1e-5):\n",
        "    criterion = nn.CrossEntropyLoss()\n",
        "    optimizer = torch.optim.Adam(model.parameters(), lr=learning_rate)\n",
        "    losses, train_acc, valid_acc = [], [], []\n",
        "    epochs = []\n",
        "    counter = 0\n",
        "    for epoch in range(num_epochs):\n",
        "        for tweets, labels in train:\n",
        "            counter += 1\n",
        "            optimizer.zero_grad()\n",
        "            pred = model(tweets.float())\n",
        "            loss = criterion(pred, labels)\n",
        "            loss.backward()\n",
        "            optimizer.step()\n",
        "            if counter % 1000 == 0:\n",
        "              print(\"Step %d of Epoch: %d; Loss %f \" % ( counter/1000 ,epoch+1,float(loss)))\n",
        "                \n",
        "        losses.append(float(loss))\n",
        "\n",
        "        epochs.append(epoch)\n",
        "        train_acc.append(get_accuracy(model, train_loader))\n",
        "        valid_acc.append(get_accuracy(model, valid_loader))\n",
        "        print(\"Final Result for Epoch %d; Loss %f; Train Acc %f; Val Acc %f\" % (\n",
        "              epoch+1, loss, train_acc[-1], valid_acc[-1]))\n",
        "        \n",
        "    # plotting\n",
        "    plt.title(\"Training Curve\")\n",
        "    plt.plot(losses, label=\"Train\")\n",
        "    plt.xlabel(\"Epoch\")\n",
        "    plt.ylabel(\"Loss\")\n",
        "    plt.show()\n",
        "\n",
        "    plt.title(\"Training Curve\")\n",
        "    plt.plot(epochs, train_acc, label=\"Train\")\n",
        "    plt.plot(epochs, valid_acc, label=\"Validation\")\n",
        "    plt.xlabel(\"Epoch\")\n",
        "    plt.ylabel(\"Accuracy\")\n",
        "    plt.legend(loc='best')\n",
        "    plt.show()"
      ],
      "execution_count": 0,
      "outputs": []
    },
    {
      "metadata": {
        "colab_type": "code",
        "id": "aPz9Hioigm6i",
        "outputId": "8dd14ccd-c711-40a7-d424-3a2e99fdcd48",
        "colab": {
          "base_uri": "https://localhost:8080/",
          "height": 5886
        }
      },
      "cell_type": "code",
      "source": [
        "# train the model for 100 epochs\n",
        "\n",
        "num_classes = 6\n",
        "model_lstm = TweetLSTM(input_size=50, hidden_size=50, num_classes=num_classes)\n",
        "train_rnn_network(model_lstm, train_loader, valid_loader, num_epochs=100, learning_rate=5e-5)\n",
        "get_accuracy(model_lstm, test_loader)"
      ],
      "execution_count": 121,
      "outputs": [
        {
          "output_type": "stream",
          "text": [
            "Step 1 of Epoch: 1; Loss 1.706933 \n",
            "Step 2 of Epoch: 1; Loss 1.805386 \n",
            "Final Result for Epoch 1; Loss 1.799720; Train Acc 0.235819; Val Acc 0.240203\n",
            "Step 3 of Epoch: 2; Loss 1.739516 \n",
            "Step 4 of Epoch: 2; Loss 1.789616 \n",
            "Final Result for Epoch 2; Loss 1.708502; Train Acc 0.235982; Val Acc 0.240947\n",
            "Step 5 of Epoch: 3; Loss 1.706198 \n",
            "Step 6 of Epoch: 3; Loss 1.764932 \n",
            "Final Result for Epoch 3; Loss 1.734878; Train Acc 0.237696; Val Acc 0.242870\n",
            "Step 7 of Epoch: 4; Loss 1.723544 \n",
            "Step 8 of Epoch: 4; Loss 1.760705 \n",
            "Final Result for Epoch 4; Loss 1.724967; Train Acc 0.240160; Val Acc 0.244792\n",
            "Step 9 of Epoch: 5; Loss 1.804523 \n",
            "Step 10 of Epoch: 5; Loss 1.762070 \n",
            "Final Result for Epoch 5; Loss 1.838528; Train Acc 0.242199; Val Acc 0.247148\n",
            "Step 11 of Epoch: 6; Loss 1.804238 \n",
            "Step 12 of Epoch: 6; Loss 1.712620 \n",
            "Final Result for Epoch 6; Loss 1.791514; Train Acc 0.245242; Val Acc 0.247024\n",
            "Step 13 of Epoch: 7; Loss 1.731811 \n",
            "Step 14 of Epoch: 7; Loss 1.723364 \n",
            "Final Result for Epoch 7; Loss 1.704733; Train Acc 0.247104; Val Acc 0.249256\n",
            "Step 15 of Epoch: 8; Loss 1.692966 \n",
            "Step 16 of Epoch: 8; Loss 1.774230 \n",
            "Final Result for Epoch 8; Loss 1.753106; Train Acc 0.248100; Val Acc 0.250124\n",
            "Step 17 of Epoch: 9; Loss 1.823737 \n",
            "Step 18 of Epoch: 9; Loss 1.763680 \n",
            "Final Result for Epoch 9; Loss 1.776582; Train Acc 0.247582; Val Acc 0.250744\n",
            "Step 19 of Epoch: 10; Loss 1.734521 \n",
            "Step 20 of Epoch: 10; Loss 1.739681 \n",
            "Final Result for Epoch 10; Loss 1.691937; Train Acc 0.250888; Val Acc 0.251302\n",
            "Step 21 of Epoch: 11; Loss 1.708723 \n",
            "Step 22 of Epoch: 11; Loss 1.738766 \n",
            "Final Result for Epoch 11; Loss 1.724026; Train Acc 0.253313; Val Acc 0.252046\n",
            "Step 23 of Epoch: 12; Loss 1.768544 \n",
            "Step 24 of Epoch: 12; Loss 1.778813 \n",
            "Final Result for Epoch 12; Loss 1.697061; Train Acc 0.254063; Val Acc 0.255952\n",
            "Step 25 of Epoch: 13; Loss 1.731819 \n",
            "Step 26 of Epoch: 13; Loss 1.715152 \n",
            "Final Result for Epoch 13; Loss 1.684064; Train Acc 0.256303; Val Acc 0.253596\n",
            "Step 27 of Epoch: 14; Loss 1.792490 \n",
            "Step 28 of Epoch: 14; Loss 1.732777 \n",
            "Final Result for Epoch 14; Loss 1.690057; Train Acc 0.257670; Val Acc 0.253162\n",
            "Step 29 of Epoch: 15; Loss 1.695646 \n",
            "Step 30 of Epoch: 15; Loss 1.832586 \n",
            "Final Result for Epoch 15; Loss 1.761873; Train Acc 0.258782; Val Acc 0.254712\n",
            "Step 31 of Epoch: 16; Loss 1.828248 \n",
            "Step 32 of Epoch: 16; Loss 1.706087 \n",
            "Final Result for Epoch 16; Loss 1.717410; Train Acc 0.260010; Val Acc 0.256076\n",
            "Step 33 of Epoch: 17; Loss 1.737424 \n",
            "Step 34 of Epoch: 17; Loss 1.692338 \n",
            "Final Result for Epoch 17; Loss 1.704036; Train Acc 0.261122; Val Acc 0.256696\n",
            "Step 35 of Epoch: 18; Loss 1.727401 \n",
            "Step 36 of Epoch: 18; Loss 1.787706 \n",
            "Final Result for Epoch 18; Loss 1.785291; Train Acc 0.262960; Val Acc 0.259239\n",
            "Step 37 of Epoch: 19; Loss 1.681989 \n",
            "Step 38 of Epoch: 19; Loss 1.740554 \n",
            "Final Result for Epoch 19; Loss 1.763467; Train Acc 0.262984; Val Acc 0.259921\n",
            "Step 39 of Epoch: 20; Loss 1.724484 \n",
            "Step 40 of Epoch: 20; Loss 1.796287 \n",
            "Final Result for Epoch 20; Loss 1.745421; Train Acc 0.264567; Val Acc 0.260231\n",
            "Step 41 of Epoch: 21; Loss 1.703547 \n",
            "Step 42 of Epoch: 21; Loss 1.718669 \n",
            "Final Result for Epoch 21; Loss 1.767794; Train Acc 0.266034; Val Acc 0.260665\n",
            "Step 43 of Epoch: 22; Loss 1.762565 \n",
            "Step 44 of Epoch: 22; Loss 1.724834 \n",
            "Final Result for Epoch 22; Loss 1.679677; Train Acc 0.265447; Val Acc 0.262029\n",
            "Step 45 of Epoch: 23; Loss 1.737286 \n",
            "Step 46 of Epoch: 23; Loss 1.715855 \n",
            "Final Result for Epoch 23; Loss 1.755008; Train Acc 0.266992; Val Acc 0.261905\n",
            "Step 47 of Epoch: 24; Loss 1.718989 \n",
            "Step 48 of Epoch: 24; Loss 1.656235 \n",
            "Final Result for Epoch 24; Loss 1.774453; Train Acc 0.267502; Val Acc 0.262215\n",
            "Step 49 of Epoch: 25; Loss 1.770248 \n",
            "Step 50 of Epoch: 25; Loss 1.742183 \n",
            "Final Result for Epoch 25; Loss 1.684280; Train Acc 0.268467; Val Acc 0.259549\n",
            "Step 51 of Epoch: 26; Loss 1.705784 \n",
            "Step 52 of Epoch: 26; Loss 1.672194 \n",
            "Final Result for Epoch 26; Loss 1.650220; Train Acc 0.269209; Val Acc 0.262401\n",
            "Step 53 of Epoch: 27; Loss 1.767418 \n",
            "Step 54 of Epoch: 27; Loss 1.727544 \n",
            "Final Result for Epoch 27; Loss 1.710936; Train Acc 0.269834; Val Acc 0.263269\n",
            "Step 55 of Epoch: 28; Loss 1.754018 \n",
            "Step 56 of Epoch: 28; Loss 1.650018 \n",
            "Final Result for Epoch 28; Loss 1.710154; Train Acc 0.271843; Val Acc 0.267051\n",
            "Step 57 of Epoch: 29; Loss 1.656932 \n",
            "Step 58 of Epoch: 29; Loss 1.671843 \n",
            "Final Result for Epoch 29; Loss 1.713021; Train Acc 0.271796; Val Acc 0.265563\n",
            "Step 59 of Epoch: 30; Loss 1.660922 \n",
            "Step 60 of Epoch: 30; Loss 1.725535 \n",
            "Final Result for Epoch 30; Loss 1.689687; Train Acc 0.272661; Val Acc 0.265811\n",
            "Step 61 of Epoch: 31; Loss 1.740784 \n",
            "Step 62 of Epoch: 31; Loss 1.693864 \n",
            "Final Result for Epoch 31; Loss 1.712195; Train Acc 0.273132; Val Acc 0.266059\n",
            "Step 63 of Epoch: 32; Loss 1.719902 \n",
            "Step 64 of Epoch: 32; Loss 1.717253 \n",
            "Final Result for Epoch 32; Loss 1.778278; Train Acc 0.273588; Val Acc 0.266121\n",
            "Step 65 of Epoch: 33; Loss 1.746389 \n",
            "Step 66 of Epoch: 33; Loss 1.627502 \n",
            "Final Result for Epoch 33; Loss 1.742995; Train Acc 0.274052; Val Acc 0.264447\n",
            "Step 67 of Epoch: 34; Loss 1.718046 \n",
            "Step 68 of Epoch: 34; Loss 1.797316 \n",
            "Final Result for Epoch 34; Loss 1.702699; Train Acc 0.275897; Val Acc 0.267547\n",
            "Step 69 of Epoch: 35; Loss 1.722753 \n",
            "Step 70 of Epoch: 35; Loss 1.743555 \n",
            "Final Result for Epoch 35; Loss 1.711296; Train Acc 0.275619; Val Acc 0.268043\n",
            "Step 71 of Epoch: 36; Loss 1.747743 \n",
            "Step 72 of Epoch: 36; Loss 1.623620 \n",
            "Final Result for Epoch 36; Loss 1.670415; Train Acc 0.276747; Val Acc 0.265811\n",
            "Step 73 of Epoch: 37; Loss 1.751503 \n",
            "Step 74 of Epoch: 37; Loss 1.629158 \n",
            "Final Result for Epoch 37; Loss 1.716037; Train Acc 0.277404; Val Acc 0.266865\n",
            "Step 75 of Epoch: 38; Loss 1.740389 \n",
            "Step 76 of Epoch: 38; Loss 1.673215 \n",
            "Final Result for Epoch 38; Loss 1.693183; Train Acc 0.277682; Val Acc 0.268539\n",
            "Step 77 of Epoch: 39; Loss 1.657387 \n",
            "Step 78 of Epoch: 39; Loss 1.631221 \n",
            "Final Result for Epoch 39; Loss 1.662635; Train Acc 0.278439; Val Acc 0.268477\n",
            "Step 79 of Epoch: 40; Loss 1.746116 \n",
            "Step 80 of Epoch: 40; Loss 1.680802 \n",
            "Final Result for Epoch 40; Loss 1.717738; Train Acc 0.278276; Val Acc 0.268353\n",
            "Step 81 of Epoch: 41; Loss 1.607872 \n",
            "Step 82 of Epoch: 41; Loss 1.749154 \n",
            "Final Result for Epoch 41; Loss 1.675727; Train Acc 0.278207; Val Acc 0.267237\n",
            "Step 83 of Epoch: 42; Loss 1.676952 \n",
            "Step 84 of Epoch: 42; Loss 1.799611 \n",
            "Final Result for Epoch 42; Loss 1.732386; Train Acc 0.278469; Val Acc 0.269965\n",
            "Step 85 of Epoch: 43; Loss 1.664797 \n",
            "Step 86 of Epoch: 43; Loss 1.651172 \n",
            "Final Result for Epoch 43; Loss 1.704668; Train Acc 0.279659; Val Acc 0.271081\n",
            "Step 87 of Epoch: 44; Loss 1.761005 \n",
            "Step 88 of Epoch: 44; Loss 1.727190 \n",
            "Step 89 of Epoch: 44; Loss 1.824909 \n",
            "Final Result for Epoch 44; Loss 1.649745; Train Acc 0.280678; Val Acc 0.269655\n",
            "Step 90 of Epoch: 45; Loss 1.581860 \n",
            "Step 91 of Epoch: 45; Loss 1.780847 \n",
            "Final Result for Epoch 45; Loss 1.664825; Train Acc 0.280516; Val Acc 0.271577\n",
            "Step 92 of Epoch: 46; Loss 1.638447 \n",
            "Step 93 of Epoch: 46; Loss 1.644735 \n",
            "Final Result for Epoch 46; Loss 1.745799; Train Acc 0.279937; Val Acc 0.270647\n",
            "Step 94 of Epoch: 47; Loss 1.663997 \n",
            "Step 95 of Epoch: 47; Loss 1.761831 \n",
            "Final Result for Epoch 47; Loss 1.745081; Train Acc 0.282524; Val Acc 0.271391\n",
            "Step 96 of Epoch: 48; Loss 1.853483 \n",
            "Step 97 of Epoch: 48; Loss 1.651925 \n",
            "Final Result for Epoch 48; Loss 1.724540; Train Acc 0.282231; Val Acc 0.271639\n",
            "Step 98 of Epoch: 49; Loss 1.713743 \n",
            "Step 99 of Epoch: 49; Loss 1.684505 \n",
            "Final Result for Epoch 49; Loss 1.790466; Train Acc 0.282625; Val Acc 0.271763\n",
            "Step 100 of Epoch: 50; Loss 1.717008 \n",
            "Step 101 of Epoch: 50; Loss 1.723247 \n",
            "Final Result for Epoch 50; Loss 1.654769; Train Acc 0.283451; Val Acc 0.271515\n",
            "Step 102 of Epoch: 51; Loss 1.650454 \n",
            "Step 103 of Epoch: 51; Loss 1.690654 \n",
            "Final Result for Epoch 51; Loss 1.723971; Train Acc 0.283312; Val Acc 0.271949\n",
            "Step 104 of Epoch: 52; Loss 1.647316 \n",
            "Step 105 of Epoch: 52; Loss 1.720898 \n",
            "Final Result for Epoch 52; Loss 1.806889; Train Acc 0.284092; Val Acc 0.271453\n",
            "Step 106 of Epoch: 53; Loss 1.812964 \n",
            "Step 107 of Epoch: 53; Loss 1.641127 \n",
            "Final Result for Epoch 53; Loss 1.783068; Train Acc 0.284702; Val Acc 0.272011\n",
            "Step 108 of Epoch: 54; Loss 1.681380 \n",
            "Step 109 of Epoch: 54; Loss 1.692863 \n",
            "Final Result for Epoch 54; Loss 1.687345; Train Acc 0.283258; Val Acc 0.273003\n",
            "Step 110 of Epoch: 55; Loss 1.684002 \n",
            "Step 111 of Epoch: 55; Loss 1.618405 \n",
            "Final Result for Epoch 55; Loss 1.748361; Train Acc 0.285652; Val Acc 0.272631\n",
            "Step 112 of Epoch: 56; Loss 1.591963 \n",
            "Step 113 of Epoch: 56; Loss 1.657012 \n",
            "Final Result for Epoch 56; Loss 1.763240; Train Acc 0.285436; Val Acc 0.272197\n",
            "Step 114 of Epoch: 57; Loss 1.664560 \n",
            "Step 115 of Epoch: 57; Loss 1.633165 \n",
            "Final Result for Epoch 57; Loss 1.813300; Train Acc 0.285475; Val Acc 0.274554\n",
            "Step 116 of Epoch: 58; Loss 1.736388 \n",
            "Step 117 of Epoch: 58; Loss 1.752744 \n",
            "Final Result for Epoch 58; Loss 1.687581; Train Acc 0.286525; Val Acc 0.275484\n",
            "Step 118 of Epoch: 59; Loss 1.750741 \n",
            "Step 119 of Epoch: 59; Loss 1.723135 \n",
            "Final Result for Epoch 59; Loss 1.731578; Train Acc 0.286610; Val Acc 0.274430\n",
            "Step 120 of Epoch: 60; Loss 1.728509 \n",
            "Step 121 of Epoch: 60; Loss 1.617741 \n",
            "Final Result for Epoch 60; Loss 1.676386; Train Acc 0.287035; Val Acc 0.273438\n",
            "Step 122 of Epoch: 61; Loss 1.746376 \n",
            "Step 123 of Epoch: 61; Loss 1.665975 \n",
            "Final Result for Epoch 61; Loss 1.695124; Train Acc 0.288047; Val Acc 0.273686\n",
            "Step 124 of Epoch: 62; Loss 1.578880 \n",
            "Step 125 of Epoch: 62; Loss 1.600114 \n",
            "Final Result for Epoch 62; Loss 1.748164; Train Acc 0.287105; Val Acc 0.274368\n",
            "Step 126 of Epoch: 63; Loss 1.706193 \n",
            "Step 127 of Epoch: 63; Loss 1.573270 \n",
            "Final Result for Epoch 63; Loss 1.697403; Train Acc 0.288039; Val Acc 0.275422\n",
            "Step 128 of Epoch: 64; Loss 1.674249 \n",
            "Step 129 of Epoch: 64; Loss 1.664063 \n",
            "Final Result for Epoch 64; Loss 1.739962; Train Acc 0.289661; Val Acc 0.274120\n",
            "Step 130 of Epoch: 65; Loss 1.785108 \n",
            "Step 131 of Epoch: 65; Loss 1.635290 \n",
            "Final Result for Epoch 65; Loss 1.696334; Train Acc 0.289120; Val Acc 0.277530\n",
            "Step 132 of Epoch: 66; Loss 1.759134 \n",
            "Step 133 of Epoch: 66; Loss 1.751579 \n",
            "Final Result for Epoch 66; Loss 1.715235; Train Acc 0.289947; Val Acc 0.276538\n",
            "Step 134 of Epoch: 67; Loss 1.767253 \n",
            "Step 135 of Epoch: 67; Loss 1.679321 \n",
            "Final Result for Epoch 67; Loss 1.687450; Train Acc 0.290696; Val Acc 0.275608\n",
            "Step 136 of Epoch: 68; Loss 1.703467 \n",
            "Step 137 of Epoch: 68; Loss 1.673571 \n",
            "Final Result for Epoch 68; Loss 1.810534; Train Acc 0.290681; Val Acc 0.276662\n",
            "Step 138 of Epoch: 69; Loss 1.508524 \n",
            "Step 139 of Epoch: 69; Loss 1.656018 \n",
            "Final Result for Epoch 69; Loss 1.748176; Train Acc 0.290132; Val Acc 0.279142\n",
            "Step 140 of Epoch: 70; Loss 1.697346 \n",
            "Step 141 of Epoch: 70; Loss 1.611669 \n",
            "Final Result for Epoch 70; Loss 1.583227; Train Acc 0.292071; Val Acc 0.276662\n",
            "Step 142 of Epoch: 71; Loss 1.708929 \n",
            "Step 143 of Epoch: 71; Loss 1.687022 \n",
            "Final Result for Epoch 71; Loss 1.696850; Train Acc 0.292187; Val Acc 0.279080\n",
            "Step 144 of Epoch: 72; Loss 1.662678 \n",
            "Step 145 of Epoch: 72; Loss 1.632505 \n",
            "Final Result for Epoch 72; Loss 1.666122; Train Acc 0.291723; Val Acc 0.276228\n",
            "Step 146 of Epoch: 73; Loss 1.720166 \n",
            "Step 147 of Epoch: 73; Loss 1.625469 \n",
            "Final Result for Epoch 73; Loss 1.682615; Train Acc 0.292789; Val Acc 0.279328\n",
            "Step 148 of Epoch: 74; Loss 1.686048 \n",
            "Step 149 of Epoch: 74; Loss 1.665648 \n",
            "Final Result for Epoch 74; Loss 1.701844; Train Acc 0.293206; Val Acc 0.277406\n",
            "Step 150 of Epoch: 75; Loss 1.600911 \n",
            "Step 151 of Epoch: 75; Loss 1.685212 \n",
            "Final Result for Epoch 75; Loss 1.714912; Train Acc 0.293809; Val Acc 0.279142\n",
            "Step 152 of Epoch: 76; Loss 1.674165 \n",
            "Step 153 of Epoch: 76; Loss 1.673231 \n",
            "Final Result for Epoch 76; Loss 1.679011; Train Acc 0.292982; Val Acc 0.278026\n",
            "Step 154 of Epoch: 77; Loss 1.735221 \n",
            "Step 155 of Epoch: 77; Loss 1.626290 \n",
            "Final Result for Epoch 77; Loss 1.674065; Train Acc 0.293260; Val Acc 0.280196\n",
            "Step 156 of Epoch: 78; Loss 1.655389 \n",
            "Step 157 of Epoch: 78; Loss 1.783934 \n",
            "Final Result for Epoch 78; Loss 1.669888; Train Acc 0.294473; Val Acc 0.280692\n",
            "Step 158 of Epoch: 79; Loss 1.575993 \n",
            "Step 159 of Epoch: 79; Loss 1.715054 \n",
            "Final Result for Epoch 79; Loss 1.641884; Train Acc 0.293253; Val Acc 0.279700\n",
            "Step 160 of Epoch: 80; Loss 1.619562 \n",
            "Step 161 of Epoch: 80; Loss 1.632466 \n",
            "Final Result for Epoch 80; Loss 1.604897; Train Acc 0.295577; Val Acc 0.280134\n",
            "Step 162 of Epoch: 81; Loss 1.668640 \n",
            "Step 163 of Epoch: 81; Loss 1.725195 \n",
            "Final Result for Epoch 81; Loss 1.648411; Train Acc 0.295052; Val Acc 0.281932\n",
            "Step 164 of Epoch: 82; Loss 1.720254 \n",
            "Step 165 of Epoch: 82; Loss 1.732056 \n",
            "Final Result for Epoch 82; Loss 1.762110; Train Acc 0.294203; Val Acc 0.281932\n",
            "Step 166 of Epoch: 83; Loss 1.662329 \n",
            "Step 167 of Epoch: 83; Loss 1.755241 \n",
            "Final Result for Epoch 83; Loss 1.719397; Train Acc 0.295832; Val Acc 0.283482\n",
            "Step 168 of Epoch: 84; Loss 1.649464 \n",
            "Step 169 of Epoch: 84; Loss 1.721587 \n",
            "Final Result for Epoch 84; Loss 1.657238; Train Acc 0.295979; Val Acc 0.283854\n",
            "Step 170 of Epoch: 85; Loss 1.734080 \n",
            "Step 171 of Epoch: 85; Loss 1.632138 \n",
            "Final Result for Epoch 85; Loss 1.675745; Train Acc 0.295369; Val Acc 0.280940\n",
            "Step 172 of Epoch: 86; Loss 1.600803 \n",
            "Step 173 of Epoch: 86; Loss 1.706015 \n",
            "Final Result for Epoch 86; Loss 1.520498; Train Acc 0.296937; Val Acc 0.280382\n",
            "Step 174 of Epoch: 87; Loss 1.710800 \n",
            "Step 175 of Epoch: 87; Loss 1.680476 \n",
            "Step 176 of Epoch: 87; Loss 1.704571 \n",
            "Final Result for Epoch 87; Loss 1.622774; Train Acc 0.297508; Val Acc 0.281932\n",
            "Step 177 of Epoch: 88; Loss 1.754248 \n",
            "Step 178 of Epoch: 88; Loss 1.735391 \n",
            "Final Result for Epoch 88; Loss 1.590904; Train Acc 0.296064; Val Acc 0.283792\n",
            "Step 179 of Epoch: 89; Loss 1.704417 \n",
            "Step 180 of Epoch: 89; Loss 1.709790 \n",
            "Final Result for Epoch 89; Loss 1.684675; Train Acc 0.297547; Val Acc 0.280134\n",
            "Step 181 of Epoch: 90; Loss 1.570023 \n",
            "Step 182 of Epoch: 90; Loss 1.599736 \n",
            "Final Result for Epoch 90; Loss 1.663761; Train Acc 0.298466; Val Acc 0.283978\n",
            "Step 183 of Epoch: 91; Loss 1.657105 \n",
            "Step 184 of Epoch: 91; Loss 1.796240 \n",
            "Final Result for Epoch 91; Loss 1.661211; Train Acc 0.297099; Val Acc 0.283668\n",
            "Step 185 of Epoch: 92; Loss 1.614895 \n",
            "Step 186 of Epoch: 92; Loss 1.609744 \n",
            "Final Result for Epoch 92; Loss 1.702240; Train Acc 0.297122; Val Acc 0.283110\n",
            "Step 187 of Epoch: 93; Loss 1.632088 \n",
            "Step 188 of Epoch: 93; Loss 1.673230 \n",
            "Final Result for Epoch 93; Loss 1.699953; Train Acc 0.298953; Val Acc 0.283730\n",
            "Step 189 of Epoch: 94; Loss 1.667522 \n",
            "Step 190 of Epoch: 94; Loss 1.698536 \n",
            "Final Result for Epoch 94; Loss 1.628218; Train Acc 0.299825; Val Acc 0.282986\n",
            "Step 191 of Epoch: 95; Loss 1.717299 \n",
            "Step 192 of Epoch: 95; Loss 1.683563 \n",
            "Final Result for Epoch 95; Loss 1.664358; Train Acc 0.300281; Val Acc 0.282428\n",
            "Step 193 of Epoch: 96; Loss 1.700125 \n",
            "Step 194 of Epoch: 96; Loss 1.635356 \n",
            "Final Result for Epoch 96; Loss 1.675279; Train Acc 0.298999; Val Acc 0.284784\n",
            "Step 195 of Epoch: 97; Loss 1.640614 \n",
            "Step 196 of Epoch: 97; Loss 1.669244 \n",
            "Final Result for Epoch 97; Loss 1.751275; Train Acc 0.298906; Val Acc 0.283358\n",
            "Step 197 of Epoch: 98; Loss 1.705631 \n",
            "Step 198 of Epoch: 98; Loss 1.657893 \n",
            "Final Result for Epoch 98; Loss 1.765047; Train Acc 0.300551; Val Acc 0.283606\n",
            "Step 199 of Epoch: 99; Loss 1.713452 \n",
            "Step 200 of Epoch: 99; Loss 1.755736 \n",
            "Final Result for Epoch 99; Loss 1.769494; Train Acc 0.300497; Val Acc 0.284660\n",
            "Step 201 of Epoch: 100; Loss 1.626065 \n",
            "Step 202 of Epoch: 100; Loss 1.790972 \n",
            "Final Result for Epoch 100; Loss 1.681718; Train Acc 0.299632; Val Acc 0.284536\n"
          ],
          "name": "stdout"
        },
        {
          "output_type": "display_data",
          "data": {
            "image/png": "[encoded data removed]",
            "text/plain": [
              "<Figure size 576x396 with 1 Axes>"
            ]
          },
          "metadata": {
            "tags": []
          }
        },
        {
          "output_type": "display_data",
          "data": {
            "image/png": "[encoded data removed]",
            "text/plain": [
              "<Figure size 576x396 with 1 Axes>"
            ]
          },
          "metadata": {
            "tags": []
          }
        },
        {
          "output_type": "execute_result",
          "data": {
            "text/plain": [
              "0.28422619047619047"
            ]
          },
          "metadata": {
            "tags": []
          },
          "execution_count": 121
        }
      ]
    },
    {
      "metadata": {
        "colab_type": "text",
        "id": "QA282W2hdZau"
      },
      "cell_type": "markdown",
      "source": [
        "### Saving the model"
      ]
    },
    {
      "metadata": {
        "colab_type": "code",
        "id": "iGIvu-ysukwk",
        "colab": {}
      },
      "cell_type": "code",
      "source": [
        "# torch.save(model_lstm.state_dict(), 'checkpoint.pth')"
      ],
      "execution_count": 0,
      "outputs": []
    },
    {
      "metadata": {
        "colab_type": "text",
        "id": "F0TSZ1O2dfo-"
      },
      "cell_type": "markdown",
      "source": [
        "### Loading the model"
      ]
    },
    {
      "metadata": {
        "colab_type": "code",
        "id": "h9plkTXediGq",
        "colab": {}
      },
      "cell_type": "code",
      "source": [
        "state_dict = torch.load('checkpoint.pth')"
      ],
      "execution_count": 0,
      "outputs": []
    },
    {
      "metadata": {
        "colab_type": "code",
        "id": "eGTAC6Wudkv3",
        "colab": {}
      },
      "cell_type": "code",
      "source": [
        "model_lstm.load_state_dict(state_dict)"
      ],
      "execution_count": 0,
      "outputs": []
    },
    {
      "metadata": {
        "colab_type": "text",
        "id": "FqbUdJgD0iec"
      },
      "cell_type": "markdown",
      "source": [
        "### Inference"
      ]
    },
    {
      "metadata": {
        "colab_type": "code",
        "id": "TMF8kPVVvh91",
        "colab": {}
      },
      "cell_type": "code",
      "source": [
        "# Tweet Test\n",
        "happy_tweet = 'Im happy'\n",
        "sad_tweet = 'Im sad'\n",
        "angry = 'Im angry'\n",
        "surprised_tweet = 'Im surprised'\n",
        "disgusted_tweet = 'Im disgusted'\n",
        "afraid_tweet = 'Im afraid'"
      ],
      "execution_count": 0,
      "outputs": []
    },
    {
      "metadata": {
        "colab_type": "code",
        "id": "eBnsPtrJ1NgH",
        "colab": {}
      },
      "cell_type": "code",
      "source": [
        "int_to_emotion = {0:'Happy', 1:'Sad' , 2:'Angry', 3:'Surprised', 4:'Disgusted', 5:'Afraid'}\n",
        "\n",
        "def predict(model, test_tweet, sequence_length=max(tweets_lens)):\n",
        "    \n",
        "    # create a list of list of test_tweet\n",
        "    tweet = []\n",
        "    tweet.append(test_tweet.split())\n",
        "    \n",
        "    # tweet_embedding -> [1 x seq_len x char2vec.dim], does padding if required\n",
        "    tweet_embedding = data_set_to_char2vec(tweet, sequence_length) \n",
        "    \n",
        "    # convert to tensor to pass into your model\n",
        "    embedding_tensor = torch.from_numpy(tweet_embedding)\n",
        "    \n",
        "    batch_size = embedding_tensor.size(0)\n",
        "    \n",
        "    # get the output from the model\n",
        "    output = model(embedding_tensor.float())\n",
        "    \n",
        "    # convert output probabilities to predicted class (0 or 1)\n",
        "    output_prob = nn.functional.softmax(output, dim=1)\n",
        "    top_n_pred = output_prob.topk(3, dim=1) ## top 3 preds\n",
        "    top_n_pred_prob, top_n_pred_index = top_n_pred[0].detach().numpy()[0], top_n_pred[1].detach().numpy()[0]\n",
        "    print(test_tweet)\n",
        "    print('Prediction:')\n",
        "    for prob,index in zip(top_n_pred_prob,top_n_pred_index):\n",
        "      print(int_to_emotion[index] , 'with' , str(int(prob*100))+\"%\", 'confidence')\n",
        "    print('---------------')"
      ],
      "execution_count": 0,
      "outputs": []
    },
    {
      "metadata": {
        "colab_type": "code",
        "id": "TyMRFkX43fhn",
        "outputId": "1fea6300-70f7-4ae5-c0bf-479cdea117ac",
        "colab": {
          "base_uri": "https://localhost:8080/",
          "height": 629
        }
      },
      "cell_type": "code",
      "source": [
        "predict(model_lstm, happy_tweet)\n",
        "predict(model_lstm, sad_tweet)\n",
        "predict(model_lstm, angry)\n",
        "predict(model_lstm, surprised_tweet)\n",
        "predict(model_lstm, disgusted_tweet)\n",
        "predict(model_lstm, afraid_tweet)"
      ],
      "execution_count": 128,
      "outputs": [
        {
          "output_type": "stream",
          "text": [
            "Im happy\n",
            "Prediction:\n",
            "Happy with 33% confidence\n",
            "Sad with 18% confidence\n",
            "Angry with 15% confidence\n",
            "---------------\n",
            "Im sad\n",
            "Prediction:\n",
            "Sad with 24% confidence\n",
            "Happy with 21% confidence\n",
            "Angry with 17% confidence\n",
            "---------------\n",
            "Im angry\n",
            "Prediction:\n",
            "Happy with 27% confidence\n",
            "Angry with 21% confidence\n",
            "Sad with 18% confidence\n",
            "---------------\n",
            "Im surprised\n",
            "Prediction:\n",
            "Sad with 24% confidence\n",
            "Angry with 21% confidence\n",
            "Disgusted with 16% confidence\n",
            "---------------\n",
            "Im disgusted\n",
            "Prediction:\n",
            "Sad with 29% confidence\n",
            "Disgusted with 22% confidence\n",
            "Angry with 19% confidence\n",
            "---------------\n",
            "Im afraid\n",
            "Prediction:\n",
            "Sad with 24% confidence\n",
            "Happy with 23% confidence\n",
            "Angry with 17% confidence\n",
            "---------------\n"
          ],
          "name": "stdout"
        }
      ]
    },
    {
      "metadata": {
        "colab_type": "code",
        "id": "AUhEs_I4hJ8M",
        "colab": {}
      },
      "cell_type": "code",
      "source": [
        "tweets = ['How the hellll did youu do thisss ','i cant tell how badddd I feel right nowww',\\\n",
        "          'shutttupp yooo dont mess with me', 'since youu left me, I am sooo depressed']"
      ],
      "execution_count": 0,
      "outputs": []
    },
    {
      "metadata": {
        "colab_type": "code",
        "id": "MollcketAEYZ",
        "outputId": "d108c04c-872c-4a6a-b455-734ba441bcbb",
        "colab": {
          "base_uri": "https://localhost:8080/",
          "height": 425
        }
      },
      "cell_type": "code",
      "source": [
        "for tweet in tweets:\n",
        "  predict(model_lstm, tweet)"
      ],
      "execution_count": 152,
      "outputs": [
        {
          "output_type": "stream",
          "text": [
            "How the hellll did youu do thisss \n",
            "Prediction:\n",
            "Happy with 22% confidence\n",
            "Surprised with 19% confidence\n",
            "Angry with 17% confidence\n",
            "---------------\n",
            "i cant tell how badddd I feel right nowww\n",
            "Prediction:\n",
            "Sad with 36% confidence\n",
            "Disgusted with 23% confidence\n",
            "Angry with 18% confidence\n",
            "---------------\n",
            "shutttupp yooo dont mess with me\n",
            "Prediction:\n",
            "Disgusted with 33% confidence\n",
            "Angry with 23% confidence\n",
            "Sad with 17% confidence\n",
            "---------------\n",
            "since youu left me, I am sooo depressed\n",
            "Prediction:\n",
            "Angry with 23% confidence\n",
            "Happy with 20% confidence\n",
            "Disgusted with 16% confidence\n",
            "---------------\n"
          ],
          "name": "stdout"
        }
      ]
    },
    {
      "metadata": {
        "colab_type": "code",
        "id": "ttE3WT7qAGgM",
        "colab": {}
      },
      "cell_type": "code",
      "source": [
        ""
      ],
      "execution_count": 0,
      "outputs": []
    }
  ]
}